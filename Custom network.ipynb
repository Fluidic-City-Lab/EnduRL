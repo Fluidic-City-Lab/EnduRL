{
 "cells": [
  {
   "cell_type": "code",
   "execution_count": null,
   "id": "fef6e8ac",
   "metadata": {},
   "outputs": [],
   "source": [
    "from flow.core.params import VehicleParams\n",
    "from flow.controllers import IDMController, ContinuousRouter\n",
    "from flow.core.params import SumoParams, EnvParams, InitialConfig, NetParams\n",
    "\n",
    "# Example\n",
    "from custom_network import myNetwork\n",
    "\n",
    "# Ours\n",
    "from custom_network import CustomBottleneckNetwork"
   ]
  },
  {
   "cell_type": "code",
   "execution_count": null,
   "id": "54c72b6a",
   "metadata": {},
   "outputs": [],
   "source": [
    "ADDITIONAL_NET_PARAMS = {\n",
    "    \"speed_limit\": 30,\n",
    "}\n",
    "\n",
    "additional_net_params = ADDITIONAL_NET_PARAMS.copy()\n",
    "net_params = NetParams(additional_params=additional_net_params)"
   ]
  },
  {
   "cell_type": "code",
   "execution_count": null,
   "id": "18bf9dbe",
   "metadata": {},
   "outputs": [],
   "source": [
    "vehicles = VehicleParams()\n",
    "vehicles.add(veh_id=\"human\",\n",
    "             acceleration_controller=(IDMController, {}),\n",
    "             routing_controller=(ContinuousRouter, {}),\n",
    "             num_vehicles=12)\n",
    "\n",
    "sim_params = SumoParams(sim_step=0.1, render=True)\n",
    "\n",
    "initial_config = InitialConfig(bunching=40)"
   ]
  },
  {
   "cell_type": "code",
   "execution_count": null,
   "id": "ac171956",
   "metadata": {},
   "outputs": [],
   "source": [
    "# These are environment params, different from Net_params\n",
    "\n",
    "from flow.envs.ring.accel import AccelEnv, ADDITIONAL_ENV_PARAMS\n",
    "env_params = EnvParams(additional_params=ADDITIONAL_ENV_PARAMS)"
   ]
  },
  {
   "cell_type": "code",
   "execution_count": null,
   "id": "0982b5c3",
   "metadata": {},
   "outputs": [],
   "source": [
    "from flow.core.experiment import Experiment\n",
    "\n",
    "flow_params = dict(\n",
    "    exp_tag='test_network',\n",
    "    env_name=AccelEnv,\n",
    "    network=CustomBottleneckNetwork,\n",
    "    simulator='traci',\n",
    "    sim=sim_params,\n",
    "    env=env_params,\n",
    "    net=net_params,\n",
    "    veh=vehicles,\n",
    "    initial=initial_config,\n",
    ")\n",
    "\n",
    "# number of time steps\n",
    "flow_params['env'].horizon = 1500\n",
    "exp = Experiment(flow_params)\n",
    "\n",
    "# run \n",
    "_ = exp.run(1)"
   ]
  },
  {
   "cell_type": "code",
   "execution_count": null,
   "id": "d79ff0c2",
   "metadata": {},
   "outputs": [],
   "source": []
  },
  {
   "cell_type": "code",
   "execution_count": null,
   "id": "7ec3660f",
   "metadata": {},
   "outputs": [],
   "source": []
  },
  {
   "cell_type": "markdown",
   "id": "c208dace",
   "metadata": {},
   "source": [
    "## Example"
   ]
  },
  {
   "cell_type": "code",
   "execution_count": null,
   "id": "41c001de",
   "metadata": {},
   "outputs": [],
   "source": [
    "ADDITIONAL_NET_PARAMS = {\n",
    "    \"radius\": 40,\n",
    "    \"num_lanes\": 1,\n",
    "    \"speed_limit\": 30,\n",
    "}\n",
    "\n",
    "additional_net_params = ADDITIONAL_NET_PARAMS.copy()\n",
    "net_params = NetParams(additional_params=additional_net_params)"
   ]
  },
  {
   "cell_type": "code",
   "execution_count": null,
   "id": "8b91e12a",
   "metadata": {},
   "outputs": [],
   "source": [
    "vehicles = VehicleParams()\n",
    "vehicles.add(veh_id=\"human\",\n",
    "             acceleration_controller=(IDMController, {}),\n",
    "             routing_controller=(ContinuousRouter, {}),\n",
    "             num_vehicles=22)\n",
    "\n",
    "sim_params = SumoParams(sim_step=0.1, render=True)\n",
    "\n",
    "initial_config = InitialConfig(bunching=40)"
   ]
  },
  {
   "cell_type": "code",
   "execution_count": null,
   "id": "77a6c80e",
   "metadata": {},
   "outputs": [],
   "source": [
    "from flow.envs.ring.accel import AccelEnv, ADDITIONAL_ENV_PARAMS\n",
    "\n",
    "env_params = EnvParams(additional_params=ADDITIONAL_ENV_PARAMS)"
   ]
  },
  {
   "cell_type": "code",
   "execution_count": null,
   "id": "46a99832",
   "metadata": {},
   "outputs": [],
   "source": [
    "from flow.core.experiment import Experiment\n",
    "\n",
    "flow_params = dict(\n",
    "    exp_tag='test_network',\n",
    "    env_name=AccelEnv,\n",
    "    network=myNetwork,\n",
    "    simulator='traci',\n",
    "    sim=sim_params,\n",
    "    env=env_params,\n",
    "    net=net_params,\n",
    "    veh=vehicles,\n",
    "    initial=initial_config,\n",
    ")\n",
    "\n",
    "# number of time steps\n",
    "flow_params['env'].horizon = 1500\n",
    "exp = Experiment(flow_params)\n",
    "\n",
    "# run \n",
    "_ = exp.run(1)"
   ]
  },
  {
   "cell_type": "code",
   "execution_count": null,
   "id": "918d450a",
   "metadata": {},
   "outputs": [],
   "source": []
  }
 ],
 "metadata": {
  "kernelspec": {
   "display_name": "Python 3 (ipykernel)",
   "language": "python",
   "name": "python3"
  },
  "language_info": {
   "codemirror_mode": {
    "name": "ipython",
    "version": 3
   },
   "file_extension": ".py",
   "mimetype": "text/x-python",
   "name": "python",
   "nbconvert_exporter": "python",
   "pygments_lexer": "ipython3",
   "version": "3.7.16"
  }
 },
 "nbformat": 4,
 "nbformat_minor": 5
}
