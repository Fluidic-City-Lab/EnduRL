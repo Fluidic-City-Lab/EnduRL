{
 "cells": [
  {
   "cell_type": "markdown",
   "metadata": {},
   "source": [
    "## Second: Revised NGSIM dataset\n",
    "[The revised NGSIM dataset](https://u.osu.edu/coifman.1/data-sets/), [paper](https://www.sciencedirect.com/science/article/pii/S0191261517300838)\n",
    "- Among the various highways/ roads in the original NGSIM dataset, the revised version only provides revised data for I-80 freeway for one camera (camera 6), in one time window 4:00 PM to 4:15 PM. So 15 minutes of data is used.\n",
    "\n",
    "Notes: \n",
    "- This is smaller dataset\n",
    "- Because of the problems: \n",
    "    1. No `X` information i.e., Global X, Local X, Space Headway are all empty. We cannot make use of this dataset\n",
    "\n",
    "    \n",
    "| The revised NGSIM dataset   |   15 minutes    |   500m  |       |    55 mph   |  0.1    |"
   ]
  },
  {
   "cell_type": "code",
   "execution_count": null,
   "metadata": {},
   "outputs": [],
   "source": [
    "datapath2 = './Data/revised_ngsim/CoifmanAndLi2017.mat'\n",
    "revised_ngsim = scipy.io.loadmat(datapath2)\n",
    "print(revised_ngsim)\n",
    "\n",
    "revised_ngsim_data = revised_ngsim['data']\n",
    "print(revised_ngsim_data.shape)\n",
    "# This is a numpy array of shape (215244, 18)\n",
    "\n",
    "# The headers are same as the original NGSIM dataset, create a pandas dataframe\n",
    "revised_ngsim_df = pd.DataFrame(revised_ngsim_data, columns=['Vehicle_ID', 'Frame_ID', 'Total_Frames', 'Global_Time', 'Local_X', 'Local_Y', 'Global_X', 'Global_Y', 'v_length', 'v_Width', 'v_Class', 'v_Vel', 'v_Acc', 'Lane_ID', 'Preceeding', 'Following', 'Space_Headway', 'Time_Headway'])\n",
    "revised_ngsim_df.head(150)"
   ]
  },
  {
   "cell_type": "code",
   "execution_count": null,
   "metadata": {},
   "outputs": [],
   "source": [
    "# TURNS OUT REVISED NGSIM HAS NOT DONE WNYTHING WITH Total Frames, Global X, Global Y, v_length, v_Width, Time_Headway, Space_Headway, v_Class\n",
    "columns_to_remove = ['Global_X', 'Global_Y','Local_Y','Frame_ID','Following','v_length','v_Width', 'Time_Headway', 'Space_Headway', 'Total_Frames']\n",
    "revised_ngsim_df = revised_ngsim_df.drop(columns_to_remove, axis=1)\n",
    "\n",
    "# print dtype of v_Class and possible values\n",
    "print(revised_ngsim_df['v_Class'].dtype)\n",
    "\n",
    "# print unique values and counts\n",
    "print(revised_ngsim_df['v_Class'].value_counts())\n",
    "\n",
    "# TURNS OUT REVISED NGSIM HAS NOT SEPARETED THE CLASSES\n",
    "# only select cars, v_Class = 2\n",
    "# revised_ngsim_df = revised_ngsim_df[revised_ngsim_df['v_Class'] == 2.0]\n",
    "# print(f\"Shape of the data: {revised_ngsim_df.shape}\")\n",
    "\n",
    "print(revised_ngsim_df['Local_X'].value_counts())\n"
   ]
  },
  {
   "cell_type": "markdown",
   "metadata": {},
   "source": [
    "\n",
    "#### Remove invalid lanes and filter by total time\n",
    "- remove lanes 5 and 6 (see image below)\n",
    "\n",
    " <img width=\"600\" alt=\"poles_lanes\" src=\"https://github.com/poudel-bibek/Beyond-Simulated-Drivers/assets/96804013/f7c1eefb-daae-48da-8ce6-a072ce072788\">\n",
    "<p>"
   ]
  },
  {
   "cell_type": "code",
   "execution_count": null,
   "metadata": {},
   "outputs": [],
   "source": [
    "# valid_lane_ids= [1, 2, 3, 4]\n",
    "# revised_ngsim_df = revised_ngsim_df[revised_ngsim_df['Lane_ID'].isin(valid_lane_ids)]\n",
    "\n",
    "# # Since we require total time to be greater than 5 seconds, all vehicles with total frames less than 50 should be removed\\\n",
    "# revised_ngsim_df = revised_ngsim_df[revised_ngsim_df['Total_Frames'] >= 50]\n",
    "\n",
    "# print(f\"Shape of the data: {revised_ngsim_df.shape}\")\n",
    "\n",
    "# # Convert the units from feet to meters\n",
    "# revised_ngsim_df['Local_X'] = revised_ngsim_df['Local_X'] * 0.3048"
   ]
  }
 ],
 "metadata": {
  "language_info": {
   "name": "python"
  }
 },
 "nbformat": 4,
 "nbformat_minor": 2
}
