{
 "cells": [
  {
   "cell_type": "code",
   "execution_count": 1,
   "id": "452fab6c",
   "metadata": {},
   "outputs": [],
   "source": [
    "from flow.envs.base import Env"
   ]
  },
  {
   "cell_type": "code",
   "execution_count": 2,
   "id": "b7af7286",
   "metadata": {},
   "outputs": [],
   "source": [
    "class DensityAwareBottleneckEnv(Env):\n",
    "    def __init__(self, env_params, sim_params, network, simulator='traci'):\n",
    "        for p in ADDITIONAL_ENV_PARAMS.keys():\n",
    "            if p not in env_params.additional_params:\n",
    "                raise KeyError(\n",
    "                    'Environment parameter \"{}\" not supplied'.format(p))\n",
    "\n",
    "        super().__init__(env_params, sim_params, network, simulator)\n",
    "        \n",
    "    @property\n",
    "    def action_space(self):\n",
    "        \"\"\"See class definition.\"\"\"\n",
    "        return Box(\n",
    "            low=-float(\"inf\"),\n",
    "            high=float(\"inf\"),\n",
    "            shape=(1, ),\n",
    "            dtype=np.float32)\n",
    "\n",
    "    @property\n",
    "    def observation_space(self):\n",
    "        \"\"\"See class definition.\"\"\"\n",
    "        return Box(\n",
    "            low=-float(\"inf\"),\n",
    "            high=float(\"inf\"),\n",
    "            shape=(1, ),\n",
    "            dtype=np.float32)\n",
    "    \n",
    "    def _apply_rl_actions(self, rl_actions):\n",
    "        \"\"\"See parent class.\n",
    "\n",
    "        To be implemented by child classes.\n",
    "        \"\"\"\n",
    "        pass\n",
    "\n",
    "    def compute_reward(self, rl_actions, **kwargs):\n",
    "        \"\"\"Outflow rate over last ten seconds normalized to max of 1.\"\"\"\n",
    "        pass\n",
    "\n",
    "    def get_state(self):\n",
    "        \"\"\"See class definition.\"\"\"\n",
    "        pass"
   ]
  },
  {
   "cell_type": "code",
   "execution_count": null,
   "id": "8bab623c",
   "metadata": {},
   "outputs": [],
   "source": []
  },
  {
   "cell_type": "code",
   "execution_count": null,
   "id": "3a8e156a",
   "metadata": {},
   "outputs": [],
   "source": []
  },
  {
   "cell_type": "code",
   "execution_count": null,
   "id": "18a56d3b",
   "metadata": {},
   "outputs": [],
   "source": []
  },
  {
   "cell_type": "code",
   "execution_count": 3,
   "id": "47414f4b",
   "metadata": {},
   "outputs": [],
   "source": [
    "from flow.core.params import SumoParams, EnvParams, InitialConfig, VehicleParams, InFlows, NetParams\n",
    "from flow.controllers import ContinuousRouter, SimLaneChangeController\n",
    "from flow.core.params import SumoCarFollowingParams, SumoLaneChangeParams\n",
    "\n",
    "# Ours\n",
    "from custom_network import CustomBottleneckNetwork"
   ]
  },
  {
   "cell_type": "code",
   "execution_count": 4,
   "id": "e94b0fc2",
   "metadata": {},
   "outputs": [],
   "source": [
    "HORIZON = 5000\n",
    "\n",
    "N_CPUS = 1\n",
    "N_ROLLOUTS = N_CPUS * 4 # Per iteration"
   ]
  },
  {
   "cell_type": "code",
   "execution_count": 5,
   "id": "44237c24",
   "metadata": {},
   "outputs": [],
   "source": [
    "vehicles = VehicleParams()\n",
    "vehicles.add(\n",
    "    veh_id=\"human\",\n",
    "    lane_change_controller=(SimLaneChangeController, {}),\n",
    "    routing_controller=(ContinuousRouter, {}),\n",
    "    car_following_params=SumoCarFollowingParams(\n",
    "        speed_mode=\"all_checks\",\n",
    "    ),\n",
    "    lane_change_params=SumoLaneChangeParams(\n",
    "        lane_change_mode=0,\n",
    "    ),\n",
    "    num_vehicles=1)\n",
    "    "
   ]
  },
  {
   "cell_type": "code",
   "execution_count": 6,
   "id": "fea2f413",
   "metadata": {},
   "outputs": [],
   "source": [
    "ADDITIONAL_NET_PARAMS = {\n",
    "    \"speed_limit\": 20,\n",
    "}\n",
    "\n",
    "additional_env_params = {}\n",
    "ADDITIONAL_ENV_PARAMS = {}\n",
    "additional_net_params = ADDITIONAL_NET_PARAMS.copy()"
   ]
  },
  {
   "cell_type": "code",
   "execution_count": 7,
   "id": "616ce920",
   "metadata": {},
   "outputs": [],
   "source": [
    "inflow = InFlows()\n",
    "inflow.add(\n",
    "    veh_type=\"human\",\n",
    "    edge=\"edge0\",\n",
    "    vehs_per_hour= 1000,\n",
    "    depart_lane=\"random\",\n",
    "    depart_speed=10)\n",
    "\n",
    "inflow.add(\n",
    "    veh_type=\"human\",\n",
    "    edge=\"edge1\",\n",
    "    vehs_per_hour= 1000,\n",
    "    depart_lane=\"random\",\n",
    "    depart_speed=10)"
   ]
  },
  {
   "cell_type": "code",
   "execution_count": 8,
   "id": "d5bae228",
   "metadata": {},
   "outputs": [],
   "source": [
    "flow_params = dict(\n",
    "    exp_tag = \"DensityAwareBottleneck\",\n",
    "    env_name=DensityAwareBottleneckEnv,\n",
    "    network=CustomBottleneckNetwork,\n",
    "    simulator='traci',\n",
    "    sim = SumoParams(sim_step=0.1, \n",
    "                        render=True,\n",
    "                        restart_instance=True),\n",
    "    env=EnvParams(\n",
    "        warmup_steps=8000,\n",
    "        sims_per_step=1,\n",
    "        horizon=HORIZON,\n",
    "        additional_params=additional_env_params,\n",
    "    ),\n",
    "    net = NetParams(\n",
    "    inflows=inflow,\n",
    "    additional_params=additional_net_params),\n",
    "    veh=vehicles,\n",
    "    initial=InitialConfig(\n",
    "        spacing=\"uniform\",\n",
    "        min_gap=5,\n",
    "        lanes_distribution=float(\"inf\"),\n",
    "        #edges_distribution=[\"2\", \"3\", \"4\", \"5\"],\n",
    "    ),\n",
    ")"
   ]
  },
  {
   "cell_type": "code",
   "execution_count": null,
   "id": "aeeb7196",
   "metadata": {},
   "outputs": [],
   "source": [
    "from flow.core.experiment import Experiment\n",
    "\n",
    "exp = Experiment(flow_params)\n",
    "\n",
    "# run \n",
    "_ = exp.run(1)"
   ]
  }
 ],
 "metadata": {
  "kernelspec": {
   "display_name": "Python 3 (ipykernel)",
   "language": "python",
   "name": "python3"
  },
  "language_info": {
   "codemirror_mode": {
    "name": "ipython",
    "version": 3
   },
   "file_extension": ".py",
   "mimetype": "text/x-python",
   "name": "python",
   "nbconvert_exporter": "python",
   "pygments_lexer": "ipython3",
   "version": "3.7.16"
  }
 },
 "nbformat": 4,
 "nbformat_minor": 5
}
