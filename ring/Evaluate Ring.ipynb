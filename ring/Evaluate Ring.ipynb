{
 "cells": [
  {
   "cell_type": "markdown",
   "id": "80fc7a9a",
   "metadata": {},
   "source": [
    "### Data collection for various metrics:\n",
    "\n",
    "Data Collection for Safety and Stability Metrics (Ignore the efficiency metrics even though they are displayed). \n",
    "\n",
    "Collection performed in 3 stages\n",
    "\n",
    "    A. Data collection for Safety and CAV (Controller Acceleration Variation) \n",
    "    B. Data collevtion for WAR (Wave Attenuation Ratio)\n",
    "    C. Data collection for Stability Plot\n",
    "\n",
    "### Notes:\n",
    "\n",
    "\n",
    "- Desired velocity change for FS May need monitoring (May not be set for all possible lengths)\n",
    "- PI can have failures, so have to turn ON render and manually check\n",
    "- LACC needs a different shock time (for no shock change time at eval)\n",
    "- Generated data will be saved in the folder `test_time_rollout`\n",
    "- We apply shocks after the systems have been stabilized\n",
    "- Default shock times are between 8000 and 11000 unless explicitly specified otherwise\n",
    "- Difference: For stability plot, the length is 270 whereas for WAR, the length is 260\n",
    "- For WAR num_rollours is set to 1\n",
    "\n",
    "### Penetration rates\n",
    "- num_controlled = 1 (5%), 4(20%), 9(40%), 13(16%) \n",
    "\n",
    "### Changes that need to be made to files: \n",
    "\n",
    "    1. \n",
    "    2. For Singleagent, Efficiency at test time, make the accel behavior zero from apply_rl_actions in density_aware_env (single agent version)\n",
    "    3. For Multiagent, Efficiency at train time. Make sure the leader is correct in multiagent_ring. Make sure all test time markers are turned off. Make sure to have correct number of NUM_AUTOMATED at 2 places\n",
    "    4. For Multiagent, Efficiency at test time, make sure the correct exp_configs are present in the same folder as test_rllib.py. in controllers for daware, set efficiency to True for TrainedAgent. \n",
    "    5. For Multiagent, Safety + Stability at test time, followers zero acceleration behavior is set from apply_rl_actions in density_aware_env (multiagent version)\n"
   ]
  },
  {
   "cell_type": "markdown",
   "id": "6d450403",
   "metadata": {},
   "source": [
    "### A and B together: (Data collection for Safety and CAV) + (Data collection for WAR)"
   ]
  },
  {
   "cell_type": "code",
   "execution_count": null,
   "id": "79ad67ee",
   "metadata": {},
   "outputs": [],
   "source": [
    "# set parameters here\n",
    "NUM_ROLLOUTS = 5\n",
    "LENGTH = 260\n"
   ]
  },
  {
   "cell_type": "markdown",
   "id": "10a8b4b7",
   "metadata": {},
   "source": [
    "### 1. (100%) IDM "
   ]
  },
  {
   "cell_type": "code",
   "execution_count": null,
   "id": "1a13954c",
   "metadata": {},
   "outputs": [],
   "source": [
    "!python classic.py --method idm --length $LENGTH --gen_emission --num_rollouts $NUM_ROLLOUTS --shock --render"
   ]
  },
  {
   "cell_type": "code",
   "execution_count": null,
   "id": "0b39068d",
   "metadata": {},
   "outputs": [],
   "source": [
    "!python eval_metrics.py --method idm --save_plots"
   ]
  },
  {
   "cell_type": "code",
   "execution_count": null,
   "id": "d6e7cb3b",
   "metadata": {},
   "outputs": [],
   "source": [
    "# IDM does not need WAR, un-applicable"
   ]
  },
  {
   "cell_type": "markdown",
   "id": "83b453ca",
   "metadata": {},
   "source": [
    "### 2. (5%) Single Vehicle Control"
   ]
  },
  {
   "cell_type": "markdown",
   "id": "921078dc",
   "metadata": {},
   "source": [
    "__FS__"
   ]
  },
  {
   "cell_type": "code",
   "execution_count": null,
   "id": "e27dee7e",
   "metadata": {},
   "outputs": [],
   "source": [
    "!python classic.py --method fs --length $LENGTH --gen_emission --num_rollouts $NUM_ROLLOUTS --shock --render --num_controlled 1"
   ]
  },
  {
   "cell_type": "code",
   "execution_count": null,
   "id": "bcfc4d86",
   "metadata": {},
   "outputs": [],
   "source": [
    "!python eval_metrics.py --method fs --save_plots"
   ]
  },
  {
   "cell_type": "code",
   "execution_count": null,
   "id": "5ba7e3f5",
   "metadata": {},
   "outputs": [],
   "source": [
    "# Data for WAR\n",
    "!python classic.py --method fs --stability --length $LENGTH --num_rollouts 1 --gen_emission --render --num_controlled 1"
   ]
  },
  {
   "cell_type": "code",
   "execution_count": null,
   "id": "eb56fb49",
   "metadata": {},
   "outputs": [],
   "source": [
    "# WAR\n",
    "!python eval_plots.py --method fs "
   ]
  },
  {
   "cell_type": "markdown",
   "id": "3ece935c",
   "metadata": {},
   "source": [
    "__PIwS__\n",
    "- This requires verifying if the particular run was `SUCCESS` or `FAIL`\n",
    "- i.e., the controller may fail to stabilize the system"
   ]
  },
  {
   "cell_type": "code",
   "execution_count": null,
   "id": "a0c191eb",
   "metadata": {},
   "outputs": [],
   "source": [
    "# For CAV (first: get the data)\n",
    "!python classic.py --method piws --length $LENGTH --gen_emission --num_rollouts $NUM_ROLLOUTS --shock --render --num_controlled 1\n",
    "\n",
    "# Stable or not before shocks were applied\n",
    "# 1. Stable \n",
    "# 2. Stable\n",
    "# 3. Stable\n",
    "# 4. Stable\n",
    "# 5. Stable\n"
   ]
  },
  {
   "cell_type": "code",
   "execution_count": null,
   "id": "d9fed5bd",
   "metadata": {},
   "outputs": [],
   "source": [
    "# use the eval_metrics code\n",
    "!python eval_metrics.py --method pi --save_plots"
   ]
  },
  {
   "cell_type": "code",
   "execution_count": null,
   "id": "7b34226b",
   "metadata": {},
   "outputs": [],
   "source": [
    "# Data for WAR (Check if it stabilized or not)\n",
    "!python classic.py --method piws --stability --length $LENGTH --num_rollouts 1 --gen_emission --render --num_controlled 1\n",
    "\n",
    "# Stable or not before shocks were applied\n",
    "# 1. \n",
    "# 2. \n",
    "# 3. \n",
    "# 4. \n",
    "# 5. \n"
   ]
  },
  {
   "cell_type": "code",
   "execution_count": null,
   "id": "bc04f2a0",
   "metadata": {},
   "outputs": [],
   "source": [
    "!python eval_plots.py --method pi "
   ]
  },
  {
   "cell_type": "markdown",
   "id": "335a7f74",
   "metadata": {},
   "source": [
    "#### BCM"
   ]
  },
  {
   "cell_type": "code",
   "execution_count": null,
   "id": "b2a6044e",
   "metadata": {},
   "outputs": [],
   "source": [
    "# For CAV (first get the data)\n",
    "!python classic.py --method bcm --length $LENGTH --num_rollouts $NUM_ROLLOUTS --gen_emission --shock --render --num_controlled 1"
   ]
  },
  {
   "cell_type": "code",
   "execution_count": null,
   "id": "9da87c43",
   "metadata": {},
   "outputs": [],
   "source": [
    "# use the eval_metrics code\n",
    "!python eval_metrics.py --method bcm --save_plots"
   ]
  },
  {
   "cell_type": "code",
   "execution_count": null,
   "id": "a255885b",
   "metadata": {},
   "outputs": [],
   "source": [
    "# No WAR. BCM is Unstable. But useful for later, to estimate in bottleneck.\n",
    "!python classic.py --method bcm --stability --length $LENGTH --gen_emission\\\n",
    "--num_rollouts 5 --render --num_controlled 1"
   ]
  },
  {
   "cell_type": "code",
   "execution_count": null,
   "id": "b9b54c1e",
   "metadata": {},
   "outputs": [],
   "source": [
    "!python eval_plots.py --method bcm "
   ]
  },
  {
   "cell_type": "markdown",
   "id": "af9b69ae",
   "metadata": {},
   "source": [
    "#### LACC"
   ]
  },
  {
   "cell_type": "code",
   "execution_count": null,
   "id": "b850cb32",
   "metadata": {},
   "outputs": [],
   "source": [
    "# For CAV (first get the data)\n",
    "!python classic.py --method lacc --length $LENGTH --num_rollouts $NUM_ROLLOUTS --gen_emission --shock --render --shock_start_time 11400 --shock_end_time 15000 --num_controlled 1\n"
   ]
  },
  {
   "cell_type": "code",
   "execution_count": null,
   "id": "b685f370",
   "metadata": {},
   "outputs": [],
   "source": [
    "# use the eval_metrics code\n",
    "!python eval_metrics.py --method lacc --start_time 11400 --end_time 15000 --save_plots"
   ]
  },
  {
   "cell_type": "code",
   "execution_count": null,
   "id": "e42ea6e0",
   "metadata": {},
   "outputs": [],
   "source": [
    "# No WAR. LACC is Unstable. But useful for later, to estimate in bottleneck.\n",
    "# Data for WAR\n",
    "!python classic.py --method lacc --stability --length $LENGTH --num_rollouts 5 --gen_emission\\\n",
    "--render --num_controlled 1 --shock_start_time 11400 --shock_end_time 15000"
   ]
  },
  {
   "cell_type": "code",
   "execution_count": null,
   "id": "e61b1d2e",
   "metadata": {},
   "outputs": [],
   "source": [
    "# WAR\n",
    "!python eval_plots.py --method lacc --start_time 11400 --end_time 15000 --propogate_time 200"
   ]
  },
  {
   "cell_type": "markdown",
   "id": "2a21c4d5",
   "metadata": {},
   "source": [
    "__Wu et. al.__"
   ]
  },
  {
   "cell_type": "code",
   "execution_count": null,
   "id": "259c3633",
   "metadata": {},
   "outputs": [],
   "source": [
    "# For CAV (first get the data)\n",
    "!python test_rllib.py ./Wu_et_al/Trained_policies/5_percent/PPO_WaveAttenuationPOEnv-v0_25b5cb6e_2022-01-26_10-58-12e9f4i3ao 50 \\\n",
    "--method wu --length $LENGTH --num_rollouts $NUM_ROLLOUTS --gen_emission --shock --render --num_controlled 1\n"
   ]
  },
  {
   "cell_type": "code",
   "execution_count": null,
   "id": "a9c525a6",
   "metadata": {},
   "outputs": [],
   "source": [
    "# For CAV\n",
    "!python eval_metrics.py --method wu --save_plots"
   ]
  },
  {
   "cell_type": "code",
   "execution_count": null,
   "id": "3b825ba3",
   "metadata": {
    "scrolled": false
   },
   "outputs": [],
   "source": [
    "# Data for WAR\n",
    "!python test_rllib.py ./Wu_et_al/Trained_policies/5_percent/PPO_WaveAttenuationPOEnv-v0_25b5cb6e_2022-01-26_10-58-12e9f4i3ao 50\\\n",
    "--method wu --shock --stability --length $LENGTH --gen_emission --num_rollouts 1 --render --num_controlled 1\n"
   ]
  },
  {
   "cell_type": "code",
   "execution_count": null,
   "id": "d686083c",
   "metadata": {},
   "outputs": [],
   "source": [
    "!python eval_plots.py --method wu "
   ]
  },
  {
   "cell_type": "markdown",
   "id": "10383ecc",
   "metadata": {},
   "source": [
    "__Ours (1x)__\n",
    "- The local zone is set to 50m at training. And it is set to 50m here as well."
   ]
  },
  {
   "cell_type": "code",
   "execution_count": null,
   "id": "b5dec891",
   "metadata": {},
   "outputs": [],
   "source": [
    "# For CAV (Safety + Stability)\n",
    "!python test_rllib.py ./Ours/Trained_policies/5_percent/PPO_DensityAwareRLEnv-v0_5dfded14_2024-02-07_09-58-351869u4p3 168\\\n",
    "--method ours --length $LENGTH --num_rollouts $NUM_ROLLOUTS --gen_emission --shock --render --num_controlled 1\n"
   ]
  },
  {
   "cell_type": "code",
   "execution_count": null,
   "id": "8fa53ab2",
   "metadata": {},
   "outputs": [],
   "source": [
    "# Only look at safety and stability\n",
    "!python eval_metrics.py --method ours --save_plots"
   ]
  },
  {
   "cell_type": "code",
   "execution_count": null,
   "id": "80a41d1f",
   "metadata": {
    "scrolled": true
   },
   "outputs": [],
   "source": [
    "# For CAV (Efficiency)\n",
    "\n",
    "!python test_rllib.py ./Ours/Trained_policies/5_percent/PPO_DensityAwareRLEnv-v0_6106dcf6_2024-02-08_12-42-07_7vnf1n4 200\\\n",
    "--method ours --length $LENGTH --num_rollouts $NUM_ROLLOUTS --gen_emission --shock --render --num_controlled 1"
   ]
  },
  {
   "cell_type": "code",
   "execution_count": null,
   "id": "23e47519",
   "metadata": {
    "scrolled": true
   },
   "outputs": [],
   "source": [
    "# Only look at Efficiency (Wipe out the previous data)\n",
    "!python eval_metrics.py --method ours --save_plots"
   ]
  },
  {
   "cell_type": "code",
   "execution_count": null,
   "id": "e1e67237",
   "metadata": {},
   "outputs": [],
   "source": [
    "# Data for WAR (Take the Safety + Stability Policy)\n",
    "!python test_rllib.py ./Ours/Trained_policies/5_percent/PPO_DensityAwareRLEnv-v0_5dfded14_2024-02-07_09-58-351869u4p3 168\\\n",
    "--method ours --shock --stability --length $LENGTH --gen_emission --num_rollouts 1 --render --num_controlled 1\n"
   ]
  },
  {
   "cell_type": "code",
   "execution_count": null,
   "id": "40df74e7",
   "metadata": {},
   "outputs": [],
   "source": [
    "!python eval_plots.py --method ours"
   ]
  },
  {
   "cell_type": "markdown",
   "id": "3fad4410",
   "metadata": {},
   "source": [
    "### 3. (20%) Multiple Vehicle Control"
   ]
  },
  {
   "cell_type": "markdown",
   "id": "7159d694",
   "metadata": {},
   "source": [
    "### FS"
   ]
  },
  {
   "cell_type": "code",
   "execution_count": null,
   "id": "a17ce8b7",
   "metadata": {},
   "outputs": [],
   "source": [
    "!python classic.py --method fs --length $LENGTH --gen_emission --num_rollouts $NUM_ROLLOUTS --shock --render --num_controlled 4\n"
   ]
  },
  {
   "cell_type": "code",
   "execution_count": null,
   "id": "63dcaa68",
   "metadata": {},
   "outputs": [],
   "source": [
    "# use the eval_metrics code\n",
    "!python eval_metrics.py --method fs --save_plots"
   ]
  },
  {
   "cell_type": "code",
   "execution_count": null,
   "id": "b4b4345d",
   "metadata": {},
   "outputs": [],
   "source": [
    "# Data for WAR. Desired velocity should be set to 4.82 here\n",
    "!python classic.py --method fs --stability --length $LENGTH --num_rollouts 5 --gen_emission\\\n",
    "--render --num_controlled 4\n"
   ]
  },
  {
   "cell_type": "code",
   "execution_count": null,
   "id": "3cc087e9",
   "metadata": {},
   "outputs": [],
   "source": [
    "# WAR\n",
    "!python eval_plots.py --method fs "
   ]
  },
  {
   "cell_type": "markdown",
   "id": "4fee9c6a",
   "metadata": {},
   "source": [
    "__PIwS__"
   ]
  },
  {
   "cell_type": "code",
   "execution_count": null,
   "id": "112b5460",
   "metadata": {},
   "outputs": [],
   "source": [
    "!python classic.py --method piws --length $LENGTH --gen_emission --num_rollouts $NUM_ROLLOUTS --shock --render --num_controlled 4\n"
   ]
  },
  {
   "cell_type": "code",
   "execution_count": null,
   "id": "797cffe1",
   "metadata": {},
   "outputs": [],
   "source": [
    "!python eval_metrics.py --method pi --save_plots"
   ]
  },
  {
   "cell_type": "code",
   "execution_count": null,
   "id": "2e65c433",
   "metadata": {},
   "outputs": [],
   "source": [
    "# Data for WAR (Check if it stabilized or not)\n",
    "!python classic.py --method piws --stability --length $LENGTH --num_rollouts 5 --gen_emission\\\n",
    "--render --num_controlled 4\n"
   ]
  },
  {
   "cell_type": "code",
   "execution_count": null,
   "id": "d7eb760c",
   "metadata": {},
   "outputs": [],
   "source": [
    "!python eval_plots.py --method pi "
   ]
  },
  {
   "cell_type": "markdown",
   "id": "7af3bd4c",
   "metadata": {},
   "source": [
    "__BCM__"
   ]
  },
  {
   "cell_type": "code",
   "execution_count": null,
   "id": "8271b524",
   "metadata": {},
   "outputs": [],
   "source": [
    "# For CAV (first get the data)\n",
    "!python classic.py --method bcm --length $LENGTH --num_rollouts $NUM_ROLLOUTS --gen_emission --shock --render --num_controlled 4"
   ]
  },
  {
   "cell_type": "code",
   "execution_count": null,
   "id": "3c079411",
   "metadata": {},
   "outputs": [],
   "source": [
    "# use the eval_metrics code\n",
    "!python eval_metrics.py --method bcm --save_plots"
   ]
  },
  {
   "cell_type": "code",
   "execution_count": null,
   "id": "ad643d9d",
   "metadata": {},
   "outputs": [],
   "source": [
    "# Data for WAR\n",
    "!python classic.py --method bcm --stability --length $LENGTH --gen_emission\\\n",
    "--num_rollouts 5 --render --num_controlled 4\n"
   ]
  },
  {
   "cell_type": "code",
   "execution_count": null,
   "id": "54be427f",
   "metadata": {},
   "outputs": [],
   "source": [
    "!python eval_plots.py --method bcm "
   ]
  },
  {
   "cell_type": "markdown",
   "id": "1ac836de",
   "metadata": {},
   "source": [
    "__LACC__"
   ]
  },
  {
   "cell_type": "code",
   "execution_count": null,
   "id": "b0f9df61",
   "metadata": {},
   "outputs": [],
   "source": [
    "# For CAV (first get the data)\n",
    "!python classic.py --method lacc --length $LENGTH --num_rollouts 5 --gen_emission\\\n",
    "--shock --render --num_controlled 4 --shock_start_time 11400 --shock_end_time 15000\n"
   ]
  },
  {
   "cell_type": "code",
   "execution_count": null,
   "id": "845aba29",
   "metadata": {},
   "outputs": [],
   "source": [
    "# use the eval_metrics code\n",
    "!python eval_metrics.py --method lacc --start_time 11400 --end_time 15000 --save_plots"
   ]
  },
  {
   "cell_type": "code",
   "execution_count": null,
   "id": "63605979",
   "metadata": {},
   "outputs": [],
   "source": [
    "# Unstable so no WAR"
   ]
  },
  {
   "cell_type": "markdown",
   "id": "e86bf58e",
   "metadata": {},
   "source": [
    "__Wu et. al. (20%)__"
   ]
  },
  {
   "cell_type": "code",
   "execution_count": null,
   "id": "9a0f3e20",
   "metadata": {},
   "outputs": [],
   "source": [
    "# Agents are supposed to be dispersed.\n",
    "# Stabalization time looks high, shocks can start later\n",
    "!python test_rllib.py ./Wu_et_al/Trained_policies/20_percent/PPO_MultiAgentWaveAttenuationPOEnv-v1_436e49a2_2024-02-12_13-33-49wdl9scs5 174\\\n",
    "--method wu --length $LENGTH --num_rollouts $NUM_ROLLOUTS --gen_emission --shock --render --num_controlled 4\n"
   ]
  },
  {
   "cell_type": "code",
   "execution_count": null,
   "id": "70f4e4cc",
   "metadata": {},
   "outputs": [],
   "source": [
    "# For CAV\n",
    "!python eval_metrics.py --method wu --save_plots"
   ]
  },
  {
   "cell_type": "code",
   "execution_count": null,
   "id": "68103d15",
   "metadata": {},
   "outputs": [],
   "source": [
    "# Data for WAR (Take the Safety + Stability Policy)\n",
    "!python test_rllib.py ./Wu_et_al/Trained_policies/20_percent/PPO_MultiAgentWaveAttenuationPOEnv-v1_436e49a2_2024-02-12_13-33-49wdl9scs5 174\\\n",
    "--method wu --shock --stability --length $LENGTH --gen_emission --num_rollouts 1 --render --num_controlled 4\n"
   ]
  },
  {
   "cell_type": "code",
   "execution_count": null,
   "id": "69a4270f",
   "metadata": {},
   "outputs": [],
   "source": [
    "!python eval_plots.py --method wu"
   ]
  },
  {
   "cell_type": "markdown",
   "id": "0693ef9a",
   "metadata": {},
   "source": [
    "__Ours (20%)__\n",
    "\n",
    "- The local zone of __leader__ is set to 50m at training. It is kept at 50m here as well."
   ]
  },
  {
   "cell_type": "code",
   "execution_count": null,
   "id": "453b1225",
   "metadata": {},
   "outputs": [],
   "source": [
    "#### Safety + Stability ####\n",
    "# For CAV (first get the data). Copy the exp_configs to a folder where test_rllib.py is located\n",
    "# Make sure efficiency is set to False in controller\n",
    "# Make sure the estimate is turned ON in multiagent env (in 2 places)\n",
    "!python test_rllib.py ./Ours/Trained_policies/20_percent/PPO_MultiAgentDensityAwareRLEnv-v1_afca7452_2024-02-11_14-35-18pt1771a1 140\\\n",
    "--method ours4x --length $LENGTH --num_rollouts 20 --gen_emission --shock --render --num_controlled 4\n"
   ]
  },
  {
   "cell_type": "code",
   "execution_count": null,
   "id": "abf494de",
   "metadata": {},
   "outputs": [],
   "source": [
    "# Since !human is present in the code, this works seamlessly\n",
    "!python eval_metrics.py --method ours4x --save_plots"
   ]
  },
  {
   "cell_type": "code",
   "execution_count": null,
   "id": "d4f8f5e0",
   "metadata": {},
   "outputs": [],
   "source": [
    "#### Efficiency ####\n",
    "# Make sure to set the efficiency to true at test time in the controller file and have those files at exp_configs\n",
    "# Make sure to have the right leader\n",
    "!python test_rllib.py ./Ours/Trained_policies/20_percent/PPO_MultiAgentDensityAwareRLEnv-v1_33361ae0_2024-02-11_20-29-43f1pzfgrz 140\\\n",
    "--method ours4x --length $LENGTH --num_rollouts $NUM_ROLLOUTS --gen_emission --shock --render --num_controlled 4\n"
   ]
  },
  {
   "cell_type": "code",
   "execution_count": null,
   "id": "23635c80",
   "metadata": {},
   "outputs": [],
   "source": [
    "!python eval_metrics.py --method ours4x --save_plots"
   ]
  },
  {
   "cell_type": "code",
   "execution_count": null,
   "id": "ca094d40",
   "metadata": {},
   "outputs": [],
   "source": [
    "# Data for WAR (taken on the Safety + Stability model). Make sure everything is tuned for Safety + Stability\n",
    "!python test_rllib.py ./Ours/Trained_policies/20_percent/PPO_MultiAgentDensityAwareRLEnv-v1_afca7452_2024-02-11_14-35-18pt1771a1 140\\\n",
    "--method ours4x --shock --stability --length $LENGTH --gen_emission --num_rollouts 1 --render --num_controlled 4\n"
   ]
  },
  {
   "cell_type": "code",
   "execution_count": null,
   "id": "35922bf1",
   "metadata": {},
   "outputs": [],
   "source": [
    "!python eval_plots.py --method ours4x"
   ]
  },
  {
   "cell_type": "markdown",
   "id": "2d822c1a",
   "metadata": {},
   "source": [
    "### 4. (40%) Multiple Vehicle Control\n",
    "\n",
    "- 9 vehicles out of 22"
   ]
  },
  {
   "cell_type": "code",
   "execution_count": null,
   "id": "28dc31b1",
   "metadata": {},
   "outputs": [],
   "source": [
    "# set parameters here\n",
    "NUM_ROLLOUTS = 5\n",
    "LENGTH = 260\n",
    "NUM_CONTROLLED = 9"
   ]
  },
  {
   "cell_type": "markdown",
   "id": "3c3b71f9",
   "metadata": {},
   "source": [
    "### FS"
   ]
  },
  {
   "cell_type": "code",
   "execution_count": null,
   "id": "ea789370",
   "metadata": {},
   "outputs": [],
   "source": [
    "!python classic.py --method fs --length $LENGTH\\\n",
    "--gen_emission --num_rollouts $NUM_ROLLOUTS --shock --render --num_controlled $NUM_CONTROLLED"
   ]
  },
  {
   "cell_type": "code",
   "execution_count": null,
   "id": "8f222d36",
   "metadata": {},
   "outputs": [],
   "source": [
    "# use the eval_metrics code\n",
    "!python eval_metrics.py --method fs --save_plots"
   ]
  },
  {
   "cell_type": "code",
   "execution_count": null,
   "id": "4e2c1890",
   "metadata": {},
   "outputs": [],
   "source": [
    "# Data for WAR Desired velocity should be set to 4.82 here\n",
    "!python classic.py --method fs --stability --length $LENGTH\\\n",
    "--num_rollouts 5 --gen_emission --render --num_controlled $NUM_CONTROLLED\n"
   ]
  },
  {
   "cell_type": "code",
   "execution_count": null,
   "id": "620d9c89",
   "metadata": {},
   "outputs": [],
   "source": [
    "# WAR\n",
    "!python eval_plots.py --method fs "
   ]
  },
  {
   "cell_type": "markdown",
   "id": "bbe68d3d",
   "metadata": {},
   "source": [
    "### PIwS"
   ]
  },
  {
   "cell_type": "code",
   "execution_count": null,
   "id": "1419da7c",
   "metadata": {},
   "outputs": [],
   "source": [
    "!python classic.py --method piws --length $LENGTH\\\n",
    "--gen_emission --num_rollouts $NUM_ROLLOUTS --shock --render --num_controlled $NUM_CONTROLLED\n"
   ]
  },
  {
   "cell_type": "code",
   "execution_count": null,
   "id": "5e8cae3b",
   "metadata": {},
   "outputs": [],
   "source": [
    "!python eval_metrics.py --method pi --save_plots"
   ]
  },
  {
   "cell_type": "code",
   "execution_count": null,
   "id": "a15600cf",
   "metadata": {},
   "outputs": [],
   "source": [
    "# Data for WAR\n",
    "!python classic.py --method piws --stability --length $LENGTH --num_rollouts 5 --gen_emission\\\n",
    "--render --num_controlled $NUM_CONTROLLED\n"
   ]
  },
  {
   "cell_type": "code",
   "execution_count": null,
   "id": "31322ef4",
   "metadata": {},
   "outputs": [],
   "source": [
    "# WAR\n",
    "!python eval_plots.py --method pi "
   ]
  },
  {
   "cell_type": "markdown",
   "id": "abab4ad2",
   "metadata": {},
   "source": [
    "### BCM"
   ]
  },
  {
   "cell_type": "code",
   "execution_count": null,
   "id": "a5c5a433",
   "metadata": {},
   "outputs": [],
   "source": [
    "# For CAV (first get the data)\n",
    "!python classic.py --method bcm --length $LENGTH\\\n",
    "--num_rollouts $NUM_ROLLOUTS --gen_emission --shock --num_controlled $NUM_CONTROLLED\n"
   ]
  },
  {
   "cell_type": "code",
   "execution_count": null,
   "id": "359fcd5f",
   "metadata": {},
   "outputs": [],
   "source": [
    "# use the eval_metrics code\n",
    "!python eval_metrics.py --method bcm --save_plots\n"
   ]
  },
  {
   "cell_type": "code",
   "execution_count": null,
   "id": "7c011644",
   "metadata": {},
   "outputs": [],
   "source": [
    "# Data for WAR\n",
    "!python classic.py --method bcm --stability --length $LENGTH --gen_emission\\\n",
    "--num_rollouts 5 --render --num_controlled $NUM_CONTROLLED\n"
   ]
  },
  {
   "cell_type": "code",
   "execution_count": null,
   "id": "93fce5e2",
   "metadata": {},
   "outputs": [],
   "source": [
    "# WAR\n",
    "!python eval_plots.py --method bcm "
   ]
  },
  {
   "cell_type": "markdown",
   "id": "d2d1ef3a",
   "metadata": {},
   "source": [
    "### LACC"
   ]
  },
  {
   "cell_type": "code",
   "execution_count": null,
   "id": "7a6fc4ab",
   "metadata": {},
   "outputs": [],
   "source": [
    "# For CAV (first get the data)\n",
    "!python classic.py --method lacc --length $LENGTH\\\n",
    "--num_rollouts $NUM_ROLLOUTS --gen_emission --shock --render --num_controlled $NUM_CONTROLLED --shock_start_time 11400 --shock_end_time 15000\n"
   ]
  },
  {
   "cell_type": "code",
   "execution_count": null,
   "id": "9493459b",
   "metadata": {},
   "outputs": [],
   "source": [
    "# use the eval_metrics code\n",
    "!python eval_metrics.py --method lacc --start_time 11400 --end_time 15000 --save_plots\n"
   ]
  },
  {
   "cell_type": "code",
   "execution_count": null,
   "id": "8a8dedf6",
   "metadata": {},
   "outputs": [],
   "source": [
    "# Data for WAR\n",
    "!python classic.py --method lacc --stability --length $LENGTH --num_rollouts 5 --gen_emission\\\n",
    "--render --num_controlled $NUM_CONTROLLED --shock_start_time 11400 --shock_end_time 15000"
   ]
  },
  {
   "cell_type": "code",
   "execution_count": null,
   "id": "4ec7cc28",
   "metadata": {},
   "outputs": [],
   "source": [
    "# WAR\n",
    "!python eval_plots.py --method lacc --start_time 11400 --end_time 15000 --propogate_time 200"
   ]
  },
  {
   "cell_type": "markdown",
   "id": "aa303dd1",
   "metadata": {},
   "source": [
    "### Wu et. al. (40%)"
   ]
  },
  {
   "cell_type": "code",
   "execution_count": null,
   "id": "d533bcbb",
   "metadata": {},
   "outputs": [],
   "source": [
    "# Agents are supposed to be dispersed.\n",
    "# Stabalization time looks high, shocks can start later\n",
    "!python test_rllib.py ./Wu_et_al/Trained_policies/40_percent/PPO_MultiAgentWaveAttenuationPOEnv-v1_b8f3c414_2024-02-14_13-13-15_l2ifa89 92\\\n",
    "--method wu --length $LENGTH --num_rollouts $NUM_ROLLOUTS --gen_emission --shock --render --num_controlled 9\n"
   ]
  },
  {
   "cell_type": "code",
   "execution_count": null,
   "id": "8490b345",
   "metadata": {},
   "outputs": [],
   "source": [
    "# For CAV\n",
    "!python eval_metrics.py --method wu --save_plots"
   ]
  },
  {
   "cell_type": "code",
   "execution_count": null,
   "id": "171974a8",
   "metadata": {},
   "outputs": [],
   "source": [
    "# Data for WAR"
   ]
  },
  {
   "cell_type": "code",
   "execution_count": null,
   "id": "bbc1104d",
   "metadata": {},
   "outputs": [],
   "source": [
    "# WAR"
   ]
  },
  {
   "cell_type": "markdown",
   "id": "70727756",
   "metadata": {},
   "source": [
    "### Ours (40%)"
   ]
  },
  {
   "cell_type": "code",
   "execution_count": null,
   "id": "546918ea",
   "metadata": {
    "scrolled": true
   },
   "outputs": [],
   "source": [
    "#### Safety + Stability ####\n",
    "# For CAV (first get the data). Copy the exp_configs to a folder where test_rllib.py is located\n",
    "# Make sure efficiency is set to False in controller\n",
    "# Make sure the estimate is turned ON in multiagent env (in 2 places)\n",
    "!python test_rllib.py ./Ours/Trained_policies/40_percent/PPO_MultiAgentDensityAwareRLEnv-v1_589d08ce_2024-02-14_13-03-242t0mb06j 60\\\n",
    "--method ours9x --length $LENGTH --num_rollouts 20 --gen_emission --shock --render --num_controlled $NUM_CONTROLLED\n",
    "\n"
   ]
  },
  {
   "cell_type": "code",
   "execution_count": null,
   "id": "d805c8c2",
   "metadata": {},
   "outputs": [],
   "source": [
    "# Since !human is present in the code, this works seamlessly\n",
    "!python eval_metrics.py --method ours9x --save_plots"
   ]
  },
  {
   "cell_type": "code",
   "execution_count": null,
   "id": "5d92a877",
   "metadata": {},
   "outputs": [],
   "source": [
    "#### Efficiency ####\n",
    "# Make sure to set the efficiency to true at test time in the controller file and have those files at exp_configs\n",
    "# Make sure to have the right leader\n",
    "!python test_rllib.py ./Ours/Trained_policies/40_percent/PPO_MultiAgentDensityAwareRLEnv-v1_92538b0c_2024-02-15_14-36-53fn6l9uvs 140\\\n",
    "--method ours9x --length $LENGTH --num_rollouts $NUM_ROLLOUTS --gen_emission --render --shock --num_controlled $NUM_CONTROLLED\n"
   ]
  },
  {
   "cell_type": "code",
   "execution_count": null,
   "id": "13ca1fa0",
   "metadata": {},
   "outputs": [],
   "source": [
    "# Since !human is present in the code, this works seamlessly\n",
    "!python eval_metrics.py --method ours9x --save_plots"
   ]
  },
  {
   "cell_type": "code",
   "execution_count": null,
   "id": "a1fdddac",
   "metadata": {},
   "outputs": [],
   "source": [
    "# Data for WAR"
   ]
  },
  {
   "cell_type": "code",
   "execution_count": null,
   "id": "55a31049",
   "metadata": {},
   "outputs": [],
   "source": [
    "# WAR"
   ]
  },
  {
   "cell_type": "markdown",
   "id": "af1ab7dc",
   "metadata": {},
   "source": [
    "### 5. (60%) Multiple Vehicle Control\n",
    "- 13 vehicles controlled"
   ]
  },
  {
   "cell_type": "code",
   "execution_count": null,
   "id": "ecaec6bb",
   "metadata": {},
   "outputs": [],
   "source": [
    "# set parameters here\n",
    "NUM_ROLLOUTS = 5\n",
    "LENGTH = 260\n",
    "NUM_CONTROLLED = 13"
   ]
  },
  {
   "cell_type": "markdown",
   "id": "320b0e8d",
   "metadata": {},
   "source": [
    "### FS"
   ]
  },
  {
   "cell_type": "code",
   "execution_count": null,
   "id": "83d240ce",
   "metadata": {},
   "outputs": [],
   "source": [
    "# Change get_desired_velocity velocity to 4.55 instead of 4.82\n",
    "# Still it can get completely destabilitzed\n",
    "!python classic.py --method fs --length $LENGTH\\\n",
    "--gen_emission --num_rollouts $NUM_ROLLOUTS --shock --render --num_controlled $NUM_CONTROLLED"
   ]
  },
  {
   "cell_type": "code",
   "execution_count": null,
   "id": "9a91c88b",
   "metadata": {},
   "outputs": [],
   "source": [
    "# use the eval_metrics code. May have to make 'fs' in tts calculation\n",
    "!python eval_metrics.py --method fs --save_plots"
   ]
  },
  {
   "cell_type": "code",
   "execution_count": null,
   "id": "aa749fc7",
   "metadata": {},
   "outputs": [],
   "source": [
    "# Data for WAR. Change the desired velocity to 4.55\n",
    "!python classic.py --method fs --stability --length $LENGTH\\\n",
    "--num_rollouts 5 --gen_emission --render --num_controlled $NUM_CONTROLLED\n"
   ]
  },
  {
   "cell_type": "code",
   "execution_count": null,
   "id": "e7fa8d4e",
   "metadata": {},
   "outputs": [],
   "source": [
    "# WAR\n",
    "!python eval_plots.py --method fs "
   ]
  },
  {
   "cell_type": "markdown",
   "id": "e7007f38",
   "metadata": {},
   "source": [
    "### PIwS"
   ]
  },
  {
   "cell_type": "code",
   "execution_count": null,
   "id": "124691c7",
   "metadata": {},
   "outputs": [],
   "source": [
    "!python classic.py --method piws --length $LENGTH\\\n",
    "--gen_emission --num_rollouts $NUM_ROLLOUTS --shock --render --num_controlled $NUM_CONTROLLED\n"
   ]
  },
  {
   "cell_type": "code",
   "execution_count": null,
   "id": "ad7de369",
   "metadata": {},
   "outputs": [],
   "source": [
    "!python eval_metrics.py --method pi --save_plots"
   ]
  },
  {
   "cell_type": "code",
   "execution_count": null,
   "id": "2b7f150a",
   "metadata": {},
   "outputs": [],
   "source": [
    "# Data for WAR\n",
    "!python classic.py --method piws --stability --length $LENGTH --num_rollouts 5 --gen_emission\\\n",
    "--render --num_controlled $NUM_CONTROLLED\n"
   ]
  },
  {
   "cell_type": "code",
   "execution_count": null,
   "id": "f113c317",
   "metadata": {},
   "outputs": [],
   "source": [
    "# WAR\n",
    "!python eval_plots.py --method pi "
   ]
  },
  {
   "cell_type": "markdown",
   "id": "029ab087",
   "metadata": {},
   "source": [
    "### BCM"
   ]
  },
  {
   "cell_type": "code",
   "execution_count": null,
   "id": "dbcf84ea",
   "metadata": {},
   "outputs": [],
   "source": [
    "# For CAV (first get the data)\n",
    "!python classic.py --method bcm --length $LENGTH\\\n",
    "--num_rollouts $NUM_ROLLOUTS --gen_emission --shock --render --num_controlled $NUM_CONTROLLED\n"
   ]
  },
  {
   "cell_type": "code",
   "execution_count": null,
   "id": "4bd26b63",
   "metadata": {},
   "outputs": [],
   "source": [
    "# use the eval_metrics code\n",
    "!python eval_metrics.py --method bcm --save_plots\n"
   ]
  },
  {
   "cell_type": "code",
   "execution_count": null,
   "id": "93ca4cc8",
   "metadata": {},
   "outputs": [],
   "source": [
    "# Data for WAR\n",
    "!python classic.py --method bcm --stability --length $LENGTH --gen_emission\\\n",
    "--num_rollouts 5 --render --num_controlled $NUM_CONTROLLED\n"
   ]
  },
  {
   "cell_type": "code",
   "execution_count": null,
   "id": "91693714",
   "metadata": {},
   "outputs": [],
   "source": [
    "# WAR\n",
    "!python eval_plots.py --method bcm "
   ]
  },
  {
   "cell_type": "markdown",
   "id": "2e743b6c",
   "metadata": {},
   "source": [
    "### LACC"
   ]
  },
  {
   "cell_type": "code",
   "execution_count": null,
   "id": "e523f170",
   "metadata": {},
   "outputs": [],
   "source": [
    "# For CAV (first get the data)\n",
    "!python classic.py --method lacc --length $LENGTH\\\n",
    "--num_rollouts $NUM_ROLLOUTS --gen_emission --shock --render --num_controlled $NUM_CONTROLLED --shock_start_time 11400 --shock_end_time 15000\n"
   ]
  },
  {
   "cell_type": "code",
   "execution_count": null,
   "id": "7af331fc",
   "metadata": {},
   "outputs": [],
   "source": [
    "# use the eval_metrics code\n",
    "!python eval_metrics.py --method lacc --start_time 11400 --end_time 15000 --save_plots\n"
   ]
  },
  {
   "cell_type": "code",
   "execution_count": null,
   "id": "8d661e3f",
   "metadata": {},
   "outputs": [],
   "source": [
    "# Data for WAR\n",
    "!python classic.py --method lacc --stability --length $LENGTH --num_rollouts 5 --gen_emission\\\n",
    "--render --num_controlled $NUM_CONTROLLED --shock_start_time 11400 --shock_end_time 15000"
   ]
  },
  {
   "cell_type": "code",
   "execution_count": null,
   "id": "a56385ec",
   "metadata": {},
   "outputs": [],
   "source": [
    "# WAR\n",
    "!python eval_plots.py --method lacc --start_time 11400 --end_time 15000 --propogate_time 200"
   ]
  },
  {
   "cell_type": "markdown",
   "id": "c1cd00cb",
   "metadata": {},
   "source": [
    "### Wu et. al. (60%)"
   ]
  },
  {
   "cell_type": "code",
   "execution_count": null,
   "id": "c7e48a84",
   "metadata": {},
   "outputs": [],
   "source": [
    "# Agents are supposed to be dispersed. Exp configs folder should be present outside where test_rllib.py is present\n",
    "# Stabalization time looks high, shocks can start later\n",
    "# 90 is highest but cannot stabilize at 90\n",
    "!python test_rllib.py ./Wu_et_al/Trained_policies/60_percent/PPO_MultiAgentWaveAttenuationPOEnv-v1_24561808_2024-02-15_12-53-36bmm0ybn0 130\\\n",
    "--method wu --length $LENGTH --num_rollouts $NUM_ROLLOUTS --gen_emission --shock --render --num_controlled $NUM_CONTROLLED\n",
    "\n",
    "\n",
    "# !python test_rllib.py ./Wu_et_al/Trained_policies/60_percent/PPO_MultiAgentWaveAttenuationPOEnv-v1_31346110_2024-02-15_12-53-57as6iehau 90\\\n",
    "# --method wu --length $LENGTH --num_rollouts $NUM_ROLLOUTS --gen_emission --shock --render --num_controlled $NUM_CONTROLLED\n",
    "\n"
   ]
  },
  {
   "cell_type": "code",
   "execution_count": null,
   "id": "10094de1",
   "metadata": {},
   "outputs": [],
   "source": [
    "!python eval_metrics.py --method wu --save_plots"
   ]
  },
  {
   "cell_type": "code",
   "execution_count": null,
   "id": "3c23d47b",
   "metadata": {},
   "outputs": [],
   "source": [
    "# Data for WAR"
   ]
  },
  {
   "cell_type": "code",
   "execution_count": null,
   "id": "080a15a4",
   "metadata": {},
   "outputs": [],
   "source": [
    "# WAR"
   ]
  },
  {
   "cell_type": "markdown",
   "id": "bc117e56",
   "metadata": {},
   "source": [
    "### Ours (60%)"
   ]
  },
  {
   "cell_type": "code",
   "execution_count": null,
   "id": "ac358530",
   "metadata": {},
   "outputs": [],
   "source": [
    "#### Safety + Stability ####\n",
    "# For CAV (first get the data). Copy the exp_configs to a folder where test_rllib.py is located\n",
    "# Make sure efficiency is set to False in controller\n",
    "# Make sure the estimate is turned ON in multiagent env (in 2 places)\n",
    "!python test_rllib.py ./Ours/Trained_policies/60_percent/PPO_MultiAgentDensityAwareRLEnv-v1_18eaa6f2_2024-02-16_15-29-348o30nqxq 200\\\n",
    "--method ours13x --length $LENGTH --num_rollouts $NUM_ROLLOUTS --gen_emission --shock --render --num_controlled $NUM_CONTROLLED\n"
   ]
  },
  {
   "cell_type": "code",
   "execution_count": null,
   "id": "23beb745",
   "metadata": {},
   "outputs": [],
   "source": [
    "!python eval_metrics.py --method ours13x --save_plots"
   ]
  },
  {
   "cell_type": "code",
   "execution_count": null,
   "id": "7d002ddd",
   "metadata": {},
   "outputs": [],
   "source": [
    "#### Efficiency ####\n",
    "# Make sure to set the efficiency to true at test time in the controller file and have those files at exp_configs\n",
    "# Make sure to have the right leader\n",
    "!python test_rllib.py ./Ours/Trained_policies/60_percent/PPO_MultiAgentDensityAwareRLEnv-v1_ed546dfe_2024-02-14_17-18-06nijs5agx 200\\\n",
    "--method ours13x --length $LENGTH --num_rollouts 20 --render --gen_emission --shock --num_controlled $NUM_CONTROLLED\n"
   ]
  },
  {
   "cell_type": "code",
   "execution_count": null,
   "id": "8fe7d05d",
   "metadata": {},
   "outputs": [],
   "source": [
    "!python eval_metrics.py --method ours13x --save_plots"
   ]
  },
  {
   "cell_type": "code",
   "execution_count": null,
   "id": "a903152b",
   "metadata": {},
   "outputs": [],
   "source": [
    "# Data for WAR"
   ]
  },
  {
   "cell_type": "code",
   "execution_count": null,
   "id": "a6668c64",
   "metadata": {},
   "outputs": [],
   "source": [
    "# WAR"
   ]
  },
  {
   "cell_type": "markdown",
   "id": "d10ea0a2",
   "metadata": {},
   "source": [
    "## C. Data collection for Stability Plot\n",
    "- Execute the `eval_plots.py` code as well because this will create the stability plots (sometimes manual inspection is required)"
   ]
  },
  {
   "cell_type": "code",
   "execution_count": null,
   "id": "205a6a40",
   "metadata": {},
   "outputs": [],
   "source": [
    "LENGTH_STABILITY = 270 #m\n",
    "NUM_ROLLOUTS_STABILITY = 1"
   ]
  },
  {
   "cell_type": "markdown",
   "id": "ee39d39a",
   "metadata": {},
   "source": [
    "### IDM"
   ]
  },
  {
   "cell_type": "code",
   "execution_count": null,
   "id": "8c351972",
   "metadata": {},
   "outputs": [],
   "source": [
    "# This is for plot\n",
    "# Stability shock is applied to IDM when the system is stable and SGT is not formed yet\n",
    "# 150 is pretty early-on\n",
    "!python classic.py --method idm --length $LENGTH_STABILITY --gen_emission --stability --shock_start_time 150 --shock_end_time 3710 --render"
   ]
  },
  {
   "cell_type": "code",
   "execution_count": null,
   "id": "cd233912",
   "metadata": {},
   "outputs": [],
   "source": [
    "# IDM is unstable (So there is no wave attenuation) - WAR does not apply\n",
    "# But do we still need a value for reference (WAR = 0)\n",
    "!python eval_plots.py --method idm --start_time 150 --end_time 3710 "
   ]
  },
  {
   "cell_type": "markdown",
   "id": "2cb9a4b9",
   "metadata": {},
   "source": [
    "### FS"
   ]
  },
  {
   "cell_type": "code",
   "execution_count": null,
   "id": "15f23ee1",
   "metadata": {},
   "outputs": [],
   "source": [
    "!python classic.py --method fs --stability --length $LENGTH_STABILITY --num_rollouts $NUM_ROLLOUTS_STABILITY --gen_emission --render"
   ]
  },
  {
   "cell_type": "code",
   "execution_count": null,
   "id": "e02f48a4",
   "metadata": {},
   "outputs": [],
   "source": [
    "!python eval_plots.py --method fs "
   ]
  },
  {
   "cell_type": "markdown",
   "id": "a2f18616",
   "metadata": {},
   "source": [
    "### PIwS"
   ]
  },
  {
   "cell_type": "code",
   "execution_count": null,
   "id": "cb4faa24",
   "metadata": {},
   "outputs": [],
   "source": [
    "# Data for WAR (Check if it stabilized or not)\n",
    "!python classic.py --method piws --stability --length $LENGTH_STABILITY --num_rollouts $NUM_ROLLOUTS_STABILITY --gen_emission --render\n",
    "# Check if was stable or not before the shock was applied"
   ]
  },
  {
   "cell_type": "code",
   "execution_count": null,
   "id": "6dd06f7e",
   "metadata": {},
   "outputs": [],
   "source": [
    "!python eval_plots.py --method pi "
   ]
  },
  {
   "cell_type": "markdown",
   "id": "781040de",
   "metadata": {},
   "source": [
    "### RL+ LO (Wu et al.)"
   ]
  },
  {
   "cell_type": "code",
   "execution_count": null,
   "id": "f169c261",
   "metadata": {},
   "outputs": [],
   "source": [
    "!python test_rllib.py ./Wu_et_al/Trained_policies/PPO_WaveAttenuationPOEnv-v0_25b5cb6e_2022-01-26_10-58-12e9f4i3ao 50\\\n",
    "--method wu --shock --stability --length $LENGTH_STABILITY --gen_emission --num_rollouts $NUM_ROLLOUTS_STABILITY --render\n"
   ]
  },
  {
   "cell_type": "code",
   "execution_count": null,
   "id": "5161f497",
   "metadata": {},
   "outputs": [],
   "source": [
    "!python eval_plots.py --method wu "
   ]
  },
  {
   "cell_type": "markdown",
   "id": "75b9c8dc",
   "metadata": {},
   "source": [
    "### Ours (5%)\n",
    "- Set local zone to 35m in the file before executing the code below"
   ]
  },
  {
   "cell_type": "code",
   "execution_count": null,
   "id": "2936af2b",
   "metadata": {},
   "outputs": [],
   "source": [
    "# This data is taken with the local zone set to 35m\n",
    "\n",
    "# Data for WAR (Take the Safety + Stability Policy)\n",
    "!python test_rllib.py ./Ours/Trained_policies/5_percent/PPO_DensityAwareRLEnv-v0_5dfded14_2024-02-07_09-58-351869u4p3 168\\\n",
    "--method ours --shock --stability --length $LENGTH_STABILITY --gen_emission --num_rollouts 1 --render --num_controlled 1\n"
   ]
  },
  {
   "cell_type": "code",
   "execution_count": null,
   "id": "2b15dad9",
   "metadata": {},
   "outputs": [],
   "source": [
    "!python eval_plots.py --method ours"
   ]
  },
  {
   "cell_type": "markdown",
   "id": "41edf58d",
   "metadata": {},
   "source": [
    "### BCM"
   ]
  },
  {
   "cell_type": "code",
   "execution_count": null,
   "id": "9cf417e8",
   "metadata": {},
   "outputs": [],
   "source": [
    "!python classic.py --method bcm --stability --length $LENGTH_STABILITY --num_rollouts $NUM_ROLLOUTS_STABILITY --gen_emission --num_rollouts $NUM_ROLLOUTS_WAR --render\n"
   ]
  },
  {
   "cell_type": "code",
   "execution_count": null,
   "id": "0e541f4f",
   "metadata": {},
   "outputs": [],
   "source": [
    "!python eval_plots.py --method bcm "
   ]
  },
  {
   "cell_type": "markdown",
   "id": "d3cfeeb2",
   "metadata": {},
   "source": [
    "### Ours (20%)\n",
    "- Set Local zone to 40m in the file before executing the code below "
   ]
  },
  {
   "cell_type": "code",
   "execution_count": null,
   "id": "8a01cecd",
   "metadata": {},
   "outputs": [],
   "source": [
    "# This data is taken with the local zone set to 40m\n",
    "# For CAV (first get the data). Copy the exp_configs to a folder where test_rllib.py is located\n",
    "# Make sure efficiency is set to False in controller\n",
    "# Make sure the estimate is turned ON in multiagent env (in 2 places)\n",
    "# Data for WAR (taken on the Safety + Stability model). Make sure everything is tuned for Safety + Stability\n",
    "\n",
    "!python test_rllib.py ./Ours/Trained_policies/20_percent/PPO_MultiAgentDensityAwareRLEnv-v1_afca7452_2024-02-11_14-35-18pt1771a1 140\\\n",
    "--method ours4x --shock --stability --length $LENGTH_STABILITY --gen_emission --num_rollouts 1 --render --num_controlled 4\n"
   ]
  },
  {
   "cell_type": "code",
   "execution_count": null,
   "id": "454881a5",
   "metadata": {},
   "outputs": [],
   "source": [
    "!python eval_plots.py --method ours4x"
   ]
  },
  {
   "cell_type": "markdown",
   "id": "01728cdf",
   "metadata": {},
   "source": [
    "### LACC"
   ]
  },
  {
   "cell_type": "code",
   "execution_count": null,
   "id": "819f12e9",
   "metadata": {},
   "outputs": [],
   "source": [
    "!python classic.py --method lacc --stability --length $LENGTH_STABILITY --num_rollouts $NUM_ROLLOUTS_STABILITY --gen_emission --shock_start_time 11400 --shock_end_time 15000 --render"
   ]
  },
  {
   "cell_type": "code",
   "execution_count": null,
   "id": "60c34217",
   "metadata": {},
   "outputs": [],
   "source": [
    "!python eval_plots.py --method lacc --start_time 11400 --end_time 15000 --propogate_time 200"
   ]
  }
 ],
 "metadata": {
  "kernelspec": {
   "display_name": "Python 3 (ipykernel)",
   "language": "python",
   "name": "python3"
  },
  "language_info": {
   "codemirror_mode": {
    "name": "ipython",
    "version": 3
   },
   "file_extension": ".py",
   "mimetype": "text/x-python",
   "name": "python",
   "nbconvert_exporter": "python",
   "pygments_lexer": "ipython3",
   "version": "3.7.3"
  }
 },
 "nbformat": 4,
 "nbformat_minor": 5
}
