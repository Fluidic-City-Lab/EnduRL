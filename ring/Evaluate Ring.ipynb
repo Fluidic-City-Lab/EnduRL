{
 "cells": [
  {
   "cell_type": "markdown",
   "id": "80fc7a9a",
   "metadata": {},
   "source": [
    "### Data collection for various metrics:\n",
    "\n",
    "Data Collection for Safety and Stability Metrics (Ignore the efficiency metrics even though they are displayed). \n",
    "\n",
    "Collection performed in 3 stages\n",
    "\n",
    "    A. Data collection for Safety and CAV (Controller Acceleration Variation) \n",
    "    B. Data collevtion for WAR (Wave Attenuation Ratio)\n",
    "    C. Data collection for Stability Plot\n",
    "\n",
    "### Notes:\n",
    "\n",
    "- Desired velocity change for FS May need monitoring (May not be set for all possible lengths)\n",
    "- PI can have failures, so have to turn ON render and manually check\n",
    "- LACC needs a different shock time (for no shock change time at eval)\n",
    "- Generated data will be saved in the folder `test_time_rollout`\n",
    "- We apply shocks after the systems have been stabilized\n",
    "- Default shock times are between 8000 and 11000 unless explicitly specified otherwise\n",
    "- Difference: For stability plot, the length is 270 whereas for WAR, the length is 260\n",
    "- For WAR num_rollours is set to 1\n",
    "\n",
    "### Penetration rates\n",
    "- num_controlled = 1 (5%), 4(20%), 9(40%), 13(16%) \n"
   ]
  },
  {
   "cell_type": "markdown",
   "id": "6d450403",
   "metadata": {},
   "source": [
    "### A and B together: (Data collection for Safety and CAV) + (Data collection for WAR)"
   ]
  },
  {
   "cell_type": "code",
   "execution_count": 1,
   "id": "79ad67ee",
   "metadata": {},
   "outputs": [],
   "source": [
    "# set parameters here\n",
    "NUM_ROLLOUTS = 5\n",
    "LENGTH = 260\n"
   ]
  },
  {
   "cell_type": "markdown",
   "id": "10a8b4b7",
   "metadata": {},
   "source": [
    "### 1. (100%) IDM "
   ]
  },
  {
   "cell_type": "code",
   "execution_count": null,
   "id": "1a13954c",
   "metadata": {},
   "outputs": [],
   "source": [
    "!python classic.py --method idm --length $LENGTH --gen_emission --num_rollouts $NUM_ROLLOUTS --shock --render"
   ]
  },
  {
   "cell_type": "code",
   "execution_count": null,
   "id": "0b39068d",
   "metadata": {},
   "outputs": [],
   "source": [
    "!python eval_metrics.py --method idm --save_plots"
   ]
  },
  {
   "cell_type": "code",
   "execution_count": null,
   "id": "d6e7cb3b",
   "metadata": {},
   "outputs": [],
   "source": [
    "# IDM does not need WAR, un-applicable"
   ]
  },
  {
   "cell_type": "markdown",
   "id": "83b453ca",
   "metadata": {},
   "source": [
    "### 2. (5%) Single Vehicle Control"
   ]
  },
  {
   "cell_type": "markdown",
   "id": "921078dc",
   "metadata": {},
   "source": [
    "__FS__"
   ]
  },
  {
   "cell_type": "code",
   "execution_count": null,
   "id": "e27dee7e",
   "metadata": {},
   "outputs": [],
   "source": [
    "!python classic.py --method fs --length $LENGTH --gen_emission --num_rollouts $NUM_ROLLOUTS --shock --render --num_controlled 1"
   ]
  },
  {
   "cell_type": "code",
   "execution_count": null,
   "id": "bcfc4d86",
   "metadata": {},
   "outputs": [],
   "source": [
    "!python eval_metrics.py --method fs --save_plots"
   ]
  },
  {
   "cell_type": "code",
   "execution_count": null,
   "id": "5ba7e3f5",
   "metadata": {},
   "outputs": [],
   "source": [
    "# Data for WAR\n",
    "!python classic.py --method fs --stability --length $LENGTH --num_rollouts 1 --gen_emission --render --num_controlled 1"
   ]
  },
  {
   "cell_type": "code",
   "execution_count": null,
   "id": "eb56fb49",
   "metadata": {},
   "outputs": [],
   "source": [
    "# WAR\n",
    "!python eval_plots.py --method fs "
   ]
  },
  {
   "cell_type": "markdown",
   "id": "3ece935c",
   "metadata": {},
   "source": [
    "__PIwS__\n",
    "- This requires verifying if the particular run was `SUCCESS` or `FAIL`\n",
    "- i.e., the controller may fail to stabilize the system"
   ]
  },
  {
   "cell_type": "code",
   "execution_count": null,
   "id": "a0c191eb",
   "metadata": {},
   "outputs": [],
   "source": [
    "# For CAV (first: get the data)\n",
    "!python classic.py --method piws --length $LENGTH --gen_emission --num_rollouts $NUM_ROLLOUTS --shock --render --num_controlled 1\n",
    "\n",
    "# Stable or not before shocks were applied\n",
    "# 1. Stable \n",
    "# 2. Stable\n",
    "# 3. Stable\n",
    "# 4. Stable\n",
    "# 5. Stable\n"
   ]
  },
  {
   "cell_type": "code",
   "execution_count": null,
   "id": "d9fed5bd",
   "metadata": {},
   "outputs": [],
   "source": [
    "# use the eval_metrics code\n",
    "!python eval_metrics.py --method pi --save_plots"
   ]
  },
  {
   "cell_type": "code",
   "execution_count": null,
   "id": "7b34226b",
   "metadata": {},
   "outputs": [],
   "source": [
    "# Data for WAR (Check if it stabilized or not)\n",
    "!python classic.py --method piws --stability --length $LENGTH --num_rollouts 1 --gen_emission --render --num_controlled 1\n",
    "\n",
    "# Stable or not before shocks were applied\n",
    "# 1. \n",
    "# 2. \n",
    "# 3. \n",
    "# 4. \n",
    "# 5. \n"
   ]
  },
  {
   "cell_type": "code",
   "execution_count": null,
   "id": "bc04f2a0",
   "metadata": {},
   "outputs": [],
   "source": [
    "!python eval_plots.py --method pi "
   ]
  },
  {
   "cell_type": "markdown",
   "id": "335a7f74",
   "metadata": {},
   "source": [
    "#### BCM"
   ]
  },
  {
   "cell_type": "code",
   "execution_count": null,
   "id": "b2a6044e",
   "metadata": {},
   "outputs": [],
   "source": [
    "# For CAV (first get the data)\n",
    "!python classic.py --method bcm --length $LENGTH --num_rollouts $NUM_ROLLOUTS --gen_emission --shock --render --num_controlled 1"
   ]
  },
  {
   "cell_type": "code",
   "execution_count": null,
   "id": "9da87c43",
   "metadata": {},
   "outputs": [],
   "source": [
    "# use the eval_metrics code\n",
    "!python eval_metrics.py --method bcm --save_plots"
   ]
  },
  {
   "cell_type": "code",
   "execution_count": null,
   "id": "a255885b",
   "metadata": {},
   "outputs": [],
   "source": [
    "# No WAR. BCM is stable."
   ]
  },
  {
   "cell_type": "markdown",
   "id": "af9b69ae",
   "metadata": {},
   "source": [
    "#### LACC"
   ]
  },
  {
   "cell_type": "code",
   "execution_count": null,
   "id": "b850cb32",
   "metadata": {},
   "outputs": [],
   "source": [
    "# For CAV (first get the data)\n",
    "!python classic.py --method lacc --length $LENGTH --num_rollouts $NUM_ROLLOUTS --gen_emission --shock --render --shock_start_time 11400 --shock_end_time 15000 --num_controlled 1\n"
   ]
  },
  {
   "cell_type": "code",
   "execution_count": null,
   "id": "b685f370",
   "metadata": {},
   "outputs": [],
   "source": [
    "# use the eval_metrics code\n",
    "!python eval_metrics.py --method lacc --start_time 11400 --end_time 15000 --save_plots"
   ]
  },
  {
   "cell_type": "markdown",
   "id": "2a21c4d5",
   "metadata": {},
   "source": [
    "__Wu et. al.__"
   ]
  },
  {
   "cell_type": "code",
   "execution_count": null,
   "id": "259c3633",
   "metadata": {},
   "outputs": [],
   "source": [
    "# For CAV (first get the data)\n",
    "!python test_rllib.py ./Wu_et_al/Trained_policies/5_percent/PPO_WaveAttenuationPOEnv-v0_25b5cb6e_2022-01-26_10-58-12e9f4i3ao 50 \\\n",
    "--method wu --length $LENGTH --num_rollouts $NUM_ROLLOUTS --gen_emission --shock --render --num_controlled 1\n"
   ]
  },
  {
   "cell_type": "code",
   "execution_count": null,
   "id": "a9c525a6",
   "metadata": {},
   "outputs": [],
   "source": [
    "# For CAV\n",
    "!python eval_metrics.py --method wu --save_plots"
   ]
  },
  {
   "cell_type": "code",
   "execution_count": null,
   "id": "3b825ba3",
   "metadata": {
    "scrolled": false
   },
   "outputs": [],
   "source": [
    "# Data for WAR\n",
    "!python test_rllib.py ./Wu_et_al/Trained_policies/5_percent/PPO_WaveAttenuationPOEnv-v0_25b5cb6e_2022-01-26_10-58-12e9f4i3ao 50\\\n",
    "--method wu --shock --stability --length $LENGTH --gen_emission --num_rollouts 1 --render --num_controlled 1\n"
   ]
  },
  {
   "cell_type": "code",
   "execution_count": null,
   "id": "d686083c",
   "metadata": {},
   "outputs": [],
   "source": [
    "!python eval_plots.py --method wu "
   ]
  },
  {
   "cell_type": "markdown",
   "id": "10383ecc",
   "metadata": {},
   "source": [
    "__Ours (1x)__\n",
    "- The local zone is set to 50m at training. And it is set to 50m here as well."
   ]
  },
  {
   "cell_type": "code",
   "execution_count": null,
   "id": "b5dec891",
   "metadata": {},
   "outputs": [],
   "source": [
    "# For CAV (Safety + Stability)\n",
    "!python test_rllib.py ./Ours/Trained_policies/5_percent/PPO_DensityAwareRLEnv-v0_5dfded14_2024-02-07_09-58-351869u4p3 168\\\n",
    "--method ours --length $LENGTH --num_rollouts $NUM_ROLLOUTS --gen_emission --shock --render --num_controlled 1\n"
   ]
  },
  {
   "cell_type": "code",
   "execution_count": null,
   "id": "8fa53ab2",
   "metadata": {},
   "outputs": [],
   "source": [
    "# Only look at safety and stability\n",
    "!python eval_metrics.py --method ours --save_plots"
   ]
  },
  {
   "cell_type": "code",
   "execution_count": null,
   "id": "80a41d1f",
   "metadata": {
    "scrolled": true
   },
   "outputs": [],
   "source": [
    "# For CAV (Efficiency)\n",
    "\n",
    "!python test_rllib.py ./Ours/Trained_policies/5_percent/PPO_DensityAwareRLEnv-v0_6106dcf6_2024-02-08_12-42-07_7vnf1n4 200\\\n",
    "--method ours --length $LENGTH --num_rollouts $NUM_ROLLOUTS --gen_emission --shock --render --num_controlled 1"
   ]
  },
  {
   "cell_type": "code",
   "execution_count": null,
   "id": "23e47519",
   "metadata": {
    "scrolled": true
   },
   "outputs": [],
   "source": [
    "# Only look at Efficiency (Wipe out the previous data)\n",
    "!python eval_metrics.py --method ours --save_plots"
   ]
  },
  {
   "cell_type": "code",
   "execution_count": null,
   "id": "e1e67237",
   "metadata": {},
   "outputs": [],
   "source": [
    "# Data for WAR (Take the Safety + Stability Policy)\n",
    "!python test_rllib.py ./Ours/Trained_policies/5_percent/PPO_DensityAwareRLEnv-v0_5dfded14_2024-02-07_09-58-351869u4p3 168\\\n",
    "--method ours --shock --stability --length $LENGTH --gen_emission --num_rollouts 1 --render --num_controlled 1\n"
   ]
  },
  {
   "cell_type": "code",
   "execution_count": null,
   "id": "40df74e7",
   "metadata": {},
   "outputs": [],
   "source": [
    "!python eval_plots.py --method ours"
   ]
  },
  {
   "cell_type": "markdown",
   "id": "3fad4410",
   "metadata": {},
   "source": [
    "### 3. (20%) Multiple Vehicle Control"
   ]
  },
  {
   "cell_type": "markdown",
   "id": "7159d694",
   "metadata": {},
   "source": [
    "### FS"
   ]
  },
  {
   "cell_type": "code",
   "execution_count": null,
   "id": "a17ce8b7",
   "metadata": {},
   "outputs": [],
   "source": [
    "!python classic.py --method fs --length $LENGTH --gen_emission --num_rollouts $NUM_ROLLOUTS --shock --render --num_controlled 4\n"
   ]
  },
  {
   "cell_type": "code",
   "execution_count": null,
   "id": "63dcaa68",
   "metadata": {},
   "outputs": [],
   "source": [
    "# use the eval_metrics code\n",
    "!python eval_metrics.py --method fs --save_plots"
   ]
  },
  {
   "cell_type": "code",
   "execution_count": null,
   "id": "b4b4345d",
   "metadata": {},
   "outputs": [],
   "source": [
    "# Data for WAR\n",
    "!python classic.py --method fs --stability --length $LENGTH --num_rollouts 4 --gen_emission --render --num_controlled 4\n"
   ]
  },
  {
   "cell_type": "code",
   "execution_count": null,
   "id": "3cc087e9",
   "metadata": {},
   "outputs": [],
   "source": [
    "# WAR\n",
    "!python eval_plots.py --method fs "
   ]
  },
  {
   "cell_type": "markdown",
   "id": "4fee9c6a",
   "metadata": {},
   "source": [
    "__PIwS__"
   ]
  },
  {
   "cell_type": "code",
   "execution_count": null,
   "id": "112b5460",
   "metadata": {},
   "outputs": [],
   "source": [
    "!python classic.py --method piws --length $LENGTH --gen_emission --num_rollouts $NUM_ROLLOUTS --shock --render --num_controlled 4\n"
   ]
  },
  {
   "cell_type": "code",
   "execution_count": null,
   "id": "797cffe1",
   "metadata": {},
   "outputs": [],
   "source": [
    "!python eval_metrics.py --method pi --save_plots"
   ]
  },
  {
   "cell_type": "code",
   "execution_count": null,
   "id": "2e65c433",
   "metadata": {},
   "outputs": [],
   "source": [
    "# Data for WAR (Check if it stabilized or not)\n",
    "!python classic.py --method piws --stability --length $LENGTH --num_rollouts 1 --gen_emission --render --num_controlled 4\n"
   ]
  },
  {
   "cell_type": "code",
   "execution_count": null,
   "id": "d7eb760c",
   "metadata": {},
   "outputs": [],
   "source": [
    "!python eval_plots.py --method pi "
   ]
  },
  {
   "cell_type": "markdown",
   "id": "7af3bd4c",
   "metadata": {},
   "source": [
    "__BCM__"
   ]
  },
  {
   "cell_type": "code",
   "execution_count": null,
   "id": "8271b524",
   "metadata": {},
   "outputs": [],
   "source": [
    "# For CAV (first get the data)\n",
    "!python classic.py --method bcm --length $LENGTH --num_rollouts $NUM_ROLLOUTS --gen_emission --shock --render --num_controlled 4"
   ]
  },
  {
   "cell_type": "code",
   "execution_count": null,
   "id": "3c079411",
   "metadata": {},
   "outputs": [],
   "source": [
    "# use the eval_metrics code\n",
    "!python eval_metrics.py --method bcm --save_plots"
   ]
  },
  {
   "cell_type": "code",
   "execution_count": null,
   "id": "ad643d9d",
   "metadata": {},
   "outputs": [],
   "source": [
    "# Data for WAR\n",
    "!python classic.py --method bcm --stability --length $LENGTH --gen_emission --num_rollouts $NUM_ROLLOUTS --render --num_controlled 4\n"
   ]
  },
  {
   "cell_type": "code",
   "execution_count": null,
   "id": "54be427f",
   "metadata": {},
   "outputs": [],
   "source": [
    "!python eval_plots.py --method bcm "
   ]
  },
  {
   "cell_type": "markdown",
   "id": "1ac836de",
   "metadata": {},
   "source": [
    "__LACC__"
   ]
  },
  {
   "cell_type": "code",
   "execution_count": null,
   "id": "b0f9df61",
   "metadata": {},
   "outputs": [],
   "source": [
    "# For CAV (first get the data)\n",
    "!python classic.py --method lacc --length $LENGTH --num_rollouts $NUM_ROLLOUTS --gen_emission --shock --render --num_controlled 4 --shock_start_time 11400 --shock_end_time 15000"
   ]
  },
  {
   "cell_type": "code",
   "execution_count": null,
   "id": "845aba29",
   "metadata": {},
   "outputs": [],
   "source": [
    "# use the eval_metrics code\n",
    "!python eval_metrics.py --method lacc --start_time 11400 --end_time 15000 --save_plots"
   ]
  },
  {
   "cell_type": "code",
   "execution_count": null,
   "id": "63605979",
   "metadata": {},
   "outputs": [],
   "source": [
    "# Data for WAR\n",
    "!python classic.py --method lacc --stability --length $LENGTH --num_rollouts $NUM_ROLLOUTS --gen_emission --render --num_controlled 4 --shock_start_time 11400 --shock_end_time 15000\n"
   ]
  },
  {
   "cell_type": "code",
   "execution_count": null,
   "id": "8f19f4e2",
   "metadata": {},
   "outputs": [],
   "source": [
    "!python eval_plots.py --method lacc --start_time 11400 --end_time 15000 --propogate_time 200"
   ]
  },
  {
   "cell_type": "markdown",
   "id": "0693ef9a",
   "metadata": {},
   "source": [
    "__Ours (20%)__\n",
    "\n",
    "- The local zone of __leader__ is set to 50m at training. It is kept at 50m here as well."
   ]
  },
  {
   "cell_type": "code",
   "execution_count": null,
   "id": "453b1225",
   "metadata": {},
   "outputs": [
    {
     "name": "stdout",
     "output_type": "stream",
     "text": [
      "2024-02-12 13:22:10,523\tWARNING services.py:597 -- setpgrp failed, processes may not be cleaned up properly: [Errno 1] Operation not permitted.\n",
      "2024-02-12 13:22:10,524\tINFO resource_spec.py:216 -- Starting Ray with 25.39 GiB memory available for workers and up to 12.7 GiB for objects. You can adjust these settings with ray.init(memory=<bytes>, object_store_memory=<bytes>).\n",
      "2024-02-12 13:22:12,343\tINFO trainer.py:371 -- Tip: set 'eager': true or the --eager flag to enable TensorFlow eager execution\n",
      "2024-02-12 13:22:12,347\tINFO trainer.py:512 -- Current log_level is WARN. For more information, set 'log_level': 'INFO' / 'DEBUG' or use the -v and -vv flags.\n",
      "2024-02-12 13:22:15,135\tWARNING util.py:45 -- Install gputil for GPU system monitoring.\n",
      "2024-02-12 13:22:15,182\tINFO trainable.py:346 -- Restored from checkpoint: ./Ours/Trained_policies/20_percent/PPO_MultiAgentDensityAwareRLEnv-v1_afca7452_2024-02-11_14-35-18pt1771a1/checkpoint_140/checkpoint-140\n",
      "2024-02-12 13:22:15,182\tINFO trainable.py:353 -- Current state after restoring: {'_iteration': 140, '_timesteps_total': 6300000, '_time_total': 14186.80130815506, '_episodes_total': 1399}\n",
      "\n",
      "-----------------------\n",
      "ring length: 260\n",
      "v_max: 5.139779427502188\n",
      "-----------------------\n",
      "2024-02-12 13:22:19,091\tERROR worker.py:679 -- Calling ray.init() again after it has already been called.\n",
      "2024-02-12 13:22:22,003\tWARNING util.py:45 -- Install gputil for GPU system monitoring.\n",
      "2024-02-12 13:22:22,050\tINFO trainable.py:346 -- Restored from checkpoint: /mnt/c/Users/09_gi/Desktop/Beyond-Simulated-Drivers/ring/Ours/Trained_policies/5_percent/PPO_DensityAwareRLEnv-v0_5dfded14_2024-02-07_09-58-351869u4p3/checkpoint_168/checkpoint-168\n",
      "2024-02-12 13:22:22,050\tINFO trainable.py:353 -- Current state after restoring: {'_iteration': 168, '_timesteps_total': 7560000, '_time_total': 10597.856453418732, '_episodes_total': 1678}\n",
      "\n",
      "\n",
      "Leader agent restored\n",
      "<ray.rllib.policy.tf_policy_template.PPOTFPolicy object at 0x7f4296869278>\n",
      "Frequency: 26\n",
      "Intensity: -2.402701106989544\n",
      "Duration: 2.4\n",
      "Intensity: -2.5937350708796894\n",
      "Duration: 1.6\n",
      "Intensity: -1.4218608393682306\n",
      "Duration: 1.6\n",
      "Intensity: -2.1553595029681922\n",
      "Duration: 1.1\n",
      "Intensity: -2.7125321707332177\n",
      "Duration: 2.4\n",
      "Intensity: -2.4506061167551003\n",
      "Duration: 1.7\n",
      "Intensity: -2.292825204527338\n",
      "Duration: 1.0\n",
      "Intensity: -2.3173137150166276\n",
      "Duration: 1.2\n",
      "Intensity: -1.4648870789457074\n",
      "Duration: 1.7\n",
      "Intensity: -1.531841391607103\n",
      "Duration: 1.4\n",
      "Intensity: -2.331835581086752\n",
      "Duration: 0.5\n",
      "Intensity: -1.8277743980403987\n",
      "Duration: 1.1\n",
      "Intensity: -2.6951092740460902\n",
      "Duration: 1.9\n",
      "Intensity: -1.756745665276041\n",
      "Duration: 1.1\n",
      "Intensity: -1.8203320069475168\n",
      "Duration: 1.4\n",
      "Intensity: -2.868089446802675\n",
      "Duration: 1.0\n",
      "Intensity: -2.4136589817268392\n",
      "Duration: 1.7\n",
      "Intensity: -1.723397702228508\n",
      "Duration: 0.9\n",
      "Intensity: -1.1456681195701013\n",
      "Duration: 1.6\n",
      "Intensity: -1.8750624136327776\n",
      "Duration: 1.6\n",
      "Intensity: -2.839536244296432\n",
      "Duration: 1.9\n",
      "Intensity: -2.72898076247154\n",
      "Duration: 1.1\n",
      "Intensity: -2.222957161807268\n",
      "Duration: 1.2\n",
      "Intensity: -1.5618251324576642\n",
      "Duration: 1.2\n",
      "Intensity: -2.652584850190729\n",
      "Duration: 1.2\n",
      "Intensity: -2.0027112208523077\n",
      "Duration: 1.5\n",
      "Durations:  [24. 16. 16. 11. 24. 17. 10. 12. 17. 14.  5. 11. 19. 11. 14. 10. 17.  9.\n",
      " 16. 16. 19. 11. 12. 12. 12. 15.]\n",
      "Start times:  [5500 5619 5738 5858 5977 6097 6216 6335 6455 6574 6694 6813 6932 7052\n",
      " 7171 7291 7410 7529 7649 7768 7888 8007 8126 8246 8365 8485]\n",
      "End times:  [5524.0, 5635.0, 5754.0, 5869.0, 6001.0, 6114.0, 6226.0, 6347.0, 6472.0, 6588.0, 6699.0, 6824.0, 6951.0, 7063.0, 7185.0, 7301.0, 7427.0, 7538.0, 7665.0, 7784.0, 7907.0, 8018.0, 8138.0, 8258.0, 8377.0, 8500.0]\n",
      "Shock times: \n",
      " [[5500. 5524.]\n",
      " [5619. 5635.]\n",
      " [5738. 5754.]\n",
      " [5858. 5869.]\n",
      " [5977. 6001.]\n",
      " [6097. 6114.]\n",
      " [6216. 6226.]\n",
      " [6335. 6347.]\n",
      " [6455. 6472.]\n",
      " [6574. 6588.]\n",
      " [6694. 6699.]\n",
      " [6813. 6824.]\n",
      " [6932. 6951.]\n",
      " [7052. 7063.]\n",
      " [7171. 7185.]\n",
      " [7291. 7301.]\n",
      " [7410. 7427.]\n",
      " [7529. 7538.]\n",
      " [7649. 7665.]\n",
      " [7768. 7784.]\n",
      " [7888. 7907.]\n",
      " [8007. 8018.]\n",
      " [8126. 8138.]\n",
      " [8246. 8258.]\n",
      " [8365. 8377.]\n",
      " [8485. 8500.]]\n",
      "Step = 5500, Shock params: -2.402701106989544, 2.4, 26 applied to vehicle human_2_5\n",
      "\n",
      "Step = 5501, Shock params: -2.402701106989544, 2.4, 26 applied to vehicle human_2_5\n",
      "\n",
      "Step = 5502, Shock params: -2.402701106989544, 2.4, 26 applied to vehicle human_2_5\n",
      "\n",
      "Step = 5503, Shock params: -2.402701106989544, 2.4, 26 applied to vehicle human_2_5\n",
      "\n",
      "Step = 5504, Shock params: -2.402701106989544, 2.4, 26 applied to vehicle human_2_5\n",
      "\n",
      "Step = 5505, Shock params: -2.402701106989544, 2.4, 26 applied to vehicle human_2_5\n",
      "\n",
      "Step = 5506, Shock params: -2.402701106989544, 2.4, 26 applied to vehicle human_2_5\n",
      "\n",
      "Step = 5507, Shock params: -2.402701106989544, 2.4, 26 applied to vehicle human_2_5\n",
      "\n",
      "Step = 5508, Shock params: -2.402701106989544, 2.4, 26 applied to vehicle human_2_5\n",
      "\n",
      "Step = 5509, Shock params: -2.402701106989544, 2.4, 26 applied to vehicle human_2_5\n",
      "\n",
      "Step = 5510, Shock params: -2.402701106989544, 2.4, 26 applied to vehicle human_2_5\n",
      "\n",
      "Step = 5511, Shock params: -2.402701106989544, 2.4, 26 applied to vehicle human_2_5\n",
      "\n",
      "Step = 5512, Shock params: -2.402701106989544, 2.4, 26 applied to vehicle human_2_5\n",
      "\n",
      "Step = 5513, Shock params: -2.402701106989544, 2.4, 26 applied to vehicle human_2_5\n",
      "\n",
      "Step = 5514, Shock params: -2.402701106989544, 2.4, 26 applied to vehicle human_2_5\n",
      "\n",
      "Step = 5515, Shock params: -2.402701106989544, 2.4, 26 applied to vehicle human_2_5\n",
      "\n",
      "Step = 5516, Shock params: -2.402701106989544, 2.4, 26 applied to vehicle human_2_5\n",
      "\n",
      "Step = 5517, Shock params: -2.402701106989544, 2.4, 26 applied to vehicle human_2_5\n",
      "\n",
      "Step = 5518, Shock params: -2.402701106989544, 2.4, 26 applied to vehicle human_2_5\n",
      "\n",
      "Step = 5519, Shock params: -2.402701106989544, 2.4, 26 applied to vehicle human_2_5\n",
      "\n",
      "Step = 5520, Shock params: -2.402701106989544, 2.4, 26 applied to vehicle human_2_5\n",
      "\n",
      "Step = 5521, Shock params: -2.402701106989544, 2.4, 26 applied to vehicle human_2_5\n",
      "\n",
      "Step = 5522, Shock params: -2.402701106989544, 2.4, 26 applied to vehicle human_2_5\n",
      "\n",
      "Step = 5523, Shock params: -2.402701106989544, 2.4, 26 applied to vehicle human_2_5\n",
      "\n",
      "Step = 5619, Shock params: -2.5937350708796894, 1.6, 26 applied to vehicle human_2_15\n",
      "\n",
      "Step = 5620, Shock params: -2.5937350708796894, 1.6, 26 applied to vehicle human_2_15\n",
      "\n",
      "Step = 5621, Shock params: -2.5937350708796894, 1.6, 26 applied to vehicle human_2_15\n",
      "\n",
      "Step = 5622, Shock params: -2.5937350708796894, 1.6, 26 applied to vehicle human_2_15\n",
      "\n",
      "Step = 5623, Shock params: -2.5937350708796894, 1.6, 26 applied to vehicle human_2_15\n",
      "\n",
      "Step = 5624, Shock params: -2.5937350708796894, 1.6, 26 applied to vehicle human_2_15\n",
      "\n",
      "Step = 5625, Shock params: -2.5937350708796894, 1.6, 26 applied to vehicle human_2_15\n",
      "\n",
      "Step = 5626, Shock params: -2.5937350708796894, 1.6, 26 applied to vehicle human_2_15\n",
      "\n",
      "Step = 5627, Shock params: -2.5937350708796894, 1.6, 26 applied to vehicle human_2_15\n",
      "\n",
      "Step = 5628, Shock params: -2.5937350708796894, 1.6, 26 applied to vehicle human_2_15\n",
      "\n",
      "Step = 5629, Shock params: -2.5937350708796894, 1.6, 26 applied to vehicle human_2_15\n",
      "\n",
      "Step = 5630, Shock params: -2.5937350708796894, 1.6, 26 applied to vehicle human_2_15\n",
      "\n",
      "Step = 5631, Shock params: -2.5937350708796894, 1.6, 26 applied to vehicle human_2_15\n",
      "\n",
      "Step = 5632, Shock params: -2.5937350708796894, 1.6, 26 applied to vehicle human_2_15\n",
      "\n",
      "Step = 5633, Shock params: -2.5937350708796894, 1.6, 26 applied to vehicle human_2_15\n",
      "\n",
      "Step = 5634, Shock params: -2.5937350708796894, 1.6, 26 applied to vehicle human_2_15\n",
      "\n",
      "Step = 5738, Shock params: -1.4218608393682306, 1.6, 26 applied to vehicle human_2_4\n",
      "\n",
      "Step = 5739, Shock params: -1.4218608393682306, 1.6, 26 applied to vehicle human_2_4\n",
      "\n",
      "Step = 5740, Shock params: -1.4218608393682306, 1.6, 26 applied to vehicle human_2_4\n",
      "\n",
      "Step = 5741, Shock params: -1.4218608393682306, 1.6, 26 applied to vehicle human_2_4\n",
      "\n",
      "Step = 5742, Shock params: -1.4218608393682306, 1.6, 26 applied to vehicle human_2_4\n",
      "\n",
      "Step = 5743, Shock params: -1.4218608393682306, 1.6, 26 applied to vehicle human_2_4\n",
      "\n",
      "Step = 5744, Shock params: -1.4218608393682306, 1.6, 26 applied to vehicle human_2_4\n",
      "\n",
      "Step = 5745, Shock params: -1.4218608393682306, 1.6, 26 applied to vehicle human_2_4\n",
      "\n",
      "Step = 5746, Shock params: -1.4218608393682306, 1.6, 26 applied to vehicle human_2_4\n",
      "\n",
      "Step = 5747, Shock params: -1.4218608393682306, 1.6, 26 applied to vehicle human_2_4\n",
      "\n"
     ]
    },
    {
     "name": "stdout",
     "output_type": "stream",
     "text": [
      "Step = 5748, Shock params: -1.4218608393682306, 1.6, 26 applied to vehicle human_2_4\n",
      "\n",
      "Step = 5749, Shock params: -1.4218608393682306, 1.6, 26 applied to vehicle human_2_4\n",
      "\n",
      "Step = 5750, Shock params: -1.4218608393682306, 1.6, 26 applied to vehicle human_2_4\n",
      "\n",
      "Step = 5751, Shock params: -1.4218608393682306, 1.6, 26 applied to vehicle human_2_4\n",
      "\n",
      "Step = 5752, Shock params: -1.4218608393682306, 1.6, 26 applied to vehicle human_2_4\n",
      "\n",
      "Step = 5753, Shock params: -1.4218608393682306, 1.6, 26 applied to vehicle human_2_4\n",
      "\n",
      "Step = 5858, Shock params: -2.1553595029681922, 1.1, 26 applied to vehicle human_2_1\n",
      "\n",
      "Step = 5859, Shock params: -2.1553595029681922, 1.1, 26 applied to vehicle human_2_1\n",
      "\n",
      "Step = 5860, Shock params: -2.1553595029681922, 1.1, 26 applied to vehicle human_2_1\n",
      "\n",
      "Step = 5861, Shock params: -2.1553595029681922, 1.1, 26 applied to vehicle human_2_1\n",
      "\n",
      "Step = 5862, Shock params: -2.1553595029681922, 1.1, 26 applied to vehicle human_2_1\n",
      "\n",
      "Step = 5863, Shock params: -2.1553595029681922, 1.1, 26 applied to vehicle human_2_1\n",
      "\n",
      "Step = 5864, Shock params: -2.1553595029681922, 1.1, 26 applied to vehicle human_2_1\n",
      "\n",
      "Step = 5865, Shock params: -2.1553595029681922, 1.1, 26 applied to vehicle human_2_1\n",
      "\n",
      "Step = 5866, Shock params: -2.1553595029681922, 1.1, 26 applied to vehicle human_2_1\n",
      "\n",
      "Step = 5867, Shock params: -2.1553595029681922, 1.1, 26 applied to vehicle human_2_1\n",
      "\n",
      "Step = 5868, Shock params: -2.1553595029681922, 1.1, 26 applied to vehicle human_2_1\n",
      "\n",
      "Step = 5977, Shock params: -2.7125321707332177, 2.4, 26 applied to vehicle human_2_13\n",
      "\n",
      "Step = 5978, Shock params: -2.7125321707332177, 2.4, 26 applied to vehicle human_2_13\n",
      "\n",
      "Step = 5979, Shock params: -2.7125321707332177, 2.4, 26 applied to vehicle human_2_13\n",
      "\n",
      "Step = 5980, Shock params: -2.7125321707332177, 2.4, 26 applied to vehicle human_2_13\n",
      "\n",
      "Step = 5981, Shock params: -2.7125321707332177, 2.4, 26 applied to vehicle human_2_13\n",
      "\n",
      "Step = 5982, Shock params: -2.7125321707332177, 2.4, 26 applied to vehicle human_2_13\n",
      "\n",
      "Step = 5983, Shock params: -2.7125321707332177, 2.4, 26 applied to vehicle human_2_13\n",
      "\n",
      "Step = 5984, Shock params: -2.7125321707332177, 2.4, 26 applied to vehicle human_2_13\n",
      "\n",
      "Step = 5985, Shock params: -2.7125321707332177, 2.4, 26 applied to vehicle human_2_13\n",
      "\n",
      "Step = 5986, Shock params: -2.7125321707332177, 2.4, 26 applied to vehicle human_2_13\n",
      "\n",
      "Step = 5987, Shock params: -2.7125321707332177, 2.4, 26 applied to vehicle human_2_13\n",
      "\n",
      "Step = 5988, Shock params: -2.7125321707332177, 2.4, 26 applied to vehicle human_2_13\n",
      "\n",
      "Step = 5989, Shock params: -2.7125321707332177, 2.4, 26 applied to vehicle human_2_13\n",
      "\n",
      "Step = 5990, Shock params: -2.7125321707332177, 2.4, 26 applied to vehicle human_2_13\n",
      "\n",
      "Step = 5991, Shock params: -2.7125321707332177, 2.4, 26 applied to vehicle human_2_13\n",
      "\n",
      "Step = 5992, Shock params: -2.7125321707332177, 2.4, 26 applied to vehicle human_2_13\n",
      "\n",
      "Step = 5993, Shock params: -2.7125321707332177, 2.4, 26 applied to vehicle human_2_13\n",
      "\n",
      "Step = 5994, Shock params: -2.7125321707332177, 2.4, 26 applied to vehicle human_2_13\n",
      "\n",
      "Step = 5995, Shock params: -2.7125321707332177, 2.4, 26 applied to vehicle human_2_13\n",
      "\n",
      "Step = 5996, Shock params: -2.7125321707332177, 2.4, 26 applied to vehicle human_2_13\n",
      "\n",
      "Step = 5997, Shock params: -2.7125321707332177, 2.4, 26 applied to vehicle human_2_13\n",
      "\n",
      "Step = 5998, Shock params: -2.7125321707332177, 2.4, 26 applied to vehicle human_2_13\n",
      "\n",
      "Step = 5999, Shock params: -2.7125321707332177, 2.4, 26 applied to vehicle human_2_13\n",
      "\n",
      "Step = 6000, Shock params: -2.7125321707332177, 2.4, 26 applied to vehicle human_2_13\n",
      "\n",
      "Step = 6097, Shock params: -2.4506061167551003, 1.7, 26 applied to vehicle human_2_9\n",
      "\n",
      "Step = 6098, Shock params: -2.4506061167551003, 1.7, 26 applied to vehicle human_2_9\n",
      "\n",
      "Step = 6099, Shock params: -2.4506061167551003, 1.7, 26 applied to vehicle human_2_9\n",
      "\n",
      "Step = 6100, Shock params: -2.4506061167551003, 1.7, 26 applied to vehicle human_2_9\n",
      "\n",
      "Step = 6101, Shock params: -2.4506061167551003, 1.7, 26 applied to vehicle human_2_9\n",
      "\n",
      "Step = 6102, Shock params: -2.4506061167551003, 1.7, 26 applied to vehicle human_2_9\n",
      "\n",
      "Step = 6103, Shock params: -2.4506061167551003, 1.7, 26 applied to vehicle human_2_9\n",
      "\n",
      "Step = 6104, Shock params: -2.4506061167551003, 1.7, 26 applied to vehicle human_2_9\n",
      "\n",
      "Step = 6105, Shock params: -2.4506061167551003, 1.7, 26 applied to vehicle human_2_9\n",
      "\n",
      "Step = 6106, Shock params: -2.4506061167551003, 1.7, 26 applied to vehicle human_2_9\n",
      "\n",
      "Step = 6107, Shock params: -2.4506061167551003, 1.7, 26 applied to vehicle human_2_9\n",
      "\n",
      "Step = 6108, Shock params: -2.4506061167551003, 1.7, 26 applied to vehicle human_2_9\n",
      "\n",
      "Step = 6109, Shock params: -2.4506061167551003, 1.7, 26 applied to vehicle human_2_9\n",
      "\n",
      "Step = 6110, Shock params: -2.4506061167551003, 1.7, 26 applied to vehicle human_2_9\n",
      "\n",
      "Step = 6111, Shock params: -2.4506061167551003, 1.7, 26 applied to vehicle human_2_9\n",
      "\n",
      "Step = 6112, Shock params: -2.4506061167551003, 1.7, 26 applied to vehicle human_2_9\n",
      "\n",
      "Step = 6113, Shock params: -2.4506061167551003, 1.7, 26 applied to vehicle human_2_9\n",
      "\n",
      "Step = 6216, Shock params: -2.292825204527338, 1.0, 26 applied to vehicle human_2_10\n",
      "\n",
      "Step = 6217, Shock params: -2.292825204527338, 1.0, 26 applied to vehicle human_2_10\n",
      "\n",
      "Step = 6218, Shock params: -2.292825204527338, 1.0, 26 applied to vehicle human_2_10\n",
      "\n",
      "Step = 6219, Shock params: -2.292825204527338, 1.0, 26 applied to vehicle human_2_10\n",
      "\n",
      "Step = 6220, Shock params: -2.292825204527338, 1.0, 26 applied to vehicle human_2_10\n",
      "\n",
      "Step = 6221, Shock params: -2.292825204527338, 1.0, 26 applied to vehicle human_2_10\n",
      "\n",
      "Step = 6222, Shock params: -2.292825204527338, 1.0, 26 applied to vehicle human_2_10\n",
      "\n",
      "Step = 6223, Shock params: -2.292825204527338, 1.0, 26 applied to vehicle human_2_10\n",
      "\n",
      "Step = 6224, Shock params: -2.292825204527338, 1.0, 26 applied to vehicle human_2_10\n",
      "\n",
      "Step = 6225, Shock params: -2.292825204527338, 1.0, 26 applied to vehicle human_2_10\n",
      "\n",
      "Step = 6335, Shock params: -2.3173137150166276, 1.2, 26 applied to vehicle human_2_4\n",
      "\n",
      "Step = 6336, Shock params: -2.3173137150166276, 1.2, 26 applied to vehicle human_2_4\n",
      "\n",
      "Step = 6337, Shock params: -2.3173137150166276, 1.2, 26 applied to vehicle human_2_4\n",
      "\n",
      "Step = 6338, Shock params: -2.3173137150166276, 1.2, 26 applied to vehicle human_2_4\n",
      "\n",
      "Step = 6339, Shock params: -2.3173137150166276, 1.2, 26 applied to vehicle human_2_4\n",
      "\n",
      "Step = 6340, Shock params: -2.3173137150166276, 1.2, 26 applied to vehicle human_2_4\n",
      "\n",
      "Step = 6341, Shock params: -2.3173137150166276, 1.2, 26 applied to vehicle human_2_4\n",
      "\n",
      "Step = 6342, Shock params: -2.3173137150166276, 1.2, 26 applied to vehicle human_2_4\n",
      "\n",
      "Step = 6343, Shock params: -2.3173137150166276, 1.2, 26 applied to vehicle human_2_4\n",
      "\n",
      "Step = 6344, Shock params: -2.3173137150166276, 1.2, 26 applied to vehicle human_2_4\n",
      "\n",
      "Step = 6345, Shock params: -2.3173137150166276, 1.2, 26 applied to vehicle human_2_4\n",
      "\n",
      "Step = 6346, Shock params: -2.3173137150166276, 1.2, 26 applied to vehicle human_2_4\n",
      "\n",
      "Step = 6455, Shock params: -1.4648870789457074, 1.7, 26 applied to vehicle human_2_17\n",
      "\n",
      "Step = 6456, Shock params: -1.4648870789457074, 1.7, 26 applied to vehicle human_2_17\n",
      "\n",
      "Step = 6457, Shock params: -1.4648870789457074, 1.7, 26 applied to vehicle human_2_17\n",
      "\n",
      "Step = 6458, Shock params: -1.4648870789457074, 1.7, 26 applied to vehicle human_2_17\n",
      "\n",
      "Step = 6459, Shock params: -1.4648870789457074, 1.7, 26 applied to vehicle human_2_17\n",
      "\n",
      "Step = 6460, Shock params: -1.4648870789457074, 1.7, 26 applied to vehicle human_2_17\n",
      "\n",
      "Step = 6461, Shock params: -1.4648870789457074, 1.7, 26 applied to vehicle human_2_17\n",
      "\n",
      "Step = 6462, Shock params: -1.4648870789457074, 1.7, 26 applied to vehicle human_2_17\n",
      "\n",
      "Step = 6463, Shock params: -1.4648870789457074, 1.7, 26 applied to vehicle human_2_17\n",
      "\n",
      "Step = 6464, Shock params: -1.4648870789457074, 1.7, 26 applied to vehicle human_2_17\n",
      "\n",
      "Step = 6465, Shock params: -1.4648870789457074, 1.7, 26 applied to vehicle human_2_17\n",
      "\n",
      "Step = 6466, Shock params: -1.4648870789457074, 1.7, 26 applied to vehicle human_2_17\n",
      "\n",
      "Step = 6467, Shock params: -1.4648870789457074, 1.7, 26 applied to vehicle human_2_17\n",
      "\n",
      "Step = 6468, Shock params: -1.4648870789457074, 1.7, 26 applied to vehicle human_2_17\n",
      "\n",
      "Step = 6469, Shock params: -1.4648870789457074, 1.7, 26 applied to vehicle human_2_17\n",
      "\n",
      "Step = 6470, Shock params: -1.4648870789457074, 1.7, 26 applied to vehicle human_2_17\n",
      "\n"
     ]
    },
    {
     "name": "stdout",
     "output_type": "stream",
     "text": [
      "Step = 6471, Shock params: -1.4648870789457074, 1.7, 26 applied to vehicle human_2_17\n",
      "\n",
      "Step = 6574, Shock params: -1.531841391607103, 1.4, 26 applied to vehicle human_2_8\n",
      "\n",
      "Step = 6575, Shock params: -1.531841391607103, 1.4, 26 applied to vehicle human_2_8\n",
      "\n",
      "Step = 6576, Shock params: -1.531841391607103, 1.4, 26 applied to vehicle human_2_8\n",
      "\n",
      "Step = 6577, Shock params: -1.531841391607103, 1.4, 26 applied to vehicle human_2_8\n",
      "\n",
      "Step = 6578, Shock params: -1.531841391607103, 1.4, 26 applied to vehicle human_2_8\n",
      "\n",
      "Step = 6579, Shock params: -1.531841391607103, 1.4, 26 applied to vehicle human_2_8\n",
      "\n"
     ]
    }
   ],
   "source": [
    "#### Safety + Stability ####\n",
    "# For CAV (first get the data). Copy the exp_configs to a folder where test_rllib.py is located\n",
    "# Make sure efficiency is set to False in controller\n",
    "!python test_rllib.py ./Ours/Trained_policies/20_percent/PPO_MultiAgentDensityAwareRLEnv-v1_afca7452_2024-02-11_14-35-18pt1771a1 140\\\n",
    "--method ours4x --length $LENGTH --num_rollouts 20 --gen_emission --shock --render --num_controlled 4\n"
   ]
  },
  {
   "cell_type": "code",
   "execution_count": 3,
   "id": "abf494de",
   "metadata": {},
   "outputs": [
    {
     "name": "stdout",
     "output_type": "stream",
     "text": [
      "Calculating metrics for 1 rollouts on files: \n",
      "['./test_time_rollout/ours4x/density_aware_multiagent_ring_20240212-1316251707761785.1204312-0_emission.csv']\n",
      "\n",
      "sys:1: DtypeWarning: Columns (7) have mixed types. Specify dtype option on import or set low_memory=False.\n",
      "Vehicle ids: ['rl_0_0' 'rl_1_0' 'rl_2_0' 'rl_leader_0' 'human_2_0' 'human_2_1'\n",
      " 'human_2_2' 'human_2_3' 'human_2_4' 'human_2_5' 'human_2_6' 'human_2_7'\n",
      " 'human_2_8' 'human_2_9' 'human_2_10' 'human_2_11' 'human_2_12'\n",
      " 'human_2_13' 'human_2_14' 'human_2_15' 'human_2_16' 'human_2_17']\n",
      "\n",
      "(4,)\n",
      "Worst case time to collision for each vehicle (s): \n",
      "[-10.94623415  -7.81210414 -16.62231245  -7.95082068]\n",
      "\n",
      "Best case time to collision for each vehicle (s): \n",
      "[-196126.17290799   -9427.68463857 -197156.19232318  -86742.5799837 ]\n",
      "\n",
      "Average time to collision for each vehicle (s): \n",
      "[-390.41982094 -193.81727297 -493.97867738 -498.48394786]\n",
      "\n",
      "Standard deviation of time to collision for each vehicle (s): \n",
      "[5329.37395367  616.21177161 5648.21731431 3382.98197844]\n",
      "\n",
      "Time to Collision (s):\n",
      "\tWorst= -7.81\n",
      "\tBest= -197156.19\n",
      "\tAverage= -394.17\n",
      "\tStd= 3744.2\n",
      "\n",
      "####################\n",
      "(4,)\n",
      "Worst case drac for each vehicle (m/s^2): \n",
      "[0.03362631 0.06569959 0.01608524 0.466072  ]\n",
      "\n",
      "DRAC (m/s^2):\n",
      "\tWorst= 0.47\n",
      "\n",
      "####################\n",
      "(22,)\n",
      "\n",
      "Miles per gallon for each vehicle (mpg):\n",
      "[10.66054278 10.92295923 11.02992935  9.04675093 11.27441718  4.13073453\n",
      " 11.16737267 11.00848827 10.67664696 10.70028885 10.58492654 10.57681353\n",
      " 10.54185467  6.31039419 10.18696093 10.10207609 10.06196204  9.94272328\n",
      "  9.82695089  8.18475845  9.45485148  5.2644088 ]\n",
      "\n",
      "Miles per gallon (mpg): Average= 9.62, std = 1.91\n",
      "\n",
      "####################\n",
      "(22,)\n",
      "\n",
      "Average speed of each vehicle (m/s): \n",
      "[3.74448168 3.74430136 3.74381624 3.74343533 3.75921112 3.76479344\n",
      " 3.74820266 3.7632465  3.75302277 3.7538938  3.74776988 3.74751792\n",
      " 3.74786466 3.75574567 3.74755047 3.74748815 3.75170355 3.75010573\n",
      " 3.75016103 3.7565233  3.75346692 3.74834897]\n",
      "\n",
      "Standard deviation of speed of each vehicle (m/s): \n",
      "[0.12519819 0.1242843  0.11577348 0.07822662 1.11695462 1.06770695\n",
      " 0.97035973 0.91298785 0.82412877 0.75577365 0.7030097  0.68143105\n",
      " 0.66289598 0.63867983 0.57513742 0.5555974  0.53557021 0.49782602\n",
      " 0.45992147 0.40267989 0.2729004  0.14651507]\n",
      "\n",
      "Speed of all vehicles (m/s): Average= 3.75, std=0.56\n",
      "\n",
      "####################\n",
      "Total number of vehicles that crossed the zero point: 114\n",
      "\n",
      "Flow (veh/hour): 1140.0\n",
      "\n",
      "MPG: [9.62076417], [1.90902468]\n",
      "####################\n",
      "File: ./test_time_rollout/ours4x/density_aware_multiagent_ring_20240212-1316251707761785.1204312-0_emission.csv\n",
      "(4, 3600)\n",
      "Worst case time headway of controller(s): \n",
      "[1.02176018 1.02285736 1.02594413 3.35443759]\n",
      "\n",
      "\n",
      "Average time headway of controller(s): \n",
      "[1.07037504 1.07740961 1.07622304 8.35433629]\n",
      "\n",
      "Standard deviation of time headway of controller(s): \n",
      "[0.03035089 0.03649042 0.04088259 1.53785296]\n",
      "\n",
      "Time headway (s): Worst = 1.02, Avg= 2.89, std= 0.41\n",
      "\n",
      "####################\n",
      "####################\n",
      "Acceleration variation (m/s^2): []\n",
      "\n",
      "####################\n",
      "####################\n",
      "\n",
      "Final Aggregated Safety Metrics (across all files):\n",
      "\n",
      "Time to Collision across rollouts (s):\n",
      "\tWorst= [-7.812104135595904] \n",
      "\tAvg= -7.81, std= 0.0\n",
      "\n",
      "\tBest: Avg= -197156.19,         std= 0.0\n",
      "\tAverage: Avg= -394.17, std= 0.0\n",
      "\tStd: Avg= 3744.2, std= 0.0\n",
      "\n",
      "DRAC across rollouts (m/s^2):\n",
      "\tWorst= [0.4660719968608578] \n",
      "\tAvg= 0.47, std= 0.0\n",
      "\n",
      "CAV across rollouts (veh/hr): [0.4032518817068991] \n",
      "\tAvg= 0.4, std= 0.0\n",
      "\n",
      "####################\n",
      "\n",
      "Final Aggregated Efficiency Metrics (across all files):\n",
      "\n",
      "MPG across rollouts (miles/gallon): [9.620764166677665] \n",
      "\tAvg= 9.62, std= 1.91\n",
      "\n",
      "Speed across rollouts (m/s): [3.751029597577128] \n",
      "\tAvg= 3.75, std= 0.56\n",
      "\n",
      "Throughput/ Flow across rollouts (veh/hr): [1140.0] \n",
      "\tAvg= 1140.0, std= 0.0\n",
      "\n",
      "####################\n",
      "\n",
      "Final Aggregated Stability Metrics (across all files):\n",
      "\n",
      "Time to stabilize (s), (time elapsed after warmup ends): [23.9] \n",
      "\tAvg= 23.9, std= 0.0\n",
      "\n",
      "$7.81$ & $0.47$ & $9.62$ & $1140$ & $0.4$ \n"
     ]
    }
   ],
   "source": [
    "# Since !human is present in the code, this works seamlessly\n",
    "!python eval_metrics.py --method ours4x --save_plots"
   ]
  },
  {
   "cell_type": "code",
   "execution_count": null,
   "id": "d4f8f5e0",
   "metadata": {},
   "outputs": [],
   "source": [
    "#### Efficiency ####\n",
    "# Make sure to set the efficiency to true at test time in the controller file and have those files at exp_configs\n",
    "!python test_rllib.py ./Ours/Trained_policies/20_percent/PPO_MultiAgentDensityAwareRLEnv-v1_33361ae0_2024-02-11_20-29-43f1pzfgrz 140\\\n",
    "--method ours4x --length $LENGTH --num_rollouts $NUM_ROLLOUTS --gen_emission --shock --render --num_controlled 4\n"
   ]
  },
  {
   "cell_type": "code",
   "execution_count": null,
   "id": "23635c80",
   "metadata": {},
   "outputs": [],
   "source": [
    "!python eval_metrics.py --method ours4x --save_plots"
   ]
  },
  {
   "cell_type": "code",
   "execution_count": null,
   "id": "ca094d40",
   "metadata": {},
   "outputs": [],
   "source": [
    "# Data for WAR (taken on the Safety + Stability model)\n",
    "\n",
    "!python test_rllib.py ./Ours/Trained_policies/20_percent/PPO_MultiAgentDensityAwareRLEnv-v1_afca7452_2024-02-11_14-35-18pt1771a1 140\\\n",
    "--method ours4x --shock --stability --length $LENGTH --gen_emission --num_rollouts $NUM_ROLLOUTS --render\n"
   ]
  },
  {
   "cell_type": "code",
   "execution_count": null,
   "id": "35922bf1",
   "metadata": {},
   "outputs": [],
   "source": [
    "!python eval_plots.py --method ours4x"
   ]
  },
  {
   "cell_type": "markdown",
   "id": "2d822c1a",
   "metadata": {},
   "source": [
    "### 4. (40%) Multiple Vehicle Control"
   ]
  },
  {
   "cell_type": "code",
   "execution_count": null,
   "id": "ea789370",
   "metadata": {},
   "outputs": [],
   "source": []
  },
  {
   "cell_type": "code",
   "execution_count": null,
   "id": "8f222d36",
   "metadata": {},
   "outputs": [],
   "source": []
  },
  {
   "cell_type": "code",
   "execution_count": null,
   "id": "08fd3885",
   "metadata": {},
   "outputs": [],
   "source": []
  },
  {
   "cell_type": "markdown",
   "id": "af1ab7dc",
   "metadata": {},
   "source": [
    "### 5. (60%) Multiple Vehicle Control"
   ]
  },
  {
   "cell_type": "markdown",
   "id": "6c078f62",
   "metadata": {},
   "source": [
    "__Ours (9x)__\n",
    "- No stability plot is drawn for this one but still need WAR\n",
    "- The local zone of __leader__ is set to 50m at training, Change it to 55m here."
   ]
  },
  {
   "cell_type": "code",
   "execution_count": null,
   "id": "ed86eab3",
   "metadata": {},
   "outputs": [],
   "source": [
    "# Local zone is kept at 55m \n",
    "\n",
    "# For CAV (first get the data)\n",
    "!python test_rllib.py ./Ours/Trained_policies/Multi_agent_9x/PPO_MultiAgentDensityAwareRLEnv-v1_40834376_2023-07-30_19-43-22ly9k9abp 116\\\n",
    "--method ours9x --length $LENGTH --num_rollouts $NUM_ROLLOUTS --gen_emission --shock --render"
   ]
  },
  {
   "cell_type": "code",
   "execution_count": null,
   "id": "f0135ae4",
   "metadata": {},
   "outputs": [],
   "source": [
    "!python eval_metrics.py --method ours9x --save_plots"
   ]
  },
  {
   "cell_type": "code",
   "execution_count": null,
   "id": "fca3420a",
   "metadata": {},
   "outputs": [],
   "source": [
    "# Data for WAR\n",
    "!python test_rllib.py ./Ours/Trained_policies/Multi_agent_9x/PPO_MultiAgentDensityAwareRLEnv-v1_40834376_2023-07-30_19-43-22ly9k9abp 116\\\n",
    "--method ours9x --shock --stability --length $LENGTH --gen_emission --num_rollouts $NUM_ROLLOUTS --render"
   ]
  },
  {
   "cell_type": "code",
   "execution_count": null,
   "id": "9cf7c83a",
   "metadata": {},
   "outputs": [],
   "source": [
    "!python eval_plots.py --method ours9x "
   ]
  },
  {
   "cell_type": "markdown",
   "id": "d10ea0a2",
   "metadata": {},
   "source": [
    "## C. Data collection for Stability Plot\n",
    "- Execute the `eval_plots.py` code as well because this will create the stability plots (sometimes manual inspection is required)"
   ]
  },
  {
   "cell_type": "code",
   "execution_count": null,
   "id": "205a6a40",
   "metadata": {},
   "outputs": [],
   "source": [
    "LENGTH_STABILITY = 270 #m\n",
    "NUM_ROLLOUTS_STABILITY = 1"
   ]
  },
  {
   "cell_type": "markdown",
   "id": "ee39d39a",
   "metadata": {},
   "source": [
    "### IDM"
   ]
  },
  {
   "cell_type": "code",
   "execution_count": null,
   "id": "8c351972",
   "metadata": {},
   "outputs": [],
   "source": [
    "# This is for plot\n",
    "# Stability shock is applied to IDM when the system is stable and SGT is not formed yet\n",
    "# 150 is pretty early-on\n",
    "!python classic.py --method idm --length $LENGTH_STABILITY --gen_emission --stability --shock_start_time 150 --shock_end_time 3710 --render"
   ]
  },
  {
   "cell_type": "code",
   "execution_count": null,
   "id": "cd233912",
   "metadata": {},
   "outputs": [],
   "source": [
    "# IDM is unstable (So there is no wave attenuation) - WAR does not apply\n",
    "# But do we still need a value for reference (WAR = 0)\n",
    "!python eval_plots.py --method idm --start_time 150 --end_time 3710 "
   ]
  },
  {
   "cell_type": "markdown",
   "id": "2cb9a4b9",
   "metadata": {},
   "source": [
    "### FS"
   ]
  },
  {
   "cell_type": "code",
   "execution_count": null,
   "id": "15f23ee1",
   "metadata": {},
   "outputs": [],
   "source": [
    "!python classic.py --method fs --stability --length $LENGTH_STABILITY --num_rollouts $NUM_ROLLOUTS_STABILITY --gen_emission --render"
   ]
  },
  {
   "cell_type": "code",
   "execution_count": null,
   "id": "e02f48a4",
   "metadata": {},
   "outputs": [],
   "source": [
    "!python eval_plots.py --method fs "
   ]
  },
  {
   "cell_type": "markdown",
   "id": "a2f18616",
   "metadata": {},
   "source": [
    "### PIwS"
   ]
  },
  {
   "cell_type": "code",
   "execution_count": null,
   "id": "cb4faa24",
   "metadata": {},
   "outputs": [],
   "source": [
    "# Data for WAR (Check if it stabilized or not)\n",
    "!python classic.py --method piws --stability --length $LENGTH_STABILITY --num_rollouts $NUM_ROLLOUTS_STABILITY --gen_emission --render\n",
    "# Check if was stable or not before the shock was applied"
   ]
  },
  {
   "cell_type": "code",
   "execution_count": null,
   "id": "6dd06f7e",
   "metadata": {},
   "outputs": [],
   "source": [
    "!python eval_plots.py --method pi "
   ]
  },
  {
   "cell_type": "markdown",
   "id": "781040de",
   "metadata": {},
   "source": [
    "### RL+ LO (Wu et al.)"
   ]
  },
  {
   "cell_type": "code",
   "execution_count": null,
   "id": "f169c261",
   "metadata": {},
   "outputs": [],
   "source": [
    "!python test_rllib.py ./Wu_et_al/Trained_policies/PPO_WaveAttenuationPOEnv-v0_25b5cb6e_2022-01-26_10-58-12e9f4i3ao 50\\\n",
    "--method wu --shock --stability --length $LENGTH_STABILITY --gen_emission --num_rollouts $NUM_ROLLOUTS_STABILITY --render\n"
   ]
  },
  {
   "cell_type": "code",
   "execution_count": null,
   "id": "5161f497",
   "metadata": {},
   "outputs": [],
   "source": [
    "!python eval_plots.py --method wu "
   ]
  },
  {
   "cell_type": "markdown",
   "id": "75b9c8dc",
   "metadata": {},
   "source": [
    "### Ours (1x)\n",
    "- Set local zone to 35m in the file before executing the code below"
   ]
  },
  {
   "cell_type": "code",
   "execution_count": null,
   "id": "2936af2b",
   "metadata": {},
   "outputs": [],
   "source": [
    "# This data is taken with the local zone set to 35m\n",
    "!python test_rllib.py ./Ours/Trained_policies/Single_agent/PPO_DensityAwareRLEnv-v0_2355c52c_2023-07-21_18-27-20qktx7e8o 290\\\n",
    "--method ours --shock --stability --length $LENGTH_STABILITY --gen_emission --num_rollouts $NUM_ROLLOUTS_STABILITY --render"
   ]
  },
  {
   "cell_type": "code",
   "execution_count": null,
   "id": "2b15dad9",
   "metadata": {},
   "outputs": [],
   "source": [
    "!python eval_plots.py --method ours"
   ]
  },
  {
   "cell_type": "markdown",
   "id": "41edf58d",
   "metadata": {},
   "source": [
    "### BCM"
   ]
  },
  {
   "cell_type": "code",
   "execution_count": null,
   "id": "9cf417e8",
   "metadata": {},
   "outputs": [],
   "source": [
    "!python classic.py --method bcm --stability --length $LENGTH_STABILITY --num_rollouts $NUM_ROLLOUTS_STABILITY --gen_emission --num_rollouts $NUM_ROLLOUTS_WAR --render\n"
   ]
  },
  {
   "cell_type": "code",
   "execution_count": null,
   "id": "0e541f4f",
   "metadata": {},
   "outputs": [],
   "source": [
    "!python eval_plots.py --method bcm "
   ]
  },
  {
   "cell_type": "markdown",
   "id": "d3cfeeb2",
   "metadata": {},
   "source": [
    "### Ours (4x)\n",
    "- Set Local zone to 40m in the file before executing the code below "
   ]
  },
  {
   "cell_type": "code",
   "execution_count": null,
   "id": "8a01cecd",
   "metadata": {},
   "outputs": [],
   "source": [
    "# This data is taken with the local zone set to 40m\n",
    "!python test_rllib.py ./Ours/Trained_policies/Multi_agent_4x/PPO_MultiAgentDensityAwareRLEnv-v1_0fac2f26_2023-07-31_09-46-415e_f62_x 48\\\n",
    "--method ours4x --shock --stability --length $LENGTH_STABILITY --gen_emission --num_rollouts $NUM_ROLLOUTS_STABILITY --render\n"
   ]
  },
  {
   "cell_type": "code",
   "execution_count": null,
   "id": "454881a5",
   "metadata": {},
   "outputs": [],
   "source": [
    "!python eval_plots.py --method ours4x"
   ]
  },
  {
   "cell_type": "markdown",
   "id": "01728cdf",
   "metadata": {},
   "source": [
    "### LACC"
   ]
  },
  {
   "cell_type": "code",
   "execution_count": null,
   "id": "819f12e9",
   "metadata": {},
   "outputs": [],
   "source": [
    "!python classic.py --method lacc --stability --length $LENGTH_STABILITY --num_rollouts $NUM_ROLLOUTS_STABILITY --gen_emission --shock_start_time 11400 --shock_end_time 15000 --render"
   ]
  },
  {
   "cell_type": "code",
   "execution_count": null,
   "id": "60c34217",
   "metadata": {},
   "outputs": [],
   "source": [
    "!python eval_plots.py --method lacc --start_time 11400 --end_time 15000 --propogate_time 200"
   ]
  },
  {
   "cell_type": "markdown",
   "id": "5f460b7c",
   "metadata": {},
   "source": [
    "### Ours (9x)\n",
    "- This not included in the stability plot"
   ]
  }
 ],
 "metadata": {
  "kernelspec": {
   "display_name": "Python 3 (ipykernel)",
   "language": "python",
   "name": "python3"
  },
  "language_info": {
   "codemirror_mode": {
    "name": "ipython",
    "version": 3
   },
   "file_extension": ".py",
   "mimetype": "text/x-python",
   "name": "python",
   "nbconvert_exporter": "python",
   "pygments_lexer": "ipython3",
   "version": "3.7.3"
  }
 },
 "nbformat": 4,
 "nbformat_minor": 5
}
