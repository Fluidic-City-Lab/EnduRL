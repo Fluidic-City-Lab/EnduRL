{
 "cells": [
  {
   "cell_type": "markdown",
   "id": "80fc7a9a",
   "metadata": {},
   "source": [
    "### Metrics: \n",
    "1. \n",
    "\n",
    "### Notes:\n",
    "\n",
    " "
   ]
  },
  {
   "cell_type": "markdown",
   "id": "10383ecc",
   "metadata": {},
   "source": [
    "__Ours (1x)__\n",
    "- Th"
   ]
  },
  {
   "cell_type": "code",
   "execution_count": null,
   "id": "a40a8286",
   "metadata": {},
   "outputs": [],
   "source": [
    "# set parameters here\n",
    "NUM_ROLLOUTS = 10\n",
    "LENGTH = 260\n"
   ]
  },
  {
   "cell_type": "code",
   "execution_count": null,
   "id": "80a41d1f",
   "metadata": {},
   "outputs": [],
   "source": [
    "# For CAV (first get the data)\n",
    "\n",
    "!python test_rllib.py ./Ours/Trained_policies/Single_agent/PPO_DensityAwareRLEnv-v0_9f06b80a_2023-07-30_19-17-237pw6u5d2 40\\\n",
    "--method ours --length $LENGTH --num_rollouts $NUM_ROLLOUTS --gen_emission --shock --render\n"
   ]
  },
  {
   "cell_type": "code",
   "execution_count": null,
   "id": "23e47519",
   "metadata": {
    "scrolled": true
   },
   "outputs": [],
   "source": [
    "!python eval_metrics.py --method ours --save_plots"
   ]
  },
  {
   "cell_type": "markdown",
   "id": "0693ef9a",
   "metadata": {},
   "source": [
    "__Ours (4x)__"
   ]
  },
  {
   "cell_type": "code",
   "execution_count": null,
   "id": "453b1225",
   "metadata": {},
   "outputs": [],
   "source": [
    "# For CAV (first get the data)\n",
    "!python test_rllib.py ./Ours/Trained_policies/Multi_agent_4x/PPO_MultiAgentDensityAwareRLEnv-v1_7ae93312_2023-07-22_17-24-10ppil4or8 34\\\n",
    "--method ours4x --length $LENGTH --num_rollouts $NUM_ROLLOUTS --gen_emission --shock --render\n"
   ]
  },
  {
   "cell_type": "code",
   "execution_count": null,
   "id": "abf494de",
   "metadata": {},
   "outputs": [],
   "source": [
    "!python eval_metrics.py --method ours4x --save_plots"
   ]
  },
  {
   "cell_type": "markdown",
   "id": "6c078f62",
   "metadata": {},
   "source": [
    "__Ours (9x)__"
   ]
  },
  {
   "cell_type": "code",
   "execution_count": null,
   "id": "ed86eab3",
   "metadata": {},
   "outputs": [],
   "source": []
  },
  {
   "cell_type": "code",
   "execution_count": null,
   "id": "f0135ae4",
   "metadata": {},
   "outputs": [],
   "source": []
  }
 ],
 "metadata": {
  "kernelspec": {
   "display_name": "Python 3 (ipykernel)",
   "language": "python",
   "name": "python3"
  },
  "language_info": {
   "codemirror_mode": {
    "name": "ipython",
    "version": 3
   },
   "file_extension": ".py",
   "mimetype": "text/x-python",
   "name": "python",
   "nbconvert_exporter": "python",
   "pygments_lexer": "ipython3",
   "version": "3.7.16"
  }
 },
 "nbformat": 4,
 "nbformat_minor": 5
}
