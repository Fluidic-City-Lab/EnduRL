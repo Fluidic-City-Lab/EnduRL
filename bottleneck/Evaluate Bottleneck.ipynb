{
 "cells": [
  {
   "cell_type": "markdown",
   "id": "a1931739",
   "metadata": {},
   "source": [
    "### Data collection for various metrics:\n",
    "\n",
    "For Ours:\n",
    "Data Collection for Safety and Stability Metrics (Ignore the efficiency metrics even though they are displayed). \n",
    "\n",
    "Collection performed in 2 stages\n",
    "\n",
    "    A. Data collection for Safety and CAV (Controller Acceleration Variation) \n",
    "    B. Data collevtion for WAR (Wave Attenuation Ratio)\n",
    "\n",
    "### Notes:\n",
    "\n",
    "- Desired velocity change for FS May need monitoring (May not be set for all possible lengths)\n",
    "- PI can have failures, so have to turn ON render and manually check\n",
    "- Generated data will be saved in the folder `test_time_rollout`\n",
    "\n",
    "- At test time: The inflow should be fixed and be same as the classic controllers \n",
    "- Sim step: At training, was set to 0.5. At test, set to 0.1\n",
    "\n",
    "## When analyzing the csv files\n",
    "- For RL shocks start at 7400 and end at 11000\n",
    "- To make it fair, for classic controller the rollouts goes upto 11000 with shocks that come up at 7400 (for some reason, the warmup value makes the horizon longer but does not push the shock start time back.)\n",
    "\n",
    "\n",
    "### Additional Notes\n",
    "- When sampling shock vehicles, sometimes a vehicle that has exited the network may be sampled and cause an error. Redo the experiment in that case."
   ]
  },
  {
   "cell_type": "code",
   "execution_count": null,
   "id": "7540c77c",
   "metadata": {},
   "outputs": [],
   "source": [
    "NUM_ROLLOUTS = 10 # There is more variation in the sampling\n",
    "\n",
    "# Just change the av_frac and rerun the experiments\n",
    "AV_FRAC =  0.05 #0.05, 0.2, 0.4, 0.6"
   ]
  },
  {
   "cell_type": "markdown",
   "id": "f992f06b",
   "metadata": {},
   "source": [
    "### 1. (100%) IDM "
   ]
  },
  {
   "cell_type": "code",
   "execution_count": null,
   "id": "d6503d8d",
   "metadata": {},
   "outputs": [],
   "source": [
    "# idm (although av_frac is not used, must be supplied)\n",
    "!python classic.py --method idm --gen_emission --num_rollouts $NUM_ROLLOUTS\\\n",
    "--render --shock --av_frac 1.0 --sim_step 0.5 --shock_start_time 500 \\\n",
    "--shock_end_time 1220 --horizon 1220"
   ]
  },
  {
   "cell_type": "code",
   "execution_count": null,
   "id": "22a0370d",
   "metadata": {},
   "outputs": [],
   "source": [
    "!python eval_metrics.py --method idm --start_time 500 --end_time 1220 --sim_step 0.5"
   ]
  },
  {
   "cell_type": "markdown",
   "id": "9ce2b332",
   "metadata": {},
   "source": [
    "### 2. Multiple Vehicle Control at % deployments"
   ]
  },
  {
   "cell_type": "markdown",
   "id": "bf364006",
   "metadata": {},
   "source": [
    "### FS"
   ]
  },
  {
   "cell_type": "code",
   "execution_count": null,
   "id": "85d1484c",
   "metadata": {},
   "outputs": [],
   "source": [
    "!python classic.py --method fs --gen_emission --num_rollouts $NUM_ROLLOUTS \\\n",
    "--render --shock --av_frac $AV_FRAC --sim_step 0.5 --shock_start_time 500 \\\n",
    "--shock_end_time 1220 --horizon 1220"
   ]
  },
  {
   "cell_type": "code",
   "execution_count": null,
   "id": "5e69bf21",
   "metadata": {},
   "outputs": [],
   "source": [
    "!python eval_metrics.py --method fs --start_time 500 --end_time 1220 --sim_step 0.5"
   ]
  },
  {
   "cell_type": "markdown",
   "id": "74cdbe08",
   "metadata": {},
   "source": [
    "### PIwS"
   ]
  },
  {
   "cell_type": "code",
   "execution_count": null,
   "id": "72d8733f",
   "metadata": {},
   "outputs": [],
   "source": [
    "# piws\n",
    "!python classic.py --method piws --gen_emission --num_rollouts $NUM_ROLLOUTS\\\n",
    "--shock --render --av_frac $AV_FRAC --sim_step 0.5 --shock_start_time 500 \\\n",
    "--shock_end_time 1220 --horizon 1220"
   ]
  },
  {
   "cell_type": "code",
   "execution_count": null,
   "id": "1c9be825",
   "metadata": {},
   "outputs": [],
   "source": [
    "!python eval_metrics.py --method pi --start_time 500 --end_time 1220 --sim_step 0.5"
   ]
  },
  {
   "cell_type": "markdown",
   "id": "ece92831",
   "metadata": {},
   "source": [
    "### BCM"
   ]
  },
  {
   "cell_type": "code",
   "execution_count": null,
   "id": "67bb8002",
   "metadata": {},
   "outputs": [],
   "source": [
    "# bcm \n",
    "!python classic.py --method bcm --num_rollouts $NUM_ROLLOUTS \\\n",
    "--gen_emission --shock --render --av_frac $AV_FRAC --sim_step 0.5 --shock_start_time 500 \\\n",
    "--shock_end_time 1220 --horizon 1220"
   ]
  },
  {
   "cell_type": "code",
   "execution_count": null,
   "id": "93408842",
   "metadata": {},
   "outputs": [],
   "source": [
    "!python eval_metrics.py --method bcm --start_time 500 --end_time 1220 --sim_step 0.5"
   ]
  },
  {
   "cell_type": "markdown",
   "id": "9fac5dea",
   "metadata": {},
   "source": [
    "### LACC"
   ]
  },
  {
   "cell_type": "code",
   "execution_count": null,
   "id": "e1407af7",
   "metadata": {},
   "outputs": [],
   "source": [
    "# lacc\n",
    "!python classic.py --method lacc --num_rollouts $NUM_ROLLOUTS\\\n",
    "--gen_emission --shock --render --av_frac $AV_FRAC --sim_step 0.5 --shock_start_time 500 \\\n",
    "--shock_end_time 1220 --horizon 1220"
   ]
  },
  {
   "cell_type": "code",
   "execution_count": null,
   "id": "0833f508",
   "metadata": {},
   "outputs": [],
   "source": [
    "!python eval_metrics.py --method lacc --start_time 500 --end_time 1220 --sim_step 0.5"
   ]
  },
  {
   "cell_type": "markdown",
   "id": "48cc51d0",
   "metadata": {},
   "source": [
    "### Notes: \n",
    "- Some things are different for Vinitsky and Ours\n",
    "- Sim steps is 0.5 so although horizon is 11000. It ends at 5500. These are longer than what is seen at training (1750).\n",
    "- Shocks normally begin at 7400 and end at 11000 (for 0.1 timesteps = 360 seconds as sim_step) but here (at 0.5 sim_steps):\n",
    "\n",
    "1. begin at 500 and end at 1240 i.e., they run for 720 steps (360 seconds)\n",
    "\n",
    "- Lokks like not a single change in eval_metrics.\n",
    "- There is no warmup at test time (same for classic controllers)"
   ]
  },
  {
   "cell_type": "markdown",
   "id": "170d964d",
   "metadata": {},
   "source": [
    "### Vinitsky\n",
    "- Now we have different policies for each av_frac\n",
    "- Always monitor, can unexpectedly quit"
   ]
  },
  {
   "cell_type": "markdown",
   "id": "f13f0367",
   "metadata": {},
   "source": [
    "### (5%)"
   ]
  },
  {
   "cell_type": "code",
   "execution_count": null,
   "id": "249c2753",
   "metadata": {},
   "outputs": [],
   "source": [
    "# copy the exp_configs to the test_rllib.py folder \n",
    "# For some reason, this replaces its own file so have to be done this way\n",
    "for _ in range(NUM_ROLLOUTS):\n",
    "    !python test_rllib.py ./Vinitsky_et_al/Trained_policies/5_percent/PPO_BottleneckDesiredVelocityEnv-v0_ae80d23e_2024-02-20_12-15-449lzgp6ar 250 \\\n",
    "    --method vinitsky --num_rollouts 1 --gen_emission --shock --render --sim_step 0.5 --shock_start_time 500 \\\n",
    "    --shock_end_time 1220 --horizon 1220\n",
    "    "
   ]
  },
  {
   "cell_type": "code",
   "execution_count": null,
   "id": "3a6105ea",
   "metadata": {},
   "outputs": [],
   "source": [
    "!python eval_metrics.py --method vinitsky --start_time 500 --end_time 1220 --sim_step 0.5"
   ]
  },
  {
   "cell_type": "markdown",
   "id": "84136c30",
   "metadata": {},
   "source": [
    "### (20%)"
   ]
  },
  {
   "cell_type": "code",
   "execution_count": null,
   "id": "fb38ae3c",
   "metadata": {},
   "outputs": [],
   "source": []
  },
  {
   "cell_type": "code",
   "execution_count": null,
   "id": "4ee36704",
   "metadata": {},
   "outputs": [],
   "source": [
    "!python eval_metrics.py --method vinitsky --start_time 500 --end_time 1220 --sim_step 0.5"
   ]
  },
  {
   "cell_type": "markdown",
   "id": "f64e51dc",
   "metadata": {},
   "source": [
    "### (40%)"
   ]
  },
  {
   "cell_type": "code",
   "execution_count": null,
   "id": "07a5fd81",
   "metadata": {},
   "outputs": [],
   "source": []
  },
  {
   "cell_type": "code",
   "execution_count": null,
   "id": "73cabef8",
   "metadata": {},
   "outputs": [],
   "source": [
    "!python eval_metrics.py --method vinitsky --start_time 500 --end_time 1220 --sim_step 0.5"
   ]
  },
  {
   "cell_type": "markdown",
   "id": "a922e23a",
   "metadata": {},
   "source": [
    "### (60%)"
   ]
  },
  {
   "cell_type": "code",
   "execution_count": null,
   "id": "fc4593de",
   "metadata": {},
   "outputs": [],
   "source": []
  },
  {
   "cell_type": "code",
   "execution_count": null,
   "id": "eb05eea2",
   "metadata": {},
   "outputs": [],
   "source": [
    "!python eval_metrics.py --method vinitsky --start_time 500 --end_time 1220 --sim_step 0.5"
   ]
  },
  {
   "cell_type": "markdown",
   "id": "723296af",
   "metadata": {},
   "source": [
    "### Ours\n",
    "- Now we have different policies for each av_frac\n",
    "- At test time, set min_gap to 5"
   ]
  },
  {
   "cell_type": "markdown",
   "id": "6e1dbd0f",
   "metadata": {},
   "source": [
    "### (5%)"
   ]
  },
  {
   "cell_type": "code",
   "execution_count": null,
   "id": "52eabf92",
   "metadata": {},
   "outputs": [],
   "source": [
    "###### SAFETY + STABILITY ######\n",
    "# First change the avfrac in the exp_configs and copy the exp_configs to the test_rllib.py folder \n",
    "# For some reason, this replaces its own file so have to be done this way\n",
    "for _ in range(NUM_ROLLOUTS):\n",
    "    !python test_rllib.py ./Ours/Trained_policies/5_percent/PPO_DensityAwareBottleneckEnv-v1_6212be34_2024-02-20_19-30-152ok87cho 354\\\n",
    "    --method ours --num_rollouts 1 --gen_emission --shock --render --min_gap 10.0 --sim_step 0.5 --shock_start_time 500 \\\n",
    "    --shock_end_time 1220 --horizon 1220 \n"
   ]
  },
  {
   "cell_type": "code",
   "execution_count": null,
   "id": "b371ffc5",
   "metadata": {},
   "outputs": [],
   "source": [
    "!python eval_metrics.py --method ours --start_time 500 --end_time 1220 --sim_step 0.5"
   ]
  },
  {
   "cell_type": "code",
   "execution_count": null,
   "id": "be8af825",
   "metadata": {},
   "outputs": [],
   "source": [
    "###### Efficiency ######\n",
    "# Make sure to turn on the zero acceleration behavior at test time\n"
   ]
  },
  {
   "cell_type": "code",
   "execution_count": null,
   "id": "8419fed5",
   "metadata": {},
   "outputs": [],
   "source": []
  },
  {
   "cell_type": "markdown",
   "id": "9b57004f",
   "metadata": {},
   "source": [
    "### (20%)"
   ]
  },
  {
   "cell_type": "code",
   "execution_count": null,
   "id": "38934420",
   "metadata": {},
   "outputs": [],
   "source": [
    "###### SAFETY + STABILITY ######\n"
   ]
  },
  {
   "cell_type": "code",
   "execution_count": null,
   "id": "b2f54972",
   "metadata": {},
   "outputs": [],
   "source": [
    "!python eval_metrics.py --method vinitsky --start_time 500 --end_time 1220 --sim_step 0.5"
   ]
  },
  {
   "cell_type": "markdown",
   "id": "d1974531",
   "metadata": {},
   "source": [
    "### (40%)"
   ]
  },
  {
   "cell_type": "code",
   "execution_count": null,
   "id": "2afde717",
   "metadata": {},
   "outputs": [],
   "source": []
  },
  {
   "cell_type": "code",
   "execution_count": null,
   "id": "0a61f055",
   "metadata": {},
   "outputs": [],
   "source": [
    "!python eval_metrics.py --method vinitsky --start_time 500 --end_time 1220 --sim_step 0.5"
   ]
  },
  {
   "cell_type": "code",
   "execution_count": null,
   "id": "24b141b4",
   "metadata": {},
   "outputs": [],
   "source": []
  },
  {
   "cell_type": "code",
   "execution_count": null,
   "id": "c7713f68",
   "metadata": {},
   "outputs": [],
   "source": []
  },
  {
   "cell_type": "code",
   "execution_count": null,
   "id": "6147c4f5",
   "metadata": {},
   "outputs": [],
   "source": []
  }
 ],
 "metadata": {
  "kernelspec": {
   "display_name": "Python 3 (ipykernel)",
   "language": "python",
   "name": "python3"
  },
  "language_info": {
   "codemirror_mode": {
    "name": "ipython",
    "version": 3
   },
   "file_extension": ".py",
   "mimetype": "text/x-python",
   "name": "python",
   "nbconvert_exporter": "python",
   "pygments_lexer": "ipython3",
   "version": "3.7.3"
  }
 },
 "nbformat": 4,
 "nbformat_minor": 5
}
