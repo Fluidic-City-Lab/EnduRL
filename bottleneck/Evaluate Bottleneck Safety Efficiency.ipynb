{
 "cells": [
  {
   "cell_type": "markdown",
   "id": "a1931739",
   "metadata": {},
   "source": [
    "### Data collection for various metrics:\n",
    "\n",
    "For Ours:\n",
    "Data Collection for Safety and Stability Metrics (Ignore the efficiency metrics even though they are displayed). \n",
    "\n",
    "Collection performed in 2 stages\n",
    "\n",
    "    A. Data collection for Safety and CAV (Controller Acceleration Variation) \n",
    "    B. Data collevtion for WAR (Wave Attenuation Ratio)\n",
    "\n",
    "### Notes:\n",
    "\n",
    "- Desired velocity change for FS May need monitoring (May not be set for all possible lengths)\n",
    "- PI can have failures, so have to turn ON render and manually check\n",
    "- Generated data will be saved in the folder `test_time_rollout`\n",
    "\n",
    "- At test time: The inflow should be fixed and be same as the classic controllers \n",
    "- Sim step: At training, was set to 0.5. At test, set to 0.1\n",
    "\n",
    "## When analyzing the csv files\n",
    "- For RL shocks start at 7400 and end at 11000\n",
    "- To make it fair, for classic controller the rollouts goes upto 11000 with shocks that come up at 7400 (for some reason, the warmup value makes the horizon longer but does not push the shock start time back.)"
   ]
  },
  {
   "cell_type": "code",
   "execution_count": null,
   "id": "7540c77c",
   "metadata": {},
   "outputs": [],
   "source": [
    "NUM_ROLLOUTS = 5"
   ]
  },
  {
   "cell_type": "markdown",
   "id": "f992f06b",
   "metadata": {},
   "source": [
    "## IDM"
   ]
  },
  {
   "cell_type": "code",
   "execution_count": null,
   "id": "d6503d8d",
   "metadata": {},
   "outputs": [],
   "source": [
    "# idm --shock \n",
    "!python classic.py --method idm --gen_emission --num_rollouts $NUM_ROLLOUTS --render --shock "
   ]
  },
  {
   "cell_type": "code",
   "execution_count": null,
   "id": "22a0370d",
   "metadata": {},
   "outputs": [],
   "source": [
    "!python eval_metrics.py --method idm --start_time 7400 --end_time 11000"
   ]
  },
  {
   "cell_type": "markdown",
   "id": "9ce2b332",
   "metadata": {},
   "source": [
    "## RVs Deployed at 10%"
   ]
  },
  {
   "cell_type": "code",
   "execution_count": null,
   "id": "e138d530",
   "metadata": {},
   "outputs": [],
   "source": [
    "# fs\n",
    "!python classic.py --method fs --gen_emission --num_rollouts $NUM_ROLLOUTS --shock --render"
   ]
  },
  {
   "cell_type": "code",
   "execution_count": null,
   "id": "afeaefd1",
   "metadata": {},
   "outputs": [],
   "source": [
    "!python eval_metrics.py --method fs --start_time 7400 --end_time 11000"
   ]
  },
  {
   "cell_type": "code",
   "execution_count": null,
   "id": "40808947",
   "metadata": {},
   "outputs": [],
   "source": [
    "# piws\n",
    "!python classic.py --method piws --gen_emission --num_rollouts $NUM_ROLLOUTS --shock --render"
   ]
  },
  {
   "cell_type": "code",
   "execution_count": null,
   "id": "a7015f02",
   "metadata": {},
   "outputs": [],
   "source": [
    "!python eval_metrics.py --method pi --start_time 7400 --end_time 11000"
   ]
  },
  {
   "cell_type": "code",
   "execution_count": null,
   "id": "fe314ca9",
   "metadata": {},
   "outputs": [],
   "source": [
    "# Vinitsky\n",
    "# 3233 at around 13.5 M = 94 ep\n",
    "# Here start time and end time is not 4400 and 8000 rather: \n",
    "# Data recording stars at warmup\n",
    "chkpt = 94\n",
    "!python test_rllib.py ./Vinitsky_et_al/Trained_policies/PPO_BottleneckDesiredVelocityEnv-v0_18afac40_2023-09-04_11-31-19u4dl8wsj $chkpt\\\n",
    "--method vinitsky --num_rollouts $NUM_ROLLOUTS --gen_emission --shock --render \n"
   ]
  },
  {
   "cell_type": "code",
   "execution_count": null,
   "id": "1c1a86d8",
   "metadata": {},
   "outputs": [],
   "source": [
    "!python eval_metrics.py --method vinitsky --start_time 7400 --end_time 11000"
   ]
  },
  {
   "cell_type": "code",
   "execution_count": null,
   "id": "62ccea91",
   "metadata": {},
   "outputs": [],
   "source": [
    "# Ours (10%) \n",
    "!python test_rllib.py ./Ours/Trained_policies/ten_percent/PPO_DensityAwareBottleneckEnv-v0_a810b000_2023-09-15_10-03-33byrumwt9 1\\\n",
    "--method ours --num_rollouts $NUM_ROLLOUTS --gen_emission --shock --render\n"
   ]
  },
  {
   "cell_type": "code",
   "execution_count": 1,
   "id": "172ed5c8",
   "metadata": {},
   "outputs": [
    {
     "name": "stdout",
     "output_type": "stream",
     "text": [
      "Calculating metrics for 1 rollouts on files: \n",
      "['./test_time_rollout/ours/bottleneck_ours_20230915-1022571694787777.8543332-0_emission.csv', './test_time_rollout/ours/bottleneck_ours_20230915-1030211694788221.0612085-0_emission.csv', './test_time_rollout/ours/bottleneck_ours_20230915-1031071694788267.8162122-0_emission.csv', './test_time_rollout/ours/bottleneck_ours_20230915-1037371694788657.2103238-0_emission.csv', './test_time_rollout/ours/bottleneck_ours_20230915-1040221694788822.271583-0_emission.csv', './test_time_rollout/ours/bottleneck_ours_20230915-1046331694789193.8823948-0_emission.csv', './test_time_rollout/ours/bottleneck_ours_20230915-1053211694789601.1496096-0_emission.csv', './test_time_rollout/ours/bottleneck_ours_20230915-1053341694789614.966235-0_emission.csv']\n",
      "\n",
      "file: ./test_time_rollout/ours/bottleneck_ours_20230915-1022571694787777.8543332-0_emission.csv\n",
      "####################\n",
      "####################\n",
      "file: ./test_time_rollout/ours/bottleneck_ours_20230915-1030211694788221.0612085-0_emission.csv\n",
      "####################\n",
      "####################\n",
      "file: ./test_time_rollout/ours/bottleneck_ours_20230915-1031071694788267.8162122-0_emission.csv\n",
      "####################\n",
      "####################\n",
      "file: ./test_time_rollout/ours/bottleneck_ours_20230915-1037371694788657.2103238-0_emission.csv\n",
      "####################\n",
      "####################\n",
      "file: ./test_time_rollout/ours/bottleneck_ours_20230915-1040221694788822.271583-0_emission.csv\n",
      "####################\n",
      "####################\n",
      "file: ./test_time_rollout/ours/bottleneck_ours_20230915-1046331694789193.8823948-0_emission.csv\n",
      "####################\n",
      "####################\n",
      "file: ./test_time_rollout/ours/bottleneck_ours_20230915-1053211694789601.1496096-0_emission.csv\n",
      "####################\n",
      "####################\n",
      "file: ./test_time_rollout/ours/bottleneck_ours_20230915-1053341694789614.966235-0_emission.csv\n",
      "####################\n",
      "####################\n",
      "####################\n",
      "####################\n",
      "####################\n",
      "####################\n",
      "####################\n",
      "####################\n",
      "####################\n",
      "####################\n",
      "####################\n",
      "####################\n",
      "####################\n",
      "####################\n",
      "####################\n",
      "####################\n",
      "####################\n",
      "####################\n",
      "####################\n",
      "####################\n",
      "\n",
      "Final Aggregated Metrics (across all files):\n",
      "\n",
      "Safety:\n",
      "Time to collision (TTC): \n",
      "[1.4800183618211054, 1.488036342113752, 1.5198174089416412, 1.506293453847571, 1.4560296383630056, 1.4637958870686527, 1.4527713694327158, 1.4341443264161824]\n",
      "\n",
      "\n",
      "Deceleration rate to avoid crash (DRAC): \n",
      "[5.746084009171861, 5.311619650414194, 4.051928193109616, 5.4106953169193055, 5.0311407388161635, 5.30039575721694, 5.80617672539385, 6.024469226599748]\n",
      "\n",
      "\n",
      "Efficiency:\n",
      "Miles per gallon (MPG): \n",
      "[10.980036022172966, 12.283260140616568, 11.081989737467467, 11.3202384567312, 10.69121477015197, 11.984100766710307, 11.985031837295251, 13.247255456043263]\n",
      "\n",
      "\n",
      "Throughput (vehicles/hour): \n",
      "[2700.0, 2850.0, 2920.0, 2920.0, 2780.0, 2870.0, 2920.0, 2850.0]\n",
      "\n",
      "\n",
      "Stability:\n",
      "Controller acceleration variation (CAV): \n",
      "[1.709911721342857, 1.4207381209967374, 1.6540179717649113, 1.339524277442973, 1.6174213736446579, 1.7014578406924725, 1.6959475992098492, 1.6505278679514346]\n",
      "\n",
      "\n",
      "$1.48$ & $5.34$ & $11.7$ & $2851$ & $1.6$ \n"
     ]
    }
   ],
   "source": [
    "!python eval_metrics.py --method ours --start_time 7400 --end_time 11000"
   ]
  },
  {
   "cell_type": "markdown",
   "id": "f28ef647",
   "metadata": {},
   "source": [
    "## RVs Deployed at 20%"
   ]
  },
  {
   "cell_type": "code",
   "execution_count": null,
   "id": "a8858304",
   "metadata": {},
   "outputs": [],
   "source": [
    "\n",
    "# bcm \n",
    "!python classic.py --method bcm --num_rollouts $NUM_ROLLOUTS --gen_emission --shock --render"
   ]
  },
  {
   "cell_type": "code",
   "execution_count": null,
   "id": "c740d4a4",
   "metadata": {},
   "outputs": [],
   "source": [
    "!python eval_metrics.py --method bcm --start_time 7400 --end_time 11000"
   ]
  },
  {
   "cell_type": "code",
   "execution_count": null,
   "id": "a760170f",
   "metadata": {},
   "outputs": [],
   "source": [
    "# Ours (20%)\n"
   ]
  },
  {
   "cell_type": "markdown",
   "id": "4803b1a6",
   "metadata": {},
   "source": [
    "## RVs Deployed at 40%"
   ]
  },
  {
   "cell_type": "code",
   "execution_count": null,
   "id": "f2ae311f",
   "metadata": {},
   "outputs": [],
   "source": [
    "# lacc\n",
    "!python classic.py --method lacc --num_rollouts $NUM_ROLLOUTS --gen_emission --shock --render"
   ]
  },
  {
   "cell_type": "code",
   "execution_count": null,
   "id": "cb74b598",
   "metadata": {},
   "outputs": [],
   "source": [
    "!python eval_metrics.py --method lacc --start_time 7400 --end_time 11000"
   ]
  },
  {
   "cell_type": "code",
   "execution_count": null,
   "id": "9f856dc8",
   "metadata": {},
   "outputs": [],
   "source": [
    "# Ours (40%)\n"
   ]
  },
  {
   "cell_type": "code",
   "execution_count": null,
   "id": "9edbd734",
   "metadata": {},
   "outputs": [],
   "source": []
  }
 ],
 "metadata": {
  "kernelspec": {
   "display_name": "Python 3 (ipykernel)",
   "language": "python",
   "name": "python3"
  },
  "language_info": {
   "codemirror_mode": {
    "name": "ipython",
    "version": 3
   },
   "file_extension": ".py",
   "mimetype": "text/x-python",
   "name": "python",
   "nbconvert_exporter": "python",
   "pygments_lexer": "ipython3",
   "version": "3.7.3"
  }
 },
 "nbformat": 4,
 "nbformat_minor": 5
}
