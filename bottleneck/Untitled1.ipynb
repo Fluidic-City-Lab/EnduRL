{
 "cells": [
  {
   "cell_type": "code",
   "execution_count": null,
   "id": "e42e00a7",
   "metadata": {},
   "outputs": [],
   "source": [
    "NUM_ROLLOUTS = 10 # There is more variation in the sampling\n",
    "\n",
    "# Just change the av_frac and rerun the experiments\n",
    "AV_FRAC =  0.05 #0.05, 0.2, 0.4, 0.6"
   ]
  },
  {
   "cell_type": "code",
   "execution_count": null,
   "id": "022019e5",
   "metadata": {},
   "outputs": [],
   "source": [
    "!python classic.py --method fs --gen_emission --num_rollouts $NUM_ROLLOUTS \\\n",
    "--render --shock --av_frac $AV_FRAC --sim_step 0.5 --shock_start_time 500 \\\n",
    "--shock_end_time 1220 --horizon 1220"
   ]
  },
  {
   "cell_type": "code",
   "execution_count": null,
   "id": "52974dd3",
   "metadata": {},
   "outputs": [],
   "source": [
    "!python eval_metrics.py --method fs --start_time 500 --end_time 1220 --sim_step 0.5"
   ]
  },
  {
   "cell_type": "code",
   "execution_count": null,
   "id": "3a7f83f9",
   "metadata": {},
   "outputs": [],
   "source": []
  }
 ],
 "metadata": {
  "kernelspec": {
   "display_name": "Python 3 (ipykernel)",
   "language": "python",
   "name": "python3"
  },
  "language_info": {
   "codemirror_mode": {
    "name": "ipython",
    "version": 3
   },
   "file_extension": ".py",
   "mimetype": "text/x-python",
   "name": "python",
   "nbconvert_exporter": "python",
   "pygments_lexer": "ipython3",
   "version": "3.7.3"
  }
 },
 "nbformat": 4,
 "nbformat_minor": 5
}
