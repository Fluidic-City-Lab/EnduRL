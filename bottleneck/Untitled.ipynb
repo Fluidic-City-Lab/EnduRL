{
 "cells": [
  {
   "cell_type": "code",
   "execution_count": null,
   "id": "d707b106",
   "metadata": {},
   "outputs": [],
   "source": [
    "NUM_ROLLOUTS = 10 # There is more variation in the sampling\n",
    "\n",
    "# Just change the av_frac and rerun the experiments\n",
    "AV_FRAC =  0.05 #0.05, 0.2, 0.4, 0.6"
   ]
  },
  {
   "cell_type": "code",
   "execution_count": null,
   "id": "2cf84ccc",
   "metadata": {},
   "outputs": [],
   "source": [
    "# piws\n",
    "!python classic.py --method piws --gen_emission --num_rollouts $NUM_ROLLOUTS\\\n",
    "--shock --render --av_frac $AV_FRAC --sim_step 0.5 --shock_start_time 500 \\\n",
    "--shock_end_time 1220 --horizon 1220"
   ]
  },
  {
   "cell_type": "code",
   "execution_count": null,
   "id": "ebfca8ba",
   "metadata": {},
   "outputs": [],
   "source": [
    "!python eval_metrics.py --method pi --start_time 500 --end_time 1220 --sim_step 0.5"
   ]
  },
  {
   "cell_type": "code",
   "execution_count": null,
   "id": "ce0df0fd",
   "metadata": {},
   "outputs": [],
   "source": []
  }
 ],
 "metadata": {
  "kernelspec": {
   "display_name": "Python 3 (ipykernel)",
   "language": "python",
   "name": "python3"
  },
  "language_info": {
   "codemirror_mode": {
    "name": "ipython",
    "version": 3
   },
   "file_extension": ".py",
   "mimetype": "text/x-python",
   "name": "python",
   "nbconvert_exporter": "python",
   "pygments_lexer": "ipython3",
   "version": "3.7.3"
  }
 },
 "nbformat": 4,
 "nbformat_minor": 5
}
