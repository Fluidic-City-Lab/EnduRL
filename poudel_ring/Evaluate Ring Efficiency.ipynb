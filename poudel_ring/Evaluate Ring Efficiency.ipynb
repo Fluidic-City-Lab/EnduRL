{
 "cells": [
  {
   "cell_type": "markdown",
   "id": "80fc7a9a",
   "metadata": {},
   "source": [
    "### Metrics: \n",
    "1. \n",
    "\n",
    "### Notes:\n",
    "\n",
    "- \n",
    "\n",
    "### Questions:\n",
    "- "
   ]
  },
  {
   "cell_type": "markdown",
   "id": "10383ecc",
   "metadata": {},
   "source": [
    "__Ours (1x)__\n",
    "- Th"
   ]
  },
  {
   "cell_type": "code",
   "execution_count": null,
   "id": "a40a8286",
   "metadata": {},
   "outputs": [],
   "source": [
    "# set parameters here\n",
    "NUM_ROLLOUTS = 10\n",
    "LENGTH = 260\n",
    "LENGTH_STABILITY = 270\n",
    "# WAR does not have a standard deviation higher that 1%, so 1 rollout is fine\n",
    "NUM_ROLLOUTS_WAR = 1"
   ]
  },
  {
   "cell_type": "code",
   "execution_count": null,
   "id": "80a41d1f",
   "metadata": {},
   "outputs": [],
   "source": [
    "# For CAV (first get the data)\n",
    "\n",
    "!python test_rllib.py /home/dh127-pc3/ray_results/density_aware_rl/PPO_DensityAwareRLEnv-v0_9f06b80a_2023-07-30_19-17-237pw6u5d2 218\\\n",
    "--method ours --length $LENGTH --num_rollouts $NUM_ROLLOUTS --gen_emission --shock --render\n"
   ]
  },
  {
   "cell_type": "code",
   "execution_count": null,
   "id": "23e47519",
   "metadata": {
    "scrolled": true
   },
   "outputs": [],
   "source": [
    "!python eval_metrics.py --method ours --save_plots"
   ]
  },
  {
   "cell_type": "code",
   "execution_count": null,
   "id": "e1e67237",
   "metadata": {},
   "outputs": [],
   "source": [
    "# This data is taken with the local zone set to 35m\n",
    "checkpoint_num = 290\n",
    "# Data for WAR\n",
    "!python test_rllib.py ./Ours/Trained_policies/Single_agent/PPO_DensityAwareRLEnv-v0_2355c52c_2023-07-21_18-27-20qktx7e8o $checkpoint_num\\\n",
    "--method ours --shock --stability --length $LENGTH_STABILITY --gen_emission --num_rollouts $NUM_ROLLOUTS_WAR --render"
   ]
  },
  {
   "cell_type": "code",
   "execution_count": null,
   "id": "40df74e7",
   "metadata": {},
   "outputs": [],
   "source": [
    "!python eval_plots.py --method ours"
   ]
  },
  {
   "cell_type": "markdown",
   "id": "0693ef9a",
   "metadata": {},
   "source": [
    "__Ours (4x)__"
   ]
  },
  {
   "cell_type": "code",
   "execution_count": null,
   "id": "453b1225",
   "metadata": {},
   "outputs": [],
   "source": [
    "# For CAV (first get the data)\n",
    "!python test_rllib.py ./Ours/Trained_policies/Multi_agent_4x/PPO_MultiAgentDensityAwareRLEnv-v1_7ae93312_2023-07-22_17-24-10ppil4or8 34\\\n",
    "--method ours4x --length $LENGTH --num_rollouts $NUM_ROLLOUTS --gen_emission --shock --render\n"
   ]
  },
  {
   "cell_type": "code",
   "execution_count": null,
   "id": "abf494de",
   "metadata": {},
   "outputs": [],
   "source": [
    "!python eval_metrics.py --method ours4x --save_plots"
   ]
  },
  {
   "cell_type": "code",
   "execution_count": null,
   "id": "ca094d40",
   "metadata": {},
   "outputs": [],
   "source": []
  },
  {
   "cell_type": "code",
   "execution_count": null,
   "id": "35922bf1",
   "metadata": {},
   "outputs": [],
   "source": []
  },
  {
   "cell_type": "markdown",
   "id": "6c078f62",
   "metadata": {},
   "source": [
    "__Ours (9x)__"
   ]
  },
  {
   "cell_type": "code",
   "execution_count": null,
   "id": "ed86eab3",
   "metadata": {},
   "outputs": [],
   "source": []
  },
  {
   "cell_type": "code",
   "execution_count": null,
   "id": "f0135ae4",
   "metadata": {},
   "outputs": [],
   "source": []
  },
  {
   "cell_type": "code",
   "execution_count": null,
   "id": "b920fd70",
   "metadata": {},
   "outputs": [],
   "source": []
  },
  {
   "cell_type": "code",
   "execution_count": null,
   "id": "392260d4",
   "metadata": {},
   "outputs": [],
   "source": []
  },
  {
   "cell_type": "code",
   "execution_count": null,
   "id": "9cdf11a8",
   "metadata": {},
   "outputs": [],
   "source": []
  },
  {
   "cell_type": "code",
   "execution_count": null,
   "id": "50409481",
   "metadata": {},
   "outputs": [],
   "source": []
  }
 ],
 "metadata": {
  "kernelspec": {
   "display_name": "Python 3 (ipykernel)",
   "language": "python",
   "name": "python3"
  },
  "language_info": {
   "codemirror_mode": {
    "name": "ipython",
    "version": 3
   },
   "file_extension": ".py",
   "mimetype": "text/x-python",
   "name": "python",
   "nbconvert_exporter": "python",
   "pygments_lexer": "ipython3",
   "version": "3.7.16"
  }
 },
 "nbformat": 4,
 "nbformat_minor": 5
}
