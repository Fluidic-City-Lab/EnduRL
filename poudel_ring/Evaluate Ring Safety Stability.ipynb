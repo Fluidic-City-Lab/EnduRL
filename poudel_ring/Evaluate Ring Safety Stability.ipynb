{
 "cells": [
  {
   "cell_type": "markdown",
   "id": "80fc7a9a",
   "metadata": {},
   "source": [
    "### Data collection for various metrics:\n",
    "\n",
    "Data Collection for Safety and Stability Metrics (Ignore the efficiency metrics even though they are displayed). \n",
    "\n",
    "Collection performed in 3 stages\n",
    "\n",
    "    A. Data collection for Safety and CAV (Controller Acceleration Variation) \n",
    "    B. Data collevtion for WAR (Wave Attenuation Ratio)\n",
    "    C. Data collection for Stability Plot\n",
    "\n",
    "### Notes:\n",
    "\n",
    "- Desired velocity change for FS May need monitoring (May not be set for all possible lengths)\n",
    "- PI can have failures, so have to turn ON render and manually check\n",
    "- LACC needs a different shock time (for no shock change time at eval)\n",
    "- Generated data will be saved in the folder `test_time_rollout`\n",
    "- We apply shocks after the systems have been stabilized\n",
    "- Default shock times are between 8000 and 11000 unless explicitly specified otherwise\n",
    "- Difference: For stability plot, the length is 270 whereas for WAR, the length is 260"
   ]
  },
  {
   "cell_type": "markdown",
   "id": "6d450403",
   "metadata": {},
   "source": [
    "### A and B together: (Data collection for Safety and CAV) + (Data collection for WAR)"
   ]
  },
  {
   "cell_type": "code",
   "execution_count": null,
   "id": "79ad67ee",
   "metadata": {},
   "outputs": [],
   "source": [
    "# set parameters here\n",
    "NUM_ROLLOUTS = 10\n",
    "LENGTH = 260"
   ]
  },
  {
   "cell_type": "markdown",
   "id": "10a8b4b7",
   "metadata": {},
   "source": [
    "### 1. IDM"
   ]
  },
  {
   "cell_type": "code",
   "execution_count": null,
   "id": "1a13954c",
   "metadata": {},
   "outputs": [],
   "source": [
    "!python classic.py --method idm --length $LENGTH --gen_emission --num_rollouts $NUM_ROLLOUTS --shock --render"
   ]
  },
  {
   "cell_type": "code",
   "execution_count": null,
   "id": "0b39068d",
   "metadata": {},
   "outputs": [],
   "source": [
    "!python eval_metrics.py --method idm --save_plots"
   ]
  },
  {
   "cell_type": "code",
   "execution_count": null,
   "id": "d6e7cb3b",
   "metadata": {},
   "outputs": [],
   "source": [
    "# IDM does not need WAR, un-applicable"
   ]
  },
  {
   "cell_type": "markdown",
   "id": "83b453ca",
   "metadata": {},
   "source": [
    "### 2. Single Vehicle Systems"
   ]
  },
  {
   "cell_type": "markdown",
   "id": "921078dc",
   "metadata": {},
   "source": [
    "__FS__"
   ]
  },
  {
   "cell_type": "code",
   "execution_count": null,
   "id": "e27dee7e",
   "metadata": {},
   "outputs": [],
   "source": [
    "!python classic.py --method fs --length $LENGTH --gen_emission --num_rollouts $NUM_ROLLOUTS --shock --render"
   ]
  },
  {
   "cell_type": "code",
   "execution_count": null,
   "id": "bcfc4d86",
   "metadata": {},
   "outputs": [],
   "source": [
    "!python eval_metrics.py --method fs --save_plots"
   ]
  },
  {
   "cell_type": "code",
   "execution_count": null,
   "id": "5ba7e3f5",
   "metadata": {},
   "outputs": [],
   "source": [
    "# Data for WAR\n",
    "!python classic.py --method fs --stability --length $LENGTH --num_rollouts $NUM_ROLLOUTS --gen_emission --render"
   ]
  },
  {
   "cell_type": "code",
   "execution_count": null,
   "id": "eb56fb49",
   "metadata": {},
   "outputs": [],
   "source": [
    "# WAR\n",
    "!python eval_plots.py --method fs "
   ]
  },
  {
   "cell_type": "markdown",
   "id": "3ece935c",
   "metadata": {},
   "source": [
    "__PIwS__\n",
    "- This requires verifying if the particular run was `SUCCESS` or `FAIL`\n",
    "- i.e., the controller may fail to stabilize the system"
   ]
  },
  {
   "cell_type": "code",
   "execution_count": null,
   "id": "a0c191eb",
   "metadata": {},
   "outputs": [],
   "source": [
    "# For CAV (first: get the data)\n",
    "!python classic.py --method piws --length $LENGTH --gen_emission --num_rollouts $NUM_ROLLOUTS --shock --render\n",
    "\n",
    "# Stable or not before shocks were applied\n",
    "# 1. Stable \n",
    "# 2. Stable\n",
    "# 3. Stable\n",
    "# 4. Stable\n",
    "# 5. Stable\n",
    "# 6. Stable\n",
    "# 7. Stable\n",
    "# 8. Stable\n",
    "# 9. Stable\n",
    "# 10. "
   ]
  },
  {
   "cell_type": "code",
   "execution_count": null,
   "id": "d9fed5bd",
   "metadata": {},
   "outputs": [],
   "source": [
    "# use the eval_metrics code\n",
    "!python eval_metrics.py --method pi --save_plots"
   ]
  },
  {
   "cell_type": "code",
   "execution_count": null,
   "id": "7b34226b",
   "metadata": {},
   "outputs": [],
   "source": [
    "# Data for WAR (Check if it stabilized or not)\n",
    "!python classic.py --method piws --stability --length $LENGTH --num_rollouts $NUM_ROLLOUTS --gen_emission --render\n",
    "\n",
    "# Stable or not before shocks were applied\n",
    "# 1. \n",
    "# 2. \n",
    "# 3. \n",
    "# 4. \n",
    "# 5. \n",
    "# 6. \n",
    "# 7. \n",
    "# 8. \n",
    "# 9. \n",
    "# 10. "
   ]
  },
  {
   "cell_type": "code",
   "execution_count": null,
   "id": "bc04f2a0",
   "metadata": {},
   "outputs": [],
   "source": [
    "!python eval_plots.py --method pi "
   ]
  },
  {
   "cell_type": "markdown",
   "id": "2a21c4d5",
   "metadata": {},
   "source": [
    "__Wu et. al.__"
   ]
  },
  {
   "cell_type": "code",
   "execution_count": null,
   "id": "259c3633",
   "metadata": {},
   "outputs": [],
   "source": [
    "# For CAV (first get the data)\n",
    "!python test_rllib.py ./Wu_et_al/Trained_policies/PPO_WaveAttenuationPOEnv-v0_25b5cb6e_2022-01-26_10-58-12e9f4i3ao 50 \\\n",
    "--method wu --length $LENGTH --num_rollouts $NUM_ROLLOUTS --gen_emission --shock --render\n"
   ]
  },
  {
   "cell_type": "code",
   "execution_count": null,
   "id": "a9c525a6",
   "metadata": {},
   "outputs": [],
   "source": [
    "# For CAV\n",
    "!python eval_metrics.py --method wu --save_plots"
   ]
  },
  {
   "cell_type": "code",
   "execution_count": null,
   "id": "3b825ba3",
   "metadata": {
    "scrolled": false
   },
   "outputs": [],
   "source": [
    "# Data for WAR\n",
    "!python test_rllib.py ./Wu_et_al/Trained_policies/PPO_WaveAttenuationPOEnv-v0_25b5cb6e_2022-01-26_10-58-12e9f4i3ao 50\\\n",
    "--method wu --shock --stability --length $LENGTH --gen_emission --num_rollouts $NUM_ROLLOUTS --render\n"
   ]
  },
  {
   "cell_type": "code",
   "execution_count": null,
   "id": "d686083c",
   "metadata": {},
   "outputs": [],
   "source": [
    "!python eval_plots.py --method wu "
   ]
  },
  {
   "cell_type": "markdown",
   "id": "10383ecc",
   "metadata": {},
   "source": [
    "__Ours (1x)__\n",
    "- The local zone is set to 50m at training. And it is set to 50m here as well."
   ]
  },
  {
   "cell_type": "code",
   "execution_count": null,
   "id": "80a41d1f",
   "metadata": {},
   "outputs": [],
   "source": [
    "# For CAV (first get the data)\n",
    "!python test_rllib.py ./Ours/Trained_policies/Single_agent/PPO_DensityAwareRLEnv-v0_2355c52c_2023-07-21_18-27-20qktx7e8o 290\\\n",
    "--method ours --length $LENGTH --num_rollouts $NUM_ROLLOUTS --gen_emission --shock --render\n",
    "\n",
    "# The logs appear broken because extra runs were performed to setup recording and then abruptly interrupted"
   ]
  },
  {
   "cell_type": "code",
   "execution_count": null,
   "id": "23e47519",
   "metadata": {
    "scrolled": true
   },
   "outputs": [],
   "source": [
    "!python eval_metrics.py --method ours --save_plots"
   ]
  },
  {
   "cell_type": "code",
   "execution_count": null,
   "id": "e1e67237",
   "metadata": {},
   "outputs": [],
   "source": [
    "# Data for WAR\n",
    "!python test_rllib.py ./Ours/Trained_policies/Single_agent/PPO_DensityAwareRLEnv-v0_2355c52c_2023-07-21_18-27-20qktx7e8o 290\\\n",
    "--method ours --shock --stability --length $LENGTH --gen_emission --num_rollouts $NUM_ROLLOUTS --render"
   ]
  },
  {
   "cell_type": "code",
   "execution_count": null,
   "id": "40df74e7",
   "metadata": {},
   "outputs": [],
   "source": [
    "!python eval_plots.py --method ours"
   ]
  },
  {
   "cell_type": "markdown",
   "id": "3fad4410",
   "metadata": {},
   "source": [
    "### 3. Multiple Vehicle Systems"
   ]
  },
  {
   "cell_type": "markdown",
   "id": "7af3bd4c",
   "metadata": {},
   "source": [
    "__BCM__"
   ]
  },
  {
   "cell_type": "code",
   "execution_count": null,
   "id": "8271b524",
   "metadata": {},
   "outputs": [],
   "source": [
    "# For CAV (first get the data)\n",
    "!python classic.py --method bcm --length $LENGTH --num_rollouts $NUM_ROLLOUTS --gen_emission --shock --render"
   ]
  },
  {
   "cell_type": "code",
   "execution_count": null,
   "id": "3c079411",
   "metadata": {},
   "outputs": [],
   "source": [
    "# use the eval_metrics code\n",
    "!python eval_metrics.py --method bcm --save_plots"
   ]
  },
  {
   "cell_type": "code",
   "execution_count": null,
   "id": "ad643d9d",
   "metadata": {},
   "outputs": [],
   "source": [
    "# Data for WAR\n",
    "!python classic.py --method bcm --stability --length $LENGTH --gen_emission --num_rollouts $NUM_ROLLOUTS --render\n"
   ]
  },
  {
   "cell_type": "code",
   "execution_count": null,
   "id": "54be427f",
   "metadata": {},
   "outputs": [],
   "source": [
    "!python eval_plots.py --method bcm "
   ]
  },
  {
   "cell_type": "markdown",
   "id": "1ac836de",
   "metadata": {},
   "source": [
    "__LACC__"
   ]
  },
  {
   "cell_type": "code",
   "execution_count": null,
   "id": "b0f9df61",
   "metadata": {},
   "outputs": [],
   "source": [
    "# For CAV (first get the data)\n",
    "!python classic.py --method lacc --length $LENGTH --num_rollouts $NUM_ROLLOUTS --gen_emission --shock --render --shock_start_time 11400 --shock_end_time 15000"
   ]
  },
  {
   "cell_type": "code",
   "execution_count": null,
   "id": "845aba29",
   "metadata": {},
   "outputs": [],
   "source": [
    "# use the eval_metrics code\n",
    "!python eval_metrics.py --method lacc --start_time 11400 --end_time 15000 --save_plots"
   ]
  },
  {
   "cell_type": "code",
   "execution_count": null,
   "id": "63605979",
   "metadata": {},
   "outputs": [],
   "source": [
    "# Data for WAR\n",
    "!python classic.py --method lacc --stability --length $LENGTH --num_rollouts $NUM_ROLLOUTS --gen_emission --shock_start_time 11400 --shock_end_time 15000 --render\n"
   ]
  },
  {
   "cell_type": "code",
   "execution_count": null,
   "id": "8f19f4e2",
   "metadata": {},
   "outputs": [],
   "source": [
    "!python eval_plots.py --method lacc --start_time 11400 --end_time 15000 --propogate_time 200"
   ]
  },
  {
   "cell_type": "markdown",
   "id": "0693ef9a",
   "metadata": {},
   "source": [
    "__Ours (4x)__\n",
    "\n",
    "- The local zone of __leader__ is set to 50m at training. It is kept at 50m here as well."
   ]
  },
  {
   "cell_type": "code",
   "execution_count": null,
   "id": "453b1225",
   "metadata": {},
   "outputs": [],
   "source": [
    "# For CAV (first get the data)\n",
    "# Local zone is kept at 50m\n",
    "\n",
    "!python test_rllib.py ./Ours/Trained_policies/Multi_agent_4x/PPO_MultiAgentDensityAwareRLEnv-v1_0fac2f26_2023-07-31_09-46-415e_f62_x 48\\\n",
    "--method ours4x --length $LENGTH --num_rollouts $NUM_ROLLOUTS --gen_emission --shock --render\n"
   ]
  },
  {
   "cell_type": "code",
   "execution_count": null,
   "id": "abf494de",
   "metadata": {},
   "outputs": [],
   "source": [
    "# Since !human is present in the code, this works seamlessly\n",
    "!python eval_metrics.py --method ours4x --save_plots"
   ]
  },
  {
   "cell_type": "code",
   "execution_count": null,
   "id": "ca094d40",
   "metadata": {},
   "outputs": [],
   "source": [
    "# Local zone is kept at 50m for WAR but at 40m for Stability plot\n",
    "# Data for WAR\n",
    "\n",
    "!python test_rllib.py ./Ours/Trained_policies/Multi_agent_4x/PPO_MultiAgentDensityAwareRLEnv-v1_0fac2f26_2023-07-31_09-46-415e_f62_x 48\\\n",
    "--method ours4x --shock --stability --length $LENGTH --gen_emission --num_rollouts $NUM_ROLLOUTS --render\n"
   ]
  },
  {
   "cell_type": "code",
   "execution_count": null,
   "id": "35922bf1",
   "metadata": {},
   "outputs": [],
   "source": [
    "!python eval_plots.py --method ours4x"
   ]
  },
  {
   "cell_type": "markdown",
   "id": "6c078f62",
   "metadata": {},
   "source": [
    "__Ours (9x)__\n",
    "- No stability plot is drawn for this one but still need WAR\n",
    "- The local zone of __leader__ is set to 50m at training, Change it to 55m here."
   ]
  },
  {
   "cell_type": "code",
   "execution_count": null,
   "id": "ed86eab3",
   "metadata": {},
   "outputs": [],
   "source": [
    "# Local zone is kept at 55m \n",
    "\n",
    "# For CAV (first get the data)\n",
    "!python test_rllib.py ./Ours/Trained_policies/Multi_agent_9x/PPO_MultiAgentDensityAwareRLEnv-v1_40834376_2023-07-30_19-43-22ly9k9abp 116\\\n",
    "--method ours9x --length $LENGTH --num_rollouts $NUM_ROLLOUTS --gen_emission --shock --render"
   ]
  },
  {
   "cell_type": "code",
   "execution_count": null,
   "id": "f0135ae4",
   "metadata": {},
   "outputs": [],
   "source": [
    "!python eval_metrics.py --method ours9x --save_plots"
   ]
  },
  {
   "cell_type": "code",
   "execution_count": null,
   "id": "fca3420a",
   "metadata": {},
   "outputs": [],
   "source": [
    "# Data for WAR\n",
    "!python test_rllib.py ./Ours/Trained_policies/Multi_agent_9x/PPO_MultiAgentDensityAwareRLEnv-v1_40834376_2023-07-30_19-43-22ly9k9abp 116\\\n",
    "--method ours9x --shock --stability --length $LENGTH --gen_emission --num_rollouts $NUM_ROLLOUTS --render"
   ]
  },
  {
   "cell_type": "code",
   "execution_count": null,
   "id": "9cf7c83a",
   "metadata": {},
   "outputs": [],
   "source": [
    "!python eval_plots.py --method ours9x "
   ]
  },
  {
   "cell_type": "markdown",
   "id": "d10ea0a2",
   "metadata": {},
   "source": [
    "## C. Data collection for Stability Plot\n",
    "- Execute the `eval_plots.py` code as well because this will create the stability plots (sometimes manual inspection is required)"
   ]
  },
  {
   "cell_type": "code",
   "execution_count": null,
   "id": "205a6a40",
   "metadata": {},
   "outputs": [],
   "source": [
    "LENGTH_STABILITY = 270 #m\n",
    "NUM_ROLLOUTS_STABILITY = 1"
   ]
  },
  {
   "cell_type": "markdown",
   "id": "ee39d39a",
   "metadata": {},
   "source": [
    "### IDM"
   ]
  },
  {
   "cell_type": "code",
   "execution_count": null,
   "id": "8c351972",
   "metadata": {},
   "outputs": [],
   "source": [
    "# This is for plot\n",
    "# Stability shock is applied to IDM when the system is stable and SGT is not formed yet\n",
    "# 150 is pretty early-on\n",
    "!python classic.py --method idm --length $LENGTH_STABILITY --gen_emission --stability --shock_start_time 150 --shock_end_time 3710 --render"
   ]
  },
  {
   "cell_type": "code",
   "execution_count": null,
   "id": "cd233912",
   "metadata": {},
   "outputs": [],
   "source": [
    "# IDM is unstable (So there is no wave attenuation) - WAR does not apply\n",
    "# But do we still need a value for reference (WAR = 0)\n",
    "!python eval_plots.py --method idm --start_time 150 --end_time 3710 "
   ]
  },
  {
   "cell_type": "markdown",
   "id": "2cb9a4b9",
   "metadata": {},
   "source": [
    "### FS"
   ]
  },
  {
   "cell_type": "code",
   "execution_count": null,
   "id": "15f23ee1",
   "metadata": {},
   "outputs": [],
   "source": [
    "!python classic.py --method fs --stability --length $LENGTH_STABILITY --num_rollouts $NUM_ROLLOUTS_STABILITY --gen_emission --render"
   ]
  },
  {
   "cell_type": "code",
   "execution_count": null,
   "id": "e02f48a4",
   "metadata": {},
   "outputs": [],
   "source": [
    "!python eval_plots.py --method fs "
   ]
  },
  {
   "cell_type": "markdown",
   "id": "a2f18616",
   "metadata": {},
   "source": [
    "### PIwS"
   ]
  },
  {
   "cell_type": "code",
   "execution_count": null,
   "id": "cb4faa24",
   "metadata": {},
   "outputs": [],
   "source": [
    "# Data for WAR (Check if it stabilized or not)\n",
    "!python classic.py --method piws --stability --length $LENGTH_STABILITY --num_rollouts $NUM_ROLLOUTS_STABILITY --gen_emission --render\n",
    "# Check if was stable or not before the shock was applied"
   ]
  },
  {
   "cell_type": "code",
   "execution_count": null,
   "id": "6dd06f7e",
   "metadata": {},
   "outputs": [],
   "source": [
    "!python eval_plots.py --method pi "
   ]
  },
  {
   "cell_type": "markdown",
   "id": "781040de",
   "metadata": {},
   "source": [
    "### RL+ LO (Wu et al.)"
   ]
  },
  {
   "cell_type": "code",
   "execution_count": null,
   "id": "f169c261",
   "metadata": {},
   "outputs": [],
   "source": [
    "!python test_rllib.py ./Wu_et_al/Trained_policies/PPO_WaveAttenuationPOEnv-v0_25b5cb6e_2022-01-26_10-58-12e9f4i3ao 50\\\n",
    "--method wu --shock --stability --length $LENGTH_STABILITY --gen_emission --num_rollouts $NUM_ROLLOUTS_STABILITY --render\n"
   ]
  },
  {
   "cell_type": "code",
   "execution_count": null,
   "id": "5161f497",
   "metadata": {},
   "outputs": [],
   "source": [
    "!python eval_plots.py --method wu "
   ]
  },
  {
   "cell_type": "markdown",
   "id": "75b9c8dc",
   "metadata": {},
   "source": [
    "### Ours (1x)\n",
    "- Set local zone to 35m in the file before executing the code below"
   ]
  },
  {
   "cell_type": "code",
   "execution_count": null,
   "id": "2936af2b",
   "metadata": {},
   "outputs": [],
   "source": [
    "# This data is taken with the local zone set to 35m\n",
    "!python test_rllib.py ./Ours/Trained_policies/Single_agent/PPO_DensityAwareRLEnv-v0_2355c52c_2023-07-21_18-27-20qktx7e8o 290\\\n",
    "--method ours --shock --stability --length $LENGTH_STABILITY --gen_emission --num_rollouts $NUM_ROLLOUTS_STABILITY --render"
   ]
  },
  {
   "cell_type": "code",
   "execution_count": null,
   "id": "2b15dad9",
   "metadata": {},
   "outputs": [],
   "source": [
    "!python eval_plots.py --method ours"
   ]
  },
  {
   "cell_type": "markdown",
   "id": "41edf58d",
   "metadata": {},
   "source": [
    "### BCM"
   ]
  },
  {
   "cell_type": "code",
   "execution_count": null,
   "id": "9cf417e8",
   "metadata": {},
   "outputs": [],
   "source": [
    "!python classic.py --method bcm --stability --length $LENGTH_STABILITY --num_rollouts $NUM_ROLLOUTS_STABILITY --gen_emission --num_rollouts $NUM_ROLLOUTS_WAR --render\n"
   ]
  },
  {
   "cell_type": "code",
   "execution_count": null,
   "id": "0e541f4f",
   "metadata": {},
   "outputs": [],
   "source": [
    "!python eval_plots.py --method bcm "
   ]
  },
  {
   "cell_type": "markdown",
   "id": "d3cfeeb2",
   "metadata": {},
   "source": [
    "### Ours (4x)\n",
    "- Set Local zone to 40m in the file before executing the code below "
   ]
  },
  {
   "cell_type": "code",
   "execution_count": null,
   "id": "8a01cecd",
   "metadata": {},
   "outputs": [],
   "source": [
    "# This data is taken with the local zone set to 40m\n",
    "!python test_rllib.py ./Ours/Trained_policies/Multi_agent_4x/PPO_MultiAgentDensityAwareRLEnv-v1_0fac2f26_2023-07-31_09-46-415e_f62_x 48\\\n",
    "--method ours4x --shock --stability --length $LENGTH_STABILITY --gen_emission --num_rollouts $NUM_ROLLOUTS_STABILITY --render\n"
   ]
  },
  {
   "cell_type": "code",
   "execution_count": null,
   "id": "454881a5",
   "metadata": {},
   "outputs": [],
   "source": [
    "!python eval_plots.py --method ours4x"
   ]
  },
  {
   "cell_type": "markdown",
   "id": "01728cdf",
   "metadata": {},
   "source": [
    "### LACC"
   ]
  },
  {
   "cell_type": "code",
   "execution_count": null,
   "id": "819f12e9",
   "metadata": {},
   "outputs": [],
   "source": [
    "!python classic.py --method lacc --stability --length $LENGTH_STABILITY --num_rollouts $NUM_ROLLOUTS_STABILITY --gen_emission --shock_start_time 11400 --shock_end_time 15000 --render"
   ]
  },
  {
   "cell_type": "code",
   "execution_count": null,
   "id": "60c34217",
   "metadata": {},
   "outputs": [],
   "source": [
    "!python eval_plots.py --method lacc --start_time 11400 --end_time 15000 --propogate_time 200"
   ]
  },
  {
   "cell_type": "markdown",
   "id": "5f460b7c",
   "metadata": {},
   "source": [
    "### Ours (9x)\n",
    "- This not included in the stability plot"
   ]
  }
 ],
 "metadata": {
  "kernelspec": {
   "display_name": "Python 3 (ipykernel)",
   "language": "python",
   "name": "python3"
  },
  "language_info": {
   "codemirror_mode": {
    "name": "ipython",
    "version": 3
   },
   "file_extension": ".py",
   "mimetype": "text/x-python",
   "name": "python",
   "nbconvert_exporter": "python",
   "pygments_lexer": "ipython3",
   "version": "3.7.3"
  }
 },
 "nbformat": 4,
 "nbformat_minor": 5
}
