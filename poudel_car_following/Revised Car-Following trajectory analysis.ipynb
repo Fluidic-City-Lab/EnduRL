{
 "cells": [
  {
   "cell_type": "markdown",
   "id": "8cec0d9c",
   "metadata": {},
   "source": [
    "## Car-Following trajectory analysis\n",
    "\n",
    "- Goal: Extract the acceleration histogram during car-following periods\n",
    "\n",
    "- Sources of data:\n",
    "1. [The revised NGSIM dataset](https://u.osu.edu/coifman.1/data-sets/), [paper](https://www.sciencedirect.com/science/article/pii/S0191261517300838)\n",
    "    - Among the various highways/ roads in the original NGSIM dataset, the revised version only provides revised data for I-80 freeway for one camera (camera 6), in one time window 4:00 PM to 4:15 PM. So 15 minutes of data is used.\n",
    "    \n",
    "2. [The I-24 Motion dataset](https://i24motion.org/), [paper](https://i24motion.org/)\n",
    "    - Among all the different dates for which the data was made available, 4 hours of November-22, 2022 was used.\n",
    "    - The original sampling rate of this dataset is 0.04 second per timestep. This is linearly interpolated to obtain and standard 0.1 second per timestep.\n",
    "\n",
    "\n",
    "| Data Source                  | Duration | Length | Lanes | speed limit | Traverse distance | Original Sampling rate | \n",
    "|------------------------------|------------------|----------------|-------|---------------|---------------| ---------------|\n",
    "| The revised NGSIM dataset   |   -    |   -  |    -   |    -   |  -    |  -    |\n",
    "| The I-24 Motion dataset     |   -    |   -  |   -    |     -  |   -  | -    |\n",
    "\n",
    "----\n",
    "\n",
    "Car following filter used to extract car-following periods:\n",
    "\n",
    "- Vehicle types: \n",
    "    - For I-24: vehicle class 0: sedan, 1: midsize\n",
    "    - For Revised NGSIM\n",
    "- \n",
    "\n"
   ]
  },
  {
   "cell_type": "code",
   "execution_count": null,
   "id": "0a5290ef",
   "metadata": {},
   "outputs": [],
   "source": []
  }
 ],
 "metadata": {
  "kernelspec": {
   "display_name": "Python 3 (ipykernel)",
   "language": "python",
   "name": "python3"
  },
  "language_info": {
   "codemirror_mode": {
    "name": "ipython",
    "version": 3
   },
   "file_extension": ".py",
   "mimetype": "text/x-python",
   "name": "python",
   "nbconvert_exporter": "python",
   "pygments_lexer": "ipython3",
   "version": "3.7.3"
  }
 },
 "nbformat": 4,
 "nbformat_minor": 5
}
