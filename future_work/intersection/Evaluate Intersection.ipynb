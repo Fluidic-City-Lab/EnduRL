{
 "cells": [
  {
   "cell_type": "markdown",
   "id": "c2452571",
   "metadata": {},
   "source": [
    "### Notes:\n",
    "- All of the RVs are deployed at 20%"
   ]
  },
  {
   "cell_type": "code",
   "execution_count": 1,
   "id": "770b11bf",
   "metadata": {},
   "outputs": [],
   "source": [
    "NUM_ROLLOUTS = 10\n",
    "\n",
    "# These must be same as what is defined in classic.py args\n",
    "SHOCK_START_TIME = 400\n",
    "SHOCK_END_TIME = 4000"
   ]
  },
  {
   "cell_type": "markdown",
   "id": "b1700239",
   "metadata": {},
   "source": [
    "#### IDM:"
   ]
  },
  {
   "cell_type": "code",
   "execution_count": null,
   "id": "9ba8b7d0",
   "metadata": {},
   "outputs": [],
   "source": [
    "!python classic.py --method idm --gen_emission --num_rollouts $NUM_ROLLOUTS --render --shock "
   ]
  },
  {
   "cell_type": "code",
   "execution_count": 2,
   "id": "8f61d2cf",
   "metadata": {
    "scrolled": true
   },
   "outputs": [
    {
     "name": "stdout",
     "output_type": "stream",
     "text": [
      "Calculating metrics for 1 rollouts on files: \n",
      "['./test_time_rollout/idm/intersection_idm_20231218-1955541702947354.8148448-0_emission.csv', './test_time_rollout/idm/intersection_idm_20231218-1957081702947428.4513-0_emission.csv', './test_time_rollout/idm/intersection_idm_20231218-1958221702947502.5108426-0_emission.csv', './test_time_rollout/idm/intersection_idm_20231218-1959341702947574.367691-0_emission.csv', './test_time_rollout/idm/intersection_idm_20231218-2000511702947651.2377908-0_emission.csv', './test_time_rollout/idm/intersection_idm_20231218-2002051702947725.796032-0_emission.csv', './test_time_rollout/idm/intersection_idm_20231218-2003171702947797.342098-0_emission.csv', './test_time_rollout/idm/intersection_idm_20231218-2004321702947872.6041749-0_emission.csv', './test_time_rollout/idm/intersection_idm_20231218-2005471702947947.1826816-0_emission.csv', './test_time_rollout/idm/intersection_idm_20231218-2006591702948019.0751808-0_emission.csv']\n",
      "\n",
      "file: ./test_time_rollout/idm/intersection_idm_20231218-1955541702947354.8148448-0_emission.csv\n",
      "####################\n",
      "####################\n",
      "file: ./test_time_rollout/idm/intersection_idm_20231218-1957081702947428.4513-0_emission.csv\n",
      "####################\n",
      "####################\n",
      "file: ./test_time_rollout/idm/intersection_idm_20231218-1958221702947502.5108426-0_emission.csv\n",
      "####################\n",
      "####################\n",
      "file: ./test_time_rollout/idm/intersection_idm_20231218-1959341702947574.367691-0_emission.csv\n",
      "####################\n",
      "####################\n",
      "file: ./test_time_rollout/idm/intersection_idm_20231218-2000511702947651.2377908-0_emission.csv\n",
      "####################\n",
      "####################\n",
      "file: ./test_time_rollout/idm/intersection_idm_20231218-2002051702947725.796032-0_emission.csv\n",
      "####################\n",
      "####################\n",
      "file: ./test_time_rollout/idm/intersection_idm_20231218-2003171702947797.342098-0_emission.csv\n",
      "####################\n",
      "####################\n",
      "file: ./test_time_rollout/idm/intersection_idm_20231218-2004321702947872.6041749-0_emission.csv\n",
      "####################\n",
      "####################\n",
      "file: ./test_time_rollout/idm/intersection_idm_20231218-2005471702947947.1826816-0_emission.csv\n",
      "####################\n",
      "####################\n",
      "file: ./test_time_rollout/idm/intersection_idm_20231218-2006591702948019.0751808-0_emission.csv\n",
      "####################\n",
      "####################\n",
      "####################\n",
      "####################\n",
      "####################\n",
      "####################\n",
      "####################\n",
      "####################\n",
      "####################\n",
      "####################\n",
      "####################\n",
      "####################\n",
      "####################\n",
      "####################\n",
      "####################\n",
      "####################\n",
      "####################\n",
      "####################\n",
      "####################\n",
      "####################\n",
      "####################\n",
      "####################\n",
      "####################\n",
      "\n",
      "Final Aggregated Metrics (across all files):\n",
      "\n",
      "MPG: [16.100092168693422, 16.338168399174947, 16.16497837222241, 16.166574148295656, 16.259596186931404, 16.436908355976612, 15.785900324011337, 16.064276445289988, 15.965165974105073, 16.682616395499938]\n",
      "Throughput: [390.0, 220.0, 360.0, 340.0, 220.0, 420.0, 360.0, 280.0, 450.0, 370.0]\n",
      "TTCS: [1.608642934224882, 1.5774585043847065, 1.6114365488512796, 1.6470770393108438, 1.6776514388167687, 1.7873987446531483, 1.764330381097984, 1.6319546262839701, 1.8147582432632148, 1.6918970145820307]\n",
      "DRACS: [2.7536356764188246, 3.5899262961553764, 3.3788339964439076, 2.317144366054837, 2.6580250935762946, 3.5429243570265703, 2.87595527690913, 2.5560761612788885, 2.749861471743755, 2.5708584073874543]\n",
      "CAVS: [2.21445788984325, 2.7337050961009375, 2.0005136976921523, 2.1584657154251685, 2.1785055719191297, 2.236165037923564, 2.3103303593257087, 2.1438464263578223, 2.2060504460584487, 2.179293759831954]\n",
      "####################\n",
      "\n",
      "\n",
      "& $1.68$ & $2.9$ & $16.2$ & $341$ & $2.24$\n"
     ]
    }
   ],
   "source": [
    "!python eval_metrics.py --method idm --start_time $SHOCK_START_TIME --end_time $SHOCK_END_TIME"
   ]
  },
  {
   "cell_type": "markdown",
   "id": "dce556db",
   "metadata": {},
   "source": [
    "#### FS:"
   ]
  },
  {
   "cell_type": "code",
   "execution_count": null,
   "id": "c9e48f60",
   "metadata": {},
   "outputs": [],
   "source": [
    "!python classic.py --method fs --gen_emission --num_rollouts $NUM_ROLLOUTS --shock --render"
   ]
  },
  {
   "cell_type": "code",
   "execution_count": 3,
   "id": "a842fea3",
   "metadata": {},
   "outputs": [
    {
     "name": "stdout",
     "output_type": "stream",
     "text": [
      "Calculating metrics for 1 rollouts on files: \n",
      "['./test_time_rollout/fs/intersection_fs_20231218-2012101702948330.2125962-0_emission.csv', './test_time_rollout/fs/intersection_fs_20231218-2013171702948397.7356842-0_emission.csv', './test_time_rollout/fs/intersection_fs_20231218-2014271702948467.9763246-0_emission.csv', './test_time_rollout/fs/intersection_fs_20231218-2015361702948536.783946-0_emission.csv', './test_time_rollout/fs/intersection_fs_20231218-2016461702948606.0660858-0_emission.csv', './test_time_rollout/fs/intersection_fs_20231218-2017551702948675.8653727-0_emission.csv', './test_time_rollout/fs/intersection_fs_20231218-2019041702948744.3229353-0_emission.csv', './test_time_rollout/fs/intersection_fs_20231218-2020131702948813.95274-0_emission.csv']\n",
      "\n",
      "file: ./test_time_rollout/fs/intersection_fs_20231218-2012101702948330.2125962-0_emission.csv\n",
      "####################\n",
      "####################\n",
      "file: ./test_time_rollout/fs/intersection_fs_20231218-2013171702948397.7356842-0_emission.csv\n",
      "####################\n",
      "####################\n",
      "file: ./test_time_rollout/fs/intersection_fs_20231218-2014271702948467.9763246-0_emission.csv\n",
      "####################\n",
      "####################\n",
      "file: ./test_time_rollout/fs/intersection_fs_20231218-2015361702948536.783946-0_emission.csv\n",
      "####################\n",
      "####################\n",
      "file: ./test_time_rollout/fs/intersection_fs_20231218-2016461702948606.0660858-0_emission.csv\n",
      "####################\n",
      "####################\n",
      "file: ./test_time_rollout/fs/intersection_fs_20231218-2017551702948675.8653727-0_emission.csv\n",
      "####################\n",
      "####################\n",
      "file: ./test_time_rollout/fs/intersection_fs_20231218-2019041702948744.3229353-0_emission.csv\n",
      "####################\n",
      "####################\n",
      "file: ./test_time_rollout/fs/intersection_fs_20231218-2020131702948813.95274-0_emission.csv\n",
      "####################\n",
      "####################\n",
      "####################\n",
      "####################\n",
      "####################\n",
      "####################\n",
      "####################\n",
      "####################\n",
      "####################\n",
      "####################\n",
      "####################\n",
      "####################\n",
      "####################\n",
      "####################\n",
      "####################\n",
      "####################\n",
      "####################\n",
      "####################\n",
      "####################\n",
      "\n",
      "Final Aggregated Metrics (across all files):\n",
      "\n",
      "MPG: [16.01660814628855, 15.711601841013113, 16.30960669303853, 16.306515661766678, 15.95327955723061, 16.451587214410644, 16.374207511063833, 16.17724446744725]\n",
      "Throughput: [470.00000000000006, 400.0, 530.0, 340.0, 410.0, 390.0, 459.99999999999994, 229.99999999999997]\n",
      "TTCS: [1.7338533370939984, 1.5070085339618644, 1.751672901539904, 1.6003166430762203, 1.7494359908601071, 1.5194829095622462, 1.5248266725159019, 1.4726348087868344]\n",
      "DRACS: [2.7006638004144308, 3.2889820471491165, 2.645622182227787, 3.4071906513076504, 2.901197883324054, 2.6494718601892546, 2.691032811326161, 3.1561150920821572]\n",
      "CAVS: [0.6468134699918724, 0.5352516917338798, 0.645312529512108, 0.6980597899383117, 0.5905494241320125, 0.6396330143620345, 0.6508293048744676, 0.6465674624500352]\n",
      "####################\n",
      "\n",
      "\n",
      "& $1.61$ & $2.93$ & $16.16$ & $403$ & $0.63$\n"
     ]
    }
   ],
   "source": [
    "!python eval_metrics.py --method fs --start_time $SHOCK_START_TIME --end_time $SHOCK_END_TIME"
   ]
  },
  {
   "cell_type": "markdown",
   "id": "42db8f52",
   "metadata": {},
   "source": [
    "#### PIwS:"
   ]
  },
  {
   "cell_type": "code",
   "execution_count": null,
   "id": "74c9ab80",
   "metadata": {},
   "outputs": [],
   "source": [
    "!python classic.py --method piws --gen_emission --num_rollouts $NUM_ROLLOUTS --shock --render"
   ]
  },
  {
   "cell_type": "code",
   "execution_count": 4,
   "id": "a1a7f6a4",
   "metadata": {},
   "outputs": [
    {
     "name": "stdout",
     "output_type": "stream",
     "text": [
      "Calculating metrics for 1 rollouts on files: \n",
      "['./test_time_rollout/piws/intersection_piws_20231218-2008131702948093.7253773-0_emission.csv', './test_time_rollout/piws/intersection_piws_20231218-2009181702948158.2999568-0_emission.csv', './test_time_rollout/piws/intersection_piws_20231218-2010271702948227.9342315-0_emission.csv', './test_time_rollout/piws/intersection_piws_20231218-2011371702948297.075044-0_emission.csv']\n",
      "\n",
      "file: ./test_time_rollout/piws/intersection_piws_20231218-2008131702948093.7253773-0_emission.csv\n",
      "####################\n",
      "####################\n",
      "file: ./test_time_rollout/piws/intersection_piws_20231218-2009181702948158.2999568-0_emission.csv\n",
      "####################\n",
      "####################\n",
      "file: ./test_time_rollout/piws/intersection_piws_20231218-2010271702948227.9342315-0_emission.csv\n",
      "####################\n",
      "####################\n",
      "file: ./test_time_rollout/piws/intersection_piws_20231218-2011371702948297.075044-0_emission.csv\n",
      "####################\n",
      "####################\n",
      "####################\n",
      "####################\n",
      "####################\n",
      "####################\n",
      "####################\n",
      "####################\n",
      "####################\n",
      "####################\n",
      "####################\n",
      "\n",
      "Final Aggregated Metrics (across all files):\n",
      "\n",
      "MPG: [16.49690534364159, 15.81395079663625, 16.248777021524152, 20.924036405070204]\n",
      "Throughput: [410.0, 470.00000000000006, 240.0, 60.0]\n",
      "TTCS: [1.7400331998534262, 1.5851529640761086, 1.6672191293404957, 1.8963910751450344]\n",
      "DRACS: [2.6836476737799924, 2.5970490685969057, 3.00209480735908, 2.679580295858096]\n",
      "CAVS: [0.6445861246898924, 0.6460685812014988, 0.645926655519473, 0.6850915385674428]\n",
      "####################\n",
      "\n",
      "\n",
      "& $1.72$ & $2.74$ & $17.37$ & $295$ & $0.66$\n"
     ]
    }
   ],
   "source": [
    "!python eval_metrics.py --method piws --start_time $SHOCK_START_TIME --end_time $SHOCK_END_TIME"
   ]
  },
  {
   "cell_type": "markdown",
   "id": "60a3f40d",
   "metadata": {},
   "source": [
    "#### BCM:"
   ]
  },
  {
   "cell_type": "code",
   "execution_count": null,
   "id": "2cf987dd",
   "metadata": {},
   "outputs": [],
   "source": [
    "!python classic.py --method bcm --num_rollouts $NUM_ROLLOUTS --gen_emission --shock --render"
   ]
  },
  {
   "cell_type": "code",
   "execution_count": 5,
   "id": "e4dbfcf3",
   "metadata": {},
   "outputs": [
    {
     "name": "stdout",
     "output_type": "stream",
     "text": [
      "Calculating metrics for 1 rollouts on files: \n",
      "['./test_time_rollout/bcm/intersection_bcm_20231218-2021551702948915.0479734-0_emission.csv', './test_time_rollout/bcm/intersection_bcm_20231218-2023021702948982.529481-0_emission.csv', './test_time_rollout/bcm/intersection_bcm_20231218-2024081702949048.648824-0_emission.csv', './test_time_rollout/bcm/intersection_bcm_20231218-2025111702949111.161498-0_emission.csv', './test_time_rollout/bcm/intersection_bcm_20231218-2026131702949173.6758122-0_emission.csv', './test_time_rollout/bcm/intersection_bcm_20231218-2027171702949237.6001093-0_emission.csv', './test_time_rollout/bcm/intersection_bcm_20231218-2028191702949299.9645128-0_emission.csv', './test_time_rollout/bcm/intersection_bcm_20231218-2029231702949363.6419966-0_emission.csv', './test_time_rollout/bcm/intersection_bcm_20231218-2030261702949426.9313323-0_emission.csv', './test_time_rollout/bcm/intersection_bcm_20231218-2031291702949489.1140711-0_emission.csv']\n",
      "\n",
      "file: ./test_time_rollout/bcm/intersection_bcm_20231218-2021551702948915.0479734-0_emission.csv\n",
      "####################\n",
      "####################\n",
      "file: ./test_time_rollout/bcm/intersection_bcm_20231218-2023021702948982.529481-0_emission.csv\n",
      "####################\n",
      "####################\n",
      "file: ./test_time_rollout/bcm/intersection_bcm_20231218-2024081702949048.648824-0_emission.csv\n",
      "####################\n",
      "####################\n",
      "file: ./test_time_rollout/bcm/intersection_bcm_20231218-2025111702949111.161498-0_emission.csv\n",
      "####################\n",
      "####################\n",
      "file: ./test_time_rollout/bcm/intersection_bcm_20231218-2026131702949173.6758122-0_emission.csv\n",
      "####################\n",
      "####################\n",
      "file: ./test_time_rollout/bcm/intersection_bcm_20231218-2027171702949237.6001093-0_emission.csv\n",
      "####################\n",
      "####################\n",
      "file: ./test_time_rollout/bcm/intersection_bcm_20231218-2028191702949299.9645128-0_emission.csv\n",
      "####################\n",
      "####################\n",
      "file: ./test_time_rollout/bcm/intersection_bcm_20231218-2029231702949363.6419966-0_emission.csv\n",
      "####################\n",
      "####################\n",
      "file: ./test_time_rollout/bcm/intersection_bcm_20231218-2030261702949426.9313323-0_emission.csv\n",
      "####################\n",
      "####################\n",
      "file: ./test_time_rollout/bcm/intersection_bcm_20231218-2031291702949489.1140711-0_emission.csv\n",
      "####################\n",
      "####################\n",
      "####################\n",
      "####################\n",
      "####################\n",
      "####################\n",
      "####################\n",
      "####################\n",
      "####################\n",
      "####################\n",
      "####################\n",
      "####################\n",
      "####################\n",
      "####################\n",
      "####################\n",
      "####################\n",
      "####################\n",
      "####################\n",
      "####################\n",
      "####################\n",
      "####################\n",
      "####################\n",
      "####################\n",
      "\n",
      "Final Aggregated Metrics (across all files):\n",
      "\n",
      "MPG: [16.662990994924872, 16.149021579298445, 16.148829944255347, 15.908893165654684, 16.998913314093965, 16.50898792786519, 16.16136578850419, 16.438774308200575, 16.467290358832905, 15.542453435786522]\n",
      "Throughput: [320.0, 290.0, 410.0, 430.0, 560.0, 370.0, 390.0, 420.0, 360.0, 610.0]\n",
      "TTCS: [1.8064825622145697, 1.6655633053824312, 1.7911306751318181, 1.5375934662110253, 1.499304708570746, 1.4788921370603045, 1.5623422462244034, 1.6202037575490364, 1.5083101332130135, 1.503157306435664]\n",
      "DRACS: [2.6714607658985963, 2.592588834917334, 2.684485993878641, 2.5965753051671796, 3.1562355714564014, 2.6921450553328015, 2.6250941751400787, 2.356921945932377, 2.9580335319919766, 2.70193963571856]\n",
      "CAVS: [0.6560823502293331, 0.6461346451987559, 0.647521392782343, 0.6509612542387879, 0.7091723359123229, 0.6829043370819159, 0.5657143368608952, 0.6562436032897699, 0.7144194651207568, 0.5893040751822961]\n",
      "####################\n",
      "\n",
      "\n",
      "& $1.6$ & $2.7$ & $16.3$ & $416$ & $0.65$\n"
     ]
    }
   ],
   "source": [
    "!python eval_metrics.py --method bcm --start_time $SHOCK_START_TIME --end_time $SHOCK_END_TIME"
   ]
  },
  {
   "cell_type": "markdown",
   "id": "f82123e0",
   "metadata": {},
   "source": [
    "#### LACC:"
   ]
  },
  {
   "cell_type": "code",
   "execution_count": null,
   "id": "2dcd6968",
   "metadata": {},
   "outputs": [],
   "source": [
    "!python classic.py --method lacc --num_rollouts $NUM_ROLLOUTS --gen_emission --shock --render"
   ]
  },
  {
   "cell_type": "code",
   "execution_count": 6,
   "id": "6872a274",
   "metadata": {},
   "outputs": [
    {
     "name": "stdout",
     "output_type": "stream",
     "text": [
      "Calculating metrics for 1 rollouts on files: \n",
      "['./test_time_rollout/lacc/intersection_lacc_20231218-2011541702948314.848696-0_emission.csv', './test_time_rollout/lacc/intersection_lacc_20231218-2013021702948382.6835089-0_emission.csv', './test_time_rollout/lacc/intersection_lacc_20231218-2014141702948454.1621046-0_emission.csv', './test_time_rollout/lacc/intersection_lacc_20231218-2015221702948522.497556-0_emission.csv', './test_time_rollout/lacc/intersection_lacc_20231218-2016331702948593.5846517-0_emission.csv', './test_time_rollout/lacc/intersection_lacc_20231218-2017431702948663.7747304-0_emission.csv', './test_time_rollout/lacc/intersection_lacc_20231218-2018521702948732.4533582-0_emission.csv', './test_time_rollout/lacc/intersection_lacc_20231218-2020011702948801.9332893-0_emission.csv', './test_time_rollout/lacc/intersection_lacc_20231218-2021111702948871.0199506-0_emission.csv', './test_time_rollout/lacc/intersection_lacc_20231218-2022231702948943.747764-0_emission.csv']\n",
      "\n",
      "file: ./test_time_rollout/lacc/intersection_lacc_20231218-2011541702948314.848696-0_emission.csv\n",
      "####################\n",
      "####################\n",
      "file: ./test_time_rollout/lacc/intersection_lacc_20231218-2013021702948382.6835089-0_emission.csv\n",
      "####################\n",
      "####################\n",
      "file: ./test_time_rollout/lacc/intersection_lacc_20231218-2014141702948454.1621046-0_emission.csv\n",
      "####################\n",
      "####################\n",
      "file: ./test_time_rollout/lacc/intersection_lacc_20231218-2015221702948522.497556-0_emission.csv\n",
      "####################\n",
      "####################\n",
      "file: ./test_time_rollout/lacc/intersection_lacc_20231218-2016331702948593.5846517-0_emission.csv\n",
      "####################\n",
      "####################\n",
      "file: ./test_time_rollout/lacc/intersection_lacc_20231218-2017431702948663.7747304-0_emission.csv\n",
      "####################\n",
      "####################\n",
      "file: ./test_time_rollout/lacc/intersection_lacc_20231218-2018521702948732.4533582-0_emission.csv\n",
      "####################\n",
      "####################\n",
      "file: ./test_time_rollout/lacc/intersection_lacc_20231218-2020011702948801.9332893-0_emission.csv\n",
      "####################\n",
      "####################\n",
      "file: ./test_time_rollout/lacc/intersection_lacc_20231218-2021111702948871.0199506-0_emission.csv\n",
      "####################\n",
      "####################\n",
      "file: ./test_time_rollout/lacc/intersection_lacc_20231218-2022231702948943.747764-0_emission.csv\n",
      "####################\n",
      "####################\n",
      "####################\n",
      "####################\n",
      "####################\n",
      "####################\n",
      "####################\n",
      "####################\n",
      "####################\n",
      "####################\n",
      "####################\n",
      "####################\n",
      "####################\n",
      "####################\n",
      "####################\n",
      "####################\n",
      "####################\n",
      "####################\n",
      "####################\n",
      "####################\n",
      "####################\n",
      "####################\n",
      "####################\n",
      "\n",
      "Final Aggregated Metrics (across all files):\n",
      "\n",
      "MPG: [16.1083063329303, 15.894358077486798, 16.53089345125879, 15.891589424779596, 15.794386709184568, 17.50537893683734, 15.967654302087906, 16.034114527706652, 16.04004815739886, 15.7357162921261]\n",
      "Throughput: [400.0, 370.0, 380.0, 370.0, 400.0, 530.0, 580.0, 450.0, 200.0, 489.99999999999994]\n",
      "TTCS: [1.506785955042082, 1.4916149277177246, 1.495830931568549, 1.4933058947887492, 1.7469977921266335, 1.6044993060920933, 1.5252508329939434, 1.5550214596072067, 1.7871755132634206, 1.5026802543197064]\n",
      "DRACS: [2.957883542857133, 3.3288322694033403, 2.9504926052562075, 2.783405409251042, 2.1051873977442517, 2.8599262705603756, 3.0325336545916484, 2.8826530592400323, 2.6058224620520956, 3.3528095610244977]\n",
      "CAVS: [0.6467215015172812, 0.6611313493380052, 0.7804680966585155, 0.6470769669364139, 0.6533084150105822, 0.6456892613481815, 0.6504991040929983, 0.643288059084844, 0.6461825048346093, 0.580236077290309]\n",
      "####################\n",
      "\n",
      "\n",
      "& $1.57$ & $2.89$ & $16.15$ & $417$ & $0.66$\n"
     ]
    }
   ],
   "source": [
    "!python eval_metrics.py --method lacc --start_time $SHOCK_START_TIME --end_time $SHOCK_END_TIME"
   ]
  },
  {
   "cell_type": "markdown",
   "id": "1bf91ee1",
   "metadata": {},
   "source": [
    "#### RL + GO:"
   ]
  },
  {
   "cell_type": "code",
   "execution_count": null,
   "id": "2bf12bd7",
   "metadata": {},
   "outputs": [],
   "source": [
    "# round v1 best\n",
    "# !python test_rllib.py /mnt/c/Users/09_gi/Desktop/Beyond-Simulated-Drivers/intersection/Villarreal_et_al/Trained_policies/roundv1/PPO_IntersectionRLPOEnv-v0_295a0b1c_2023-12-17_02-01-54r06882ki $CHECKPOINT\\\n",
    "# --method villarreal --render --shock --num_rollouts $NUM_ROLLOUTS --gen_emission \n",
    "\n",
    "# round v2 best. The train time inflow was set to 1300\n",
    "# for _ in range(NUM_ROLLOUTS):\n",
    "#     !python test_rllib.py /mnt/c/Users/09_gi/Desktop/Beyond-Simulated-Drivers/intersection/Villarreal_et_al/Trained_policies/roundv2/PPO_IntersectionRLPOEnv-v0_6673d4c6_2023-12-17_05-24-03yszavk92 $CHECKPOINT\\\n",
    "#     --method villarreal --render --shock --num_rollouts 1 --gen_emission --inflow 1300\n",
    "\n",
    "#round v3\n",
    "#CHECKPOINT = 380\n",
    "# for _ in range(NUM_ROLLOUTS):\n",
    "#     !python test_rllib.py /mnt/c/Users/09_gi/Desktop/Beyond-Simulated-Drivers/intersection/Villarreal_et_al/Trained_policies/roundv3/PPO_IntersectionRLPOEnv-v0_6bbb730c_2023-12-18_10-45-08srfqxx_v $CHECKPOINT\\\n",
    "#     --method villarreal --render --shock --num_rollouts 1 --gen_emission --inflow 1300\n",
    "    \n",
    "#round v4\n",
    "CHECKPOINT = 150\n",
    "for _ in range(NUM_ROLLOUTS):\n",
    "    !python test_rllib.py /mnt/c/Users/09_gi/Desktop/Beyond-Simulated-Drivers/intersection/Villarreal_et_al/Trained_policies/roundv4/PPO_IntersectionRLPOEnv-v0_51f4df4c_2023-12-19_03-05-06ix0ew9ty $CHECKPOINT\\\n",
    "    --method villarreal --render --shock --num_rollouts 1 --gen_emission --inflow 1300\n",
    "    "
   ]
  },
  {
   "cell_type": "code",
   "execution_count": 7,
   "id": "29cfd5c8",
   "metadata": {},
   "outputs": [
    {
     "name": "stdout",
     "output_type": "stream",
     "text": [
      "Calculating metrics for 1 rollouts on files: \n",
      "['./test_time_rollout/villarreal/intersection_20231219-0853301702994010.6706238-0_emission.csv', './test_time_rollout/villarreal/intersection_20231219-0855211702994121.754739-0_emission.csv', './test_time_rollout/villarreal/intersection_20231219-0857181702994238.4766548-0_emission.csv', './test_time_rollout/villarreal/intersection_20231219-0859081702994348.8513527-0_emission.csv', './test_time_rollout/villarreal/intersection_20231219-0900591702994459.1080825-0_emission.csv', './test_time_rollout/villarreal/intersection_20231219-0902381702994558.9010057-0_emission.csv', './test_time_rollout/villarreal/intersection_20231219-0904321702994672.9765189-0_emission.csv', './test_time_rollout/villarreal/intersection_20231219-0906131702994773.3469288-0_emission.csv', './test_time_rollout/villarreal/intersection_20231219-0908181702994898.0355709-0_emission.csv', './test_time_rollout/villarreal/intersection_20231219-0910081702995008.1473672-0_emission.csv']\n",
      "\n",
      "file: ./test_time_rollout/villarreal/intersection_20231219-0853301702994010.6706238-0_emission.csv\n",
      "####################\n",
      "####################\n",
      "file: ./test_time_rollout/villarreal/intersection_20231219-0855211702994121.754739-0_emission.csv\n",
      "####################\n",
      "####################\n",
      "file: ./test_time_rollout/villarreal/intersection_20231219-0857181702994238.4766548-0_emission.csv\n",
      "####################\n",
      "####################\n",
      "file: ./test_time_rollout/villarreal/intersection_20231219-0859081702994348.8513527-0_emission.csv\n",
      "####################\n",
      "####################\n",
      "file: ./test_time_rollout/villarreal/intersection_20231219-0900591702994459.1080825-0_emission.csv\n",
      "####################\n",
      "####################\n",
      "file: ./test_time_rollout/villarreal/intersection_20231219-0902381702994558.9010057-0_emission.csv\n",
      "####################\n",
      "####################\n",
      "file: ./test_time_rollout/villarreal/intersection_20231219-0904321702994672.9765189-0_emission.csv\n",
      "####################\n",
      "####################\n",
      "file: ./test_time_rollout/villarreal/intersection_20231219-0906131702994773.3469288-0_emission.csv\n",
      "####################\n",
      "####################\n",
      "file: ./test_time_rollout/villarreal/intersection_20231219-0908181702994898.0355709-0_emission.csv\n",
      "####################\n",
      "####################\n",
      "file: ./test_time_rollout/villarreal/intersection_20231219-0910081702995008.1473672-0_emission.csv\n",
      "####################\n",
      "####################\n",
      "####################\n",
      "####################\n",
      "####################\n",
      "####################\n",
      "####################\n",
      "####################\n",
      "####################\n",
      "####################\n",
      "####################\n",
      "####################\n",
      "####################\n",
      "####################\n",
      "####################\n",
      "####################\n",
      "####################\n",
      "####################\n",
      "####################\n",
      "####################\n",
      "####################\n",
      "####################\n",
      "####################\n",
      "\n",
      "Final Aggregated Metrics (across all files):\n",
      "\n",
      "MPG: [12.331945737625185, 8.34601912796367, 11.912280049282279, 12.52273918302129, 14.98939580383255, 17.070311238742775, 16.15562795312363, 8.001753973796962, 16.141887972632464, 13.5583040422567]\n",
      "Throughput: [390.0, 260.0, 440.0, 370.0, 500.0, 370.0, 459.99999999999994, 229.99999999999997, 400.0, 480.0]\n",
      "TTCS: [1.4951476923163927, 1.543434913100848, 1.54152539107391, 1.561466578742664, 0.8682305869671612, 1.504790325389779, 1.644614726605942, 1.547614569569415, 1.5344972301744884, 1.5555811670939528]\n",
      "DRACS: [2.985666187930486, 3.5475956802184303, 3.2993392708683884, 2.628871115371744, 3.333907973207653, 3.2923767059093247, 3.0106834280504606, 3.3973837875577755, 2.8750488498503213, 2.6684031003624673]\n",
      "CAVS: [0.8524051489389513, 1.483187241548932, 0.9584010649746131, 0.7957519550222638, 1.2791380450452428, 0.7302297999096232, 1.3204784825422924, 1.4697392637467543, 1.2150397008539686, 1.343703349614843]\n",
      "####################\n",
      "\n",
      "\n",
      "& $1.48$ & $3.1$ & $13.1$ & $390$ & $1.14$\n"
     ]
    }
   ],
   "source": [
    "!python eval_metrics.py --method villarreal --start_time $SHOCK_START_TIME --end_time $SHOCK_END_TIME"
   ]
  },
  {
   "cell_type": "markdown",
   "id": "43b144f6",
   "metadata": {},
   "source": [
    "#### Ours:"
   ]
  },
  {
   "cell_type": "code",
   "execution_count": null,
   "id": "f98e8763",
   "metadata": {},
   "outputs": [],
   "source": [
    "CHECKPOINT = 400\n"
   ]
  }
 ],
 "metadata": {
  "kernelspec": {
   "display_name": "Python 3 (ipykernel)",
   "language": "python",
   "name": "python3"
  },
  "language_info": {
   "codemirror_mode": {
    "name": "ipython",
    "version": 3
   },
   "file_extension": ".py",
   "mimetype": "text/x-python",
   "name": "python",
   "nbconvert_exporter": "python",
   "pygments_lexer": "ipython3",
   "version": "3.7.3"
  }
 },
 "nbformat": 4,
 "nbformat_minor": 5
}
