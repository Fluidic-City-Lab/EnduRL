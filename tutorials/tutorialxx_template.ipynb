{
 "cells": [
  {
   "cell_type": "markdown",
   "metadata": {},
   "source": [
    "# Tutorial XX: Template\n",
    "\n",
    "This tutorial walks you through the process of *FILL IN*. The reason behind when and why this is important should be briefly described in the remainder of this paragraph. If possible, this should be further elucidated by a complementary figure, which can be placed in the folder *tutorials/img*. Figure 1 serves an example of this below.\n",
    "\n",
    "<img src=\"img/template_img.png\">\n",
    "\n",
    "<center>**Figure 1.** A template image</center>\n",
    "\n",
    "The remainder of this tutorial is organized as follows:\n",
    "\n",
    "* Section 1 does XXX.\n",
    "* Section 2 does YYY.\n",
    "* Section 3 does ZZZ."
   ]
  },
  {
   "cell_type": "markdown",
   "metadata": {},
   "source": [
    "## 1. Demonstrating the Functionality of Code\n",
    "\n",
    "All sections in this tutorial should consist of blocks of text describing a specific method or set of methods in Flow, following by a code snippet demonstrating the described methods being used.\n",
    "\n",
    "For example, let us say I want to show how to add two numbers in python. I might begin by introducing the numbers and methods I will use."
   ]
  },
  {
   "cell_type": "code",
   "execution_count": null,
   "metadata": {},
   "outputs": [],
   "source": [
    "a = 1\n",
    "b = 2\n",
    "\n",
    "def add(a, b):\n",
    "    return a + b"
   ]
  },
  {
   "cell_type": "markdown",
   "metadata": {},
   "source": [
    "Then I could show the functionality of the methods as follows."
   ]
  },
  {
   "cell_type": "code",
   "execution_count": null,
   "metadata": {},
   "outputs": [],
   "source": [
    "add(a, b)"
   ]
  },
  {
   "cell_type": "markdown",
   "metadata": {},
   "source": [
    "Whenever possible, sections should also be broken up into subsections that help the reader more quickly identify which portion of the tutorial discusses which topic. This may be helpful to readers that are just interested in one thing, e.g. just to find out how a specific parameter works. An example of this separation of subsections can be seen in Section 2."
   ]
  },
  {
   "cell_type": "markdown",
   "metadata": {},
   "source": [
    "## 2. Sequentially Building a Class\n",
    "\n",
    "Classes, like lines of code presented in the prior section, should be described and written sequentially rather than all at once. An example of this can be for a class version of the add method, seen below.\n",
    "\n",
    "### 2.1 Introduce and instantiate the class\n",
    "\n",
    "We begin by defining the class with its `__init__` method, and import any necessary modules."
   ]
  },
  {
   "cell_type": "code",
   "execution_count": null,
   "metadata": {},
   "outputs": [],
   "source": [
    "import numpy as np\n",
    "\n",
    "\n",
    "class Adder(object):\n",
    "\n",
    "    def __init__(self, numbers):\n",
    "        \"\"\"Instantiate the Adder class.\n",
    "\n",
    "        Parameters\n",
    "        ----------\n",
    "        numbers : array_like\n",
    "            the numbers that should be added together.\n",
    "        \"\"\"\n",
    "        self.numbers = numbers"
   ]
  },
  {
   "cell_type": "markdown",
   "metadata": {},
   "source": [
    "### 2.2 Include (sequentially) new methods\n",
    "\n",
    "Next, we add a new method to the class. We do this by recreating the class and having it inherit it's previous properties. As an example of this, let us consider including a `run` method to the `Adder` class than adds the numbers that is provided to the class during instantiation."
   ]
  },
  {
   "cell_type": "code",
   "execution_count": null,
   "metadata": {},
   "outputs": [],
   "source": [
    "class Adder(Adder):  # continuing from the previous definition of Adder\n",
    "\n",
    "    def run(self):\n",
    "        return np.sum(self.numbers)"
   ]
  },
  {
   "cell_type": "markdown",
   "metadata": {},
   "source": [
    "### 2.3 Demonstrate functionality of the class\n",
    "\n",
    "Finally, we can test and validate the class, as seen in the code snippet below."
   ]
  },
  {
   "cell_type": "code",
   "execution_count": null,
   "metadata": {},
   "outputs": [],
   "source": [
    "adder = Adder([1, 2, 3])\n",
    "\n",
    "print(\"The sum of the values is:\", adder.run())"
   ]
  },
  {
   "cell_type": "markdown",
   "metadata": {},
   "source": [
    "## 3. Adding the Changes to the README and Website\n",
    "\n",
    "Once you have completed your tutorial, you must include your new tutorial in all relevant descriptors of Flow's tutorials.\n",
    "\n",
    "### 3.1 README\n",
    "\n",
    "For one, begin by adding the new tutorial to the README.md file located in the tutorials/ directory, see the figure below. This should be included in your PR whenever creating a new tutorial.\n",
    "\n",
    "<img src=\"img/tutorials_readme.png\">\n",
    "\n",
    "### 3.2 Website\n",
    "\n",
    "Next, **Ashkan, can you describe how to add the tutorial to the website**?"
   ]
  },
  {
   "cell_type": "code",
   "execution_count": null,
   "metadata": {},
   "outputs": [],
   "source": []
  }
 ],
 "metadata": {
  "kernelspec": {
   "display_name": "Python 3",
   "language": "python",
   "name": "python3"
  },
  "language_info": {
   "codemirror_mode": {
    "name": "ipython",
    "version": 3
   },
   "file_extension": ".py",
   "mimetype": "text/x-python",
   "name": "python",
   "nbconvert_exporter": "python",
   "pygments_lexer": "ipython3",
   "version": "3.6.7"
  }
 },
 "nbformat": 4,
 "nbformat_minor": 2
}
