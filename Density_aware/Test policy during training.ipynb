{
 "cells": [
  {
   "cell_type": "code",
   "execution_count": 4,
   "id": "37721a27",
   "metadata": {},
   "outputs": [
    {
     "name": "stdout",
     "output_type": "stream",
     "text": [
      "2023-02-15 17:46:11,228\tWARNING services.py:597 -- setpgrp failed, processes may not be cleaned up properly: [Errno 1] Operation not permitted.\n",
      "2023-02-15 17:46:11,229\tINFO resource_spec.py:216 -- Starting Ray with 28.37 GiB memory available for workers and up to 14.21 GiB for objects. You can adjust these settings with ray.init(memory=<bytes>, object_store_memory=<bytes>).\n",
      "2023-02-15 17:46:11,616\tINFO trainer.py:371 -- Tip: set 'eager': true or the --eager flag to enable TensorFlow eager execution\n",
      "2023-02-15 17:46:11,628\tINFO trainer.py:512 -- Current log_level is WARN. For more information, set 'log_level': 'INFO' / 'DEBUG' or use the -v and -vv flags.\n",
      "2023-02-15 17:46:16,963\tWARNING util.py:45 -- Install gputil for GPU system monitoring.\n",
      "2023-02-15 17:46:17,050\tINFO trainable.py:346 -- Restored from checkpoint: /home/stars-server/ray_results/density_aware_rl/PPO_DensityAwareRLEnv-v0_0b25be52_2023-02-15_14-48-04y39xugk5/checkpoint_28/checkpoint-28\n",
      "2023-02-15 17:46:17,050\tINFO trainable.py:353 -- Current state after restoring: {'_iteration': 28, '_timesteps_total': 1680000, '_time_total': 9914.957460165024, '_episodes_total': 560}\n",
      "\n",
      "-----------------------\n",
      "ring length: 260\n",
      "-----------------------\n",
      "Round 0, Return: 6786.954476991831\n",
      "==== Summary of results ====\n",
      "Return:\n",
      "[2.5445774539846893]\n",
      "[6786.954476991831]\n",
      "Average, std: 6786.954476991831, 0.0\n",
      "\n",
      "Speed, mean (m/s):\n",
      "[2.5445774539846893]\n",
      "Average, std: 2.5445774539846893, 0.0\n",
      "\n",
      "Speed, std (m/s):\n",
      "[0.26738808101934225]\n",
      "Average, std: 0.26738808101934225, 0.0\n",
      "\n",
      "Outflows (veh/hr):\n",
      "[0.0]\n",
      "Average, std: 0.0, 0.0\n",
      "Inflows (veh/hr):\n",
      "[0.0]\n",
      "Average, std: 0.0, 0.0\n",
      "Throughput efficiency (veh/hr):\n",
      "[0]\n",
      "Average, std: 0.0, 0.0\n"
     ]
    }
   ],
   "source": [
    "!python flow/visualize/visualizer_rllib.py \\\n",
    "~/ray_results/density_aware_rl/PPO_DensityAwareRLEnv-v0_0b25be52_2023-02-15_14-48-04y39xugk5 28"
   ]
  },
  {
   "cell_type": "code",
   "execution_count": null,
   "id": "ff4e4f5b",
   "metadata": {},
   "outputs": [],
   "source": [
    "# Or just use our own"
   ]
  },
  {
   "cell_type": "code",
   "execution_count": 26,
   "id": "bb193896",
   "metadata": {},
   "outputs": [
    {
     "name": "stdout",
     "output_type": "stream",
     "text": [
      "2023-02-16 16:12:30,871\tWARNING services.py:597 -- setpgrp failed, processes may not be cleaned up properly: [Errno 1] Operation not permitted.\n",
      "2023-02-16 16:12:30,871\tINFO resource_spec.py:216 -- Starting Ray with 23.68 GiB memory available for workers and up to 11.86 GiB for objects. You can adjust these settings with ray.init(memory=<bytes>, object_store_memory=<bytes>).\n",
      "2023-02-16 16:12:31,252\tINFO trainer.py:371 -- Tip: set 'eager': true or the --eager flag to enable TensorFlow eager execution\n",
      "2023-02-16 16:12:31,265\tINFO trainer.py:512 -- Current log_level is WARN. For more information, set 'log_level': 'INFO' / 'DEBUG' or use the -v and -vv flags.\n",
      "2023-02-16 16:12:37,249\tWARNING util.py:45 -- Install gputil for GPU system monitoring.\n",
      "2023-02-16 16:12:37,341\tINFO trainable.py:346 -- Restored from checkpoint: /home/stars-server/ray_results/density_aware_rl/PPO_DensityAwareRLEnv-v0_64e5969c_2023-02-16_13-30-394q6pr1hx/checkpoint_6/checkpoint-6\n",
      "2023-02-16 16:12:37,341\tINFO trainable.py:353 -- Current state after restoring: {'_iteration': 6, '_timesteps_total': 360000, '_time_total': 2177.304231405258, '_episodes_total': 120}\n",
      "\n",
      "-----------------------\n",
      "ring length: 229\n",
      "-----------------------\n",
      "Round 0, Return: 6149.945287855766\n",
      "==== Summary of results ====\n",
      "Return:\n",
      "[2.244230576280286]\n",
      "[6149.945287855766]\n",
      "Average, std: 6149.945287855766, 0.0\n",
      "\n",
      "Speed, mean (m/s):\n",
      "[2.244230576280286]\n",
      "Average, std: 2.244230576280286, 0.0\n",
      "\n",
      "Speed, std (m/s):\n",
      "[0.5814027458354707]\n",
      "Average, std: 0.5814027458354707, 0.0\n",
      "\n",
      "Outflows (veh/hr):\n",
      "[0.0]\n",
      "Average, std: 0.0, 0.0\n",
      "Inflows (veh/hr):\n",
      "[0.0]\n",
      "Average, std: 0.0, 0.0\n",
      "Throughput efficiency (veh/hr):\n",
      "[0]\n",
      "Average, std: 0.0, 0.0\n"
     ]
    }
   ],
   "source": [
    "!python flow/visualize/visualizer_rllib.py \\\n",
    "~/ray_results/density_aware_rl/PPO_DensityAwareRLEnv-v0_64e5969c_2023-02-16_13-30-394q6pr1hx 6"
   ]
  },
  {
   "cell_type": "code",
   "execution_count": 28,
   "id": "8b061b69",
   "metadata": {},
   "outputs": [
    {
     "name": "stdout",
     "output_type": "stream",
     "text": [
      "2023-02-16 16:19:10,537\tWARNING services.py:597 -- setpgrp failed, processes may not be cleaned up properly: [Errno 1] Operation not permitted.\n",
      "2023-02-16 16:19:10,538\tINFO resource_spec.py:216 -- Starting Ray with 23.63 GiB memory available for workers and up to 11.83 GiB for objects. You can adjust these settings with ray.init(memory=<bytes>, object_store_memory=<bytes>).\n",
      "2023-02-16 16:19:10,906\tINFO trainer.py:371 -- Tip: set 'eager': true or the --eager flag to enable TensorFlow eager execution\n",
      "2023-02-16 16:19:10,911\tINFO trainer.py:512 -- Current log_level is WARN. For more information, set 'log_level': 'INFO' / 'DEBUG' or use the -v and -vv flags.\n",
      "2023-02-16 16:19:16,513\tWARNING util.py:45 -- Install gputil for GPU system monitoring.\n",
      "2023-02-16 16:19:16,591\tINFO trainable.py:346 -- Restored from checkpoint: /home/stars-server/ray_results/density_aware_rl/PPO_DensityAwareRLEnv-v0_90e51092_2023-02-16_13-31-53_k_bsukd/checkpoint_26/checkpoint-26\n",
      "2023-02-16 16:19:16,591\tINFO trainable.py:353 -- Current state after restoring: {'_iteration': 26, '_timesteps_total': 1560000, '_time_total': 9443.03170466423, '_episodes_total': 520}\n",
      "\n",
      "-----------------------\n",
      "ring length: 263\n",
      "-----------------------\n",
      "Round 0, Return: 8701.609713898626\n",
      "==== Summary of results ====\n",
      "Return:\n",
      "[3.553481236410247]\n",
      "[8701.609713898626]\n",
      "Average, std: 8701.609713898626, 0.0\n",
      "\n",
      "Speed, mean (m/s):\n",
      "[3.553481236410247]\n",
      "Average, std: 3.553481236410247, 0.0\n",
      "\n",
      "Speed, std (m/s):\n",
      "[0.29174561120266373]\n",
      "Average, std: 0.29174561120266373, 0.0\n",
      "\n",
      "Outflows (veh/hr):\n",
      "[0.0]\n",
      "Average, std: 0.0, 0.0\n",
      "Inflows (veh/hr):\n",
      "[0.0]\n",
      "Average, std: 0.0, 0.0\n",
      "Throughput efficiency (veh/hr):\n",
      "[0]\n",
      "Average, std: 0.0, 0.0\n"
     ]
    }
   ],
   "source": [
    "!python flow/visualize/visualizer_rllib.py \\\n",
    "~/ray_results/density_aware_rl/PPO_DensityAwareRLEnv-v0_90e51092_2023-02-16_13-31-53_k_bsukd 26"
   ]
  },
  {
   "cell_type": "code",
   "execution_count": 44,
   "id": "d3ade8fa",
   "metadata": {},
   "outputs": [
    {
     "name": "stdout",
     "output_type": "stream",
     "text": [
      "2023-02-17 08:19:28,076\tWARNING services.py:597 -- setpgrp failed, processes may not be cleaned up properly: [Errno 1] Operation not permitted.\n",
      "2023-02-17 08:19:28,076\tINFO resource_spec.py:216 -- Starting Ray with 24.41 GiB memory available for workers and up to 12.23 GiB for objects. You can adjust these settings with ray.init(memory=<bytes>, object_store_memory=<bytes>).\n",
      "2023-02-17 08:19:28,463\tINFO trainer.py:371 -- Tip: set 'eager': true or the --eager flag to enable TensorFlow eager execution\n",
      "2023-02-17 08:19:28,485\tINFO trainer.py:512 -- Current log_level is WARN. For more information, set 'log_level': 'INFO' / 'DEBUG' or use the -v and -vv flags.\n",
      "2023-02-17 08:19:34,485\tWARNING util.py:45 -- Install gputil for GPU system monitoring.\n",
      "2023-02-17 08:19:34,585\tINFO trainable.py:346 -- Restored from checkpoint: /home/stars-server/ray_results/density_aware_rl/PPO_DensityAwareRLEnv-v0_1214df80_2023-02-16_20-09-12ih2of7m0/checkpoint_20/checkpoint-20\n",
      "2023-02-17 08:19:34,585\tINFO trainable.py:353 -- Current state after restoring: {'_iteration': 20, '_timesteps_total': 2400000, '_time_total': 12528.34380364418, '_episodes_total': 400}\n",
      "\n",
      "-----------------------\n",
      "ring length: 261\n",
      "-----------------------\n",
      "Round 0, Return: 15265.426929121342\n",
      "==== Summary of results ====\n",
      "Return:\n",
      "[3.356884561812458]\n",
      "[15265.426929121342]\n",
      "Average, std: 15265.426929121342, 0.0\n",
      "\n",
      "Speed, mean (m/s):\n",
      "[3.356884561812458]\n",
      "Average, std: 3.356884561812458, 0.0\n",
      "\n",
      "Speed, std (m/s):\n",
      "[0.3307324777757944]\n",
      "Average, std: 0.3307324777757944, 0.0\n",
      "\n",
      "Outflows (veh/hr):\n",
      "[0.0]\n",
      "Average, std: 0.0, 0.0\n",
      "Inflows (veh/hr):\n",
      "[0.0]\n",
      "Average, std: 0.0, 0.0\n",
      "Throughput efficiency (veh/hr):\n",
      "[0]\n",
      "Average, std: 0.0, 0.0\n"
     ]
    }
   ],
   "source": [
    "!python flow/visualize/visualizer_rllib.py \\\n",
    "~/ray_results/density_aware_rl/PPO_DensityAwareRLEnv-v0_1214df80_2023-02-16_20-09-12ih2of7m0 20\n"
   ]
  },
  {
   "cell_type": "code",
   "execution_count": 47,
   "id": "43399422",
   "metadata": {},
   "outputs": [
    {
     "name": "stdout",
     "output_type": "stream",
     "text": [
      "2023-02-17 08:26:52,670\tWARNING services.py:597 -- setpgrp failed, processes may not be cleaned up properly: [Errno 1] Operation not permitted.\n",
      "2023-02-17 08:26:52,670\tINFO resource_spec.py:216 -- Starting Ray with 24.85 GiB memory available for workers and up to 12.43 GiB for objects. You can adjust these settings with ray.init(memory=<bytes>, object_store_memory=<bytes>).\n",
      "2023-02-17 08:26:53,194\tINFO trainer.py:371 -- Tip: set 'eager': true or the --eager flag to enable TensorFlow eager execution\n",
      "2023-02-17 08:26:53,208\tINFO trainer.py:512 -- Current log_level is WARN. For more information, set 'log_level': 'INFO' / 'DEBUG' or use the -v and -vv flags.\n",
      "2023-02-17 08:26:59,145\tWARNING util.py:45 -- Install gputil for GPU system monitoring.\n",
      "2023-02-17 08:26:59,250\tINFO trainable.py:346 -- Restored from checkpoint: /home/stars-server/ray_results/density_aware_rl/PPO_DensityAwareRLEnv-v0_0c69044e_2023-02-16_20-09-02_hr77yxn/checkpoint_64/checkpoint-64\n",
      "2023-02-17 08:26:59,251\tINFO trainable.py:353 -- Current state after restoring: {'_iteration': 64, '_timesteps_total': 7680000, '_time_total': 40362.94410061836, '_episodes_total': 1279}\n",
      "\n",
      "-----------------------\n",
      "ring length: 220\n",
      "-----------------------\n",
      "Round 0, Return: 8793.989053299158\n",
      "==== Summary of results ====\n",
      "Return:\n",
      "[1.8621922835433269]\n",
      "[8793.989053299158]\n",
      "Average, std: 8793.989053299158, 0.0\n",
      "\n",
      "Speed, mean (m/s):\n",
      "[1.8621922835433269]\n",
      "Average, std: 1.8621922835433269, 0.0\n",
      "\n",
      "Speed, std (m/s):\n",
      "[0.862962345752011]\n",
      "Average, std: 0.862962345752011, 0.0\n",
      "\n",
      "Outflows (veh/hr):\n",
      "[0.0]\n",
      "Average, std: 0.0, 0.0\n",
      "Inflows (veh/hr):\n",
      "[0.0]\n",
      "Average, std: 0.0, 0.0\n",
      "Throughput efficiency (veh/hr):\n",
      "[0]\n",
      "Average, std: 0.0, 0.0\n"
     ]
    }
   ],
   "source": [
    "!python flow/visualize/visualizer_rllib.py \\\n",
    "~/ray_results/density_aware_rl/PPO_DensityAwareRLEnv-v0_0c69044e_2023-02-16_20-09-02_hr77yxn 64\n"
   ]
  },
  {
   "cell_type": "code",
   "execution_count": 55,
   "id": "28704e0b",
   "metadata": {},
   "outputs": [
    {
     "name": "stdout",
     "output_type": "stream",
     "text": [
      "2023-02-17 16:34:14,793\tWARNING services.py:597 -- setpgrp failed, processes may not be cleaned up properly: [Errno 1] Operation not permitted.\n",
      "2023-02-17 16:34:14,794\tINFO resource_spec.py:216 -- Starting Ray with 26.86 GiB memory available for workers and up to 13.45 GiB for objects. You can adjust these settings with ray.init(memory=<bytes>, object_store_memory=<bytes>).\n",
      "2023-02-17 16:34:15,204\tINFO trainer.py:371 -- Tip: set 'eager': true or the --eager flag to enable TensorFlow eager execution\n",
      "2023-02-17 16:34:15,216\tINFO trainer.py:512 -- Current log_level is WARN. For more information, set 'log_level': 'INFO' / 'DEBUG' or use the -v and -vv flags.\n",
      "2023-02-17 16:34:19,812\tWARNING util.py:45 -- Install gputil for GPU system monitoring.\n",
      "2023-02-17 16:34:19,887\tINFO trainable.py:346 -- Restored from checkpoint: /home/stars-server/ray_results/density_aware_rl/PPO_DensityAwareRLEnv-v0_cb968faa_2023-02-17_08-31-417qb0l96h/checkpoint_44/checkpoint-44\n",
      "2023-02-17 16:34:19,887\tINFO trainable.py:353 -- Current state after restoring: {'_iteration': 44, '_timesteps_total': 5280000, '_time_total': 28115.94588160515, '_episodes_total': 879}\n",
      "\n",
      "-----------------------\n",
      "ring length: 261\n",
      "-----------------------\n",
      "Traceback (most recent call last):\n",
      "  File \"flow/visualize/visualizer_rllib.py\", line 386, in <module>\n",
      "    visualizer_rllib(args)\n",
      "  File \"flow/visualize/visualizer_rllib.py\", line 230, in visualizer_rllib\n",
      "    state, reward, done, _ = env.step(action)\n",
      "  File \"/home/stars-server/Desktop/flow/flow/envs/base.py\", line 369, in step\n",
      "    self.k.simulation.simulation_step()\n",
      "  File \"/home/stars-server/Desktop/flow/flow/core/kernel/simulation/traci.py\", line 92, in simulation_step\n",
      "    self.kernel_api.simulationStep()\n",
      "  File \"/home/stars-server/anaconda3/envs/flow/lib/python3.7/site-packages/traci/connection.py\", line 323, in simulationStep\n",
      "    result = self._sendExact()\n",
      "  File \"/home/stars-server/anaconda3/envs/flow/lib/python3.7/site-packages/traci/connection.py\", line 99, in _sendExact\n",
      "    raise FatalTraCIError(\"connection closed by SUMO\")\n",
      "traci.exceptions.FatalTraCIError: connection closed by SUMO\n"
     ]
    }
   ],
   "source": [
    "!python flow/visualize/visualizer_rllib.py \\\n",
    "~/ray_results/density_aware_rl/PPO_DensityAwareRLEnv-v0_cb968faa_2023-02-17_08-31-417qb0l96h 44\n"
   ]
  },
  {
   "cell_type": "code",
   "execution_count": null,
   "id": "41e92ce0",
   "metadata": {},
   "outputs": [],
   "source": []
  }
 ],
 "metadata": {
  "kernelspec": {
   "display_name": "Python 3 (ipykernel)",
   "language": "python",
   "name": "python3"
  },
  "language_info": {
   "codemirror_mode": {
    "name": "ipython",
    "version": 3
   },
   "file_extension": ".py",
   "mimetype": "text/x-python",
   "name": "python",
   "nbconvert_exporter": "python",
   "pygments_lexer": "ipython3",
   "version": "3.7.3"
  }
 },
 "nbformat": 4,
 "nbformat_minor": 5
}
