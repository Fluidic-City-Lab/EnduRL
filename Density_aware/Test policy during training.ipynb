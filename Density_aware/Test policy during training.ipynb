{
 "cells": [
  {
   "cell_type": "code",
   "execution_count": 7,
   "id": "37721a27",
   "metadata": {
    "scrolled": false
   },
   "outputs": [
    {
     "name": "stdout",
     "output_type": "stream",
     "text": [
      "2023-02-23 15:31:37,787\tWARNING services.py:597 -- setpgrp failed, processes may not be cleaned up properly: [Errno 1] Operation not permitted.\n",
      "2023-02-23 15:31:37,788\tINFO resource_spec.py:216 -- Starting Ray with 1.9 GiB memory available for workers and up to 0.96 GiB for objects. You can adjust these settings with ray.init(memory=<bytes>, object_store_memory=<bytes>).\n",
      "2023-02-23 15:31:38,105\tINFO trainer.py:371 -- Tip: set 'eager': true or the --eager flag to enable TensorFlow eager execution\n",
      "2023-02-23 15:31:38,107\tINFO trainer.py:512 -- Current log_level is WARN. For more information, set 'log_level': 'INFO' / 'DEBUG' or use the -v and -vv flags.\n",
      "2023-02-23 15:31:41,261\tWARNING util.py:45 -- Install gputil for GPU system monitoring.\n",
      "2023-02-23 15:31:41,308\tINFO trainable.py:346 -- Restored from checkpoint: /home/bibek/ray_results/density_aware_rl/PPO_DensityAwareRLEnv-v0_654ed6b0_2023-02-23_11-27-494br392zo/checkpoint_6/checkpoint-6\n",
      "2023-02-23 15:31:41,308\tINFO trainable.py:353 -- Current state after restoring: {'_iteration': 6, '_timesteps_total': 720000, '_time_total': 2384.49067234993, '_episodes_total': 120}\n",
      "\n",
      "-----------------------\n",
      "ring length: 267\n",
      "-----------------------\n",
      "Traceback (most recent call last):\n",
      "  File \"../flow/visualize/visualizer_rllib.py\", line 386, in <module>\n",
      "    visualizer_rllib(args)\n",
      "  File \"../flow/visualize/visualizer_rllib.py\", line 230, in visualizer_rllib\n",
      "    state, reward, done, _ = env.step(action)\n",
      "  File \"/home/bibek/Desktop/flow/flow/envs/base.py\", line 369, in step\n",
      "    self.k.simulation.simulation_step()\n",
      "  File \"/home/bibek/Desktop/flow/flow/core/kernel/simulation/traci.py\", line 92, in simulation_step\n",
      "    self.kernel_api.simulationStep()\n",
      "  File \"/home/bibek/anaconda3/envs/flow/lib/python3.7/site-packages/traci/connection.py\", line 323, in simulationStep\n",
      "    result = self._sendExact()\n",
      "  File \"/home/bibek/anaconda3/envs/flow/lib/python3.7/site-packages/traci/connection.py\", line 99, in _sendExact\n",
      "    raise FatalTraCIError(\"connection closed by SUMO\")\n",
      "traci.exceptions.FatalTraCIError: connection closed by SUMO\n"
     ]
    }
   ],
   "source": [
    "!python ../flow/visualize/visualizer_rllib.py \\\n",
    "~/ray_results/density_aware_rl/PPO_DensityAwareRLEnv-v0_654ed6b0_2023-02-23_11-27-494br392zo 6"
   ]
  },
  {
   "cell_type": "code",
   "execution_count": null,
   "id": "8bb20173",
   "metadata": {},
   "outputs": [],
   "source": []
  }
 ],
 "metadata": {
  "kernelspec": {
   "display_name": "Python 3",
   "language": "python",
   "name": "python3"
  },
  "language_info": {
   "codemirror_mode": {
    "name": "ipython",
    "version": 3
   },
   "file_extension": ".py",
   "mimetype": "text/x-python",
   "name": "python",
   "nbconvert_exporter": "python",
   "pygments_lexer": "ipython3",
   "version": "3.6.9"
  }
 },
 "nbformat": 4,
 "nbformat_minor": 5
}
