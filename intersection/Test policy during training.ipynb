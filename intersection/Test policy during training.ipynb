{
 "cells": [
  {
   "cell_type": "code",
   "execution_count": null,
   "id": "37721a27",
   "metadata": {
    "scrolled": true
   },
   "outputs": [
    {
     "name": "stdout",
     "output_type": "stream",
     "text": [
      "2023-11-26 12:54:48,740\tWARNING services.py:597 -- setpgrp failed, processes may not be cleaned up properly: [Errno 1] Operation not permitted.\n",
      "2023-11-26 12:54:48,741\tINFO resource_spec.py:216 -- Starting Ray with 32.91 GiB memory available for workers and up to 16.46 GiB for objects. You can adjust these settings with ray.init(memory=<bytes>, object_store_memory=<bytes>).\n",
      "Inflows [{'begin': 1, 'departLane': 'free', 'departSpeed': 12, 'edge': 'left1_0', 'end': 86400, 'name': 'flow_0', 'vehsPerHour': 600.0000000000001, 'vtype': 'human'}, {'begin': 1, 'departLane': 'free', 'departSpeed': 12, 'edge': 'left1_0', 'end': 86400, 'name': 'flow_1', 'vehsPerHour': 150.00000000000003, 'vtype': 'rl'}, {'begin': 1, 'departLane': 'free', 'departSpeed': 12, 'edge': 'right0_0', 'end': 86400, 'name': 'flow_2', 'vehsPerHour': 600.0000000000001, 'vtype': 'human'}, {'begin': 1, 'departLane': 'free', 'departSpeed': 12, 'edge': 'right0_0', 'end': 86400, 'name': 'flow_3', 'vehsPerHour': 150.00000000000003, 'vtype': 'rl'}, {'begin': 1, 'departLane': 'free', 'departSpeed': 12, 'edge': 'bot0_0', 'end': 86400, 'name': 'flow_4', 'vehsPerHour': 250.0, 'vtype': 'human'}, {'begin': 1, 'departLane': 'free', 'departSpeed': 12, 'edge': 'top0_1', 'end': 86400, 'name': 'flow_5', 'vehsPerHour': 250.0, 'vtype': 'human'}]\n",
      "New inflows [{'begin': 1, 'departLane': 'free', 'departSpeed': 12, 'edge': 'left1_0', 'end': 86400, 'name': 'flow_0', 'vehsPerHour': 600, 'vtype': 'human'}, {'begin': 1, 'departLane': 'free', 'departSpeed': 12, 'edge': 'left1_0', 'end': 86400, 'name': 'flow_1', 'vehsPerHour': 150, 'vtype': 'rl'}, {'begin': 1, 'departLane': 'free', 'departSpeed': 12, 'edge': 'right0_0', 'end': 86400, 'name': 'flow_2', 'vehsPerHour': 600, 'vtype': 'human'}, {'begin': 1, 'departLane': 'free', 'departSpeed': 12, 'edge': 'right0_0', 'end': 86400, 'name': 'flow_3', 'vehsPerHour': 150, 'vtype': 'rl'}, {'begin': 1, 'departLane': 'free', 'departSpeed': 12, 'edge': 'bot0_0', 'end': 86400, 'name': 'flow_4', 'vehsPerHour': 250, 'vtype': 'human'}, {'begin': 1, 'departLane': 'free', 'departSpeed': 12, 'edge': 'top0_1', 'end': 86400, 'name': 'flow_5', 'vehsPerHour': 250, 'vtype': 'human'}]\n",
      "2023-11-26 12:54:49,051\tINFO trainer.py:371 -- Tip: set 'eager': true or the --eager flag to enable TensorFlow eager execution\n",
      "2023-11-26 12:54:49,060\tINFO trainer.py:512 -- Current log_level is WARN. For more information, set 'log_level': 'INFO' / 'DEBUG' or use the -v and -vv flags.\n",
      "2023-11-26 12:54:51,855\tWARNING util.py:45 -- Install gputil for GPU system monitoring.\n",
      "2023-11-26 12:54:51,893\tINFO trainable.py:346 -- Restored from checkpoint: /mnt/c/Users/09_gi/Desktop/Beyond-Simulated-Drivers/intersection/Villarreal_et_al/Trained_policies/inflow_1000/PPO_IntersectionRLPOEnv-v0_9a601ff2_2023-11-23_17-35-28q6olyj3t/checkpoint_100/checkpoint-100\n",
      "2023-11-26 12:54:51,893\tINFO trainable.py:353 -- Current state after restoring: {'_iteration': 100, '_timesteps_total': 2500000, '_time_total': 3162.4344210624695, '_episodes_total': 997}\n"
     ]
    }
   ],
   "source": [
    "NUM_ROLLOUTS = 1\n",
    "CHECKPOINT = 100 \n",
    "\n",
    "!python test_rllib.py /mnt/c/Users/09_gi/Desktop/Beyond-Simulated-Drivers/intersection/Villarreal_et_al/Trained_policies/inflow_1000/PPO_IntersectionRLPOEnv-v0_9a601ff2_2023-11-23_17-35-28q6olyj3t $CHECKPOINT\\\n",
    "--method villarreal --render --shock --num_rollouts $NUM_ROLLOUTS\n"
   ]
  },
  {
   "cell_type": "code",
   "execution_count": null,
   "id": "0e1b8dc5",
   "metadata": {},
   "outputs": [],
   "source": [
    "!python visualizer_rllib.py --help"
   ]
  },
  {
   "cell_type": "code",
   "execution_count": null,
   "id": "e0604ab8",
   "metadata": {},
   "outputs": [],
   "source": []
  }
 ],
 "metadata": {
  "kernelspec": {
   "display_name": "Python 3 (ipykernel)",
   "language": "python",
   "name": "python3"
  },
  "language_info": {
   "codemirror_mode": {
    "name": "ipython",
    "version": 3
   },
   "file_extension": ".py",
   "mimetype": "text/x-python",
   "name": "python",
   "nbconvert_exporter": "python",
   "pygments_lexer": "ipython3",
   "version": "3.7.3"
  }
 },
 "nbformat": 4,
 "nbformat_minor": 5
}
