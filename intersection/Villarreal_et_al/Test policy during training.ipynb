{
 "cells": [
  {
   "cell_type": "code",
   "execution_count": 2,
   "id": "37721a27",
   "metadata": {
    "scrolled": true
   },
   "outputs": [
    {
     "name": "stdout",
     "output_type": "stream",
     "text": [
      "2024-01-30 17:03:59,463\tWARNING services.py:597 -- setpgrp failed, processes may not be cleaned up properly: [Errno 1] Operation not permitted.\n",
      "2024-01-30 17:03:59,463\tINFO resource_spec.py:216 -- Starting Ray with 30.57 GiB memory available for workers and up to 15.31 GiB for objects. You can adjust these settings with ray.init(memory=<bytes>, object_store_memory=<bytes>).\n",
      "Traceback (most recent call last):\n",
      "  File \"test_rllib.py\", line 568, in <module>\n",
      "    visualizer_rllib(args)\n",
      "  File \"test_rllib.py\", line 88, in visualizer_rllib\n",
      "    config = get_rllib_config(result_dir)\n",
      "  File \"/mnt/c/Users/09_gi/Desktop/Beyond-Simulated-Drivers/flow/utils/rllib.py\", line 202, in get_rllib_config\n",
      "    \"Could not find params.json in either the checkpoint dir or \"\n",
      "ValueError: Could not find params.json in either the checkpoint dir or its parent directory.\n"
     ]
    }
   ],
   "source": [
    "NUM_ROLLOUTS = 1\n",
    "CHECKPOINT = 50 \n",
    "\n",
    "# At test time the inflow is set from common args\n",
    "\n",
    "# Trained at inflow 1400\n",
    "!python test_rllib.py /mnt/c/Users/09_gi/Desktop/Beyond-Simulated-Drivers/intersection/Villarreal_et_al/Trained_policies/PPO_IntersectionRLPOEnv-v0_40148cda_2023-12-17_00-00-51demh56g9 $CHECKPOINT\\\n",
    "--method villarreal --render --shock --num_rollouts $NUM_ROLLOUTS\n",
    "\n"
   ]
  },
  {
   "cell_type": "code",
   "execution_count": null,
   "id": "0e1b8dc5",
   "metadata": {},
   "outputs": [],
   "source": [
    "!python visualizer_rllib.py --help"
   ]
  },
  {
   "cell_type": "code",
   "execution_count": 3,
   "id": "e0604ab8",
   "metadata": {},
   "outputs": [
    {
     "name": "stdout",
     "output_type": "stream",
     "text": [
      "2024-01-30 17:04:37,068\tWARNING services.py:597 -- setpgrp failed, processes may not be cleaned up properly: [Errno 1] Operation not permitted.\n",
      "2024-01-30 17:04:37,068\tINFO resource_spec.py:216 -- Starting Ray with 30.62 GiB memory available for workers and up to 15.31 GiB for objects. You can adjust these settings with ray.init(memory=<bytes>, object_store_memory=<bytes>).\n",
      "Traceback (most recent call last):\n",
      "  File \"test_rllib.py\", line 568, in <module>\n",
      "    visualizer_rllib(args)\n",
      "  File \"test_rllib.py\", line 88, in visualizer_rllib\n",
      "    config = get_rllib_config(result_dir)\n",
      "  File \"/mnt/c/Users/09_gi/Desktop/Beyond-Simulated-Drivers/flow/utils/rllib.py\", line 202, in get_rllib_config\n",
      "    \"Could not find params.json in either the checkpoint dir or \"\n",
      "ValueError: Could not find params.json in either the checkpoint dir or its parent directory.\n"
     ]
    }
   ],
   "source": [
    "NUM_ROLLOUTS = 1\n",
    "CHECKPOINT = 126\n",
    "\n",
    "!python test_rllib.py /mnt/c/Users/09_gi/Desktop/Beyond-Simulated-Drivers/intersection/Ours/Trained_policies/PPO_DensityAwareIntersectionEnv-v1_6e371cc0_2024-01-30_12-38-512uususgb $CHECKPOINT\\\n",
    "--method ours --render --num_rollouts $NUM_ROLLOUTS\n"
   ]
  },
  {
   "cell_type": "code",
   "execution_count": null,
   "id": "dfc8718b",
   "metadata": {},
   "outputs": [],
   "source": []
  }
 ],
 "metadata": {
  "kernelspec": {
   "display_name": "Python 3 (ipykernel)",
   "language": "python",
   "name": "python3"
  },
  "language_info": {
   "codemirror_mode": {
    "name": "ipython",
    "version": 3
   },
   "file_extension": ".py",
   "mimetype": "text/x-python",
   "name": "python",
   "nbconvert_exporter": "python",
   "pygments_lexer": "ipython3",
   "version": "3.7.3"
  }
 },
 "nbformat": 4,
 "nbformat_minor": 5
}
